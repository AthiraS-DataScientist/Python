{
  "cells": [
    {
      "cell_type": "markdown",
      "metadata": {
        "id": "wN8Oom8TtUcj"
      },
      "source": [
        "# What is Production Environment?\n",
        "\n",
        "Production environment is a term used mostly by developers to describe the setting where software and other products are actually put into operation for their intended uses by end users.\n",
        "\n",
        "Concepts that will be useful in writing production grade code:\n",
        "* Object Oriented Programming\n",
        "* Handling Errors and Exceptions"
      ]
    },
    {
      "cell_type": "markdown",
      "source": [
        " It aims to implement real-world entities like inheritance, polymorphisms, encapsulation, etc. in the programming. The main concept of OOPs is to bind the data and the functions that work on that together as a single unit so that no other part of the code can access this data.\n",
        "\n",
        "#1. OOPs Concepts in PythonClass\n",
        "\n",
        "Objects\n",
        "\n",
        "Polymorphism\n",
        "\n",
        "Encapsulation\n",
        "\n",
        "Inheritance\n",
        "\n"
      ],
      "metadata": {
        "id": "y3lGarx3iVYd"
      }
    },
    {
      "cell_type": "markdown",
      "source": [
        "#Python Class\n",
        "A class is a collection of objects. A class contains the blueprints or the prototype from which the objects are being created. It is a logical entity that contains some attributes and methods.\n",
        "\n",
        "To understand the need for creating a class let’s consider an example, let’s say you wanted to track the number of dogs that may have different attributes like breed, and age. If a list is used, the first element could be the dog’s breed while the second element could represent its age. Let’s suppose there are 100 different dogs, then how would you know which element is supposed to be which? What if you wanted to add other properties to these dogs? This lacks organization and it’s the exact need for classes.\n",
        "\n",
        "Some points on Python class:  "
      ],
      "metadata": {
        "id": "46EpQqNvi2Pq"
      }
    },
    {
      "cell_type": "markdown",
      "source": [
        "- Classes are created by keyword 'class'.\n",
        "- Attributes are the variables that belong to a class.\n",
        "- Attributes are always public and can be accessed using the dot (.) operator. Eg.: Myclass.Myattribute\n",
        "\n",
        "#Class Definition Syntax:\n",
        "\n",
        "class ClassName:\n",
        "\n",
        "     Statement-1\n",
        "\n",
        "   .\n",
        "\n",
        "   .\n",
        "\n",
        "   .\n",
        "\n",
        "     Statement-N\n",
        "\n",
        "#Creating an Empty Class in Python"
      ],
      "metadata": {
        "id": "09Vuy4sOjEWG"
      }
    },
    {
      "cell_type": "code",
      "source": [
        "class Dog:\n",
        "\tpass"
      ],
      "metadata": {
        "id": "IjFGc9a2jvlV"
      },
      "execution_count": null,
      "outputs": []
    },
    {
      "cell_type": "markdown",
      "source": [
        "#Python Objects\n",
        "The object is an entity that has a state and behavior associated with it. It may be any real-world object like a mouse, keyboard, chair, table, pen, etc. Integers, strings, floating-point numbers, even arrays, and dictionaries, are all objects. More specifically, any single integer or any single string is an object. The number 12 is an object, the string “Hello, world” is an object, a list is an object that can hold other objects, and so on. You’ve been using objects all along and may not even realize it.\n",
        "\n",
        "An object consists of:\n",
        "\n",
        "- State: It is represented by the attributes of an object. It also reflects the properties of an object.\n",
        "- Behavior: It is represented by the methods of an object. It also reflects the response of an object to other objects.\n",
        "- Identity: It gives a unique name to an object and enables one object to interact with other objects.\n",
        "\n",
        "To understand the state, behavior, and identity let us take the example of the class dog.\n",
        "\n",
        "- The identity can be considered as the name of the dog.\n",
        "- State or Attributes can be considered as the breed, age, or color of the dog.\n",
        "- The behavior can be considered as to whether the dog is eating or sleeping.\n",
        "\n",
        "#Creating an Object:\n",
        "\n",
        "This will create an object named obj of the class Dog defined above. Before diving deep into objects and classes let us understand some basic keywords that will we used while working with objects and classes."
      ],
      "metadata": {
        "id": "Y5hJ32ZhkEk2"
      }
    },
    {
      "cell_type": "code",
      "source": [
        "obj = Dog()"
      ],
      "metadata": {
        "id": "7I_9O7q1jy7y"
      },
      "execution_count": null,
      "outputs": []
    },
    {
      "cell_type": "markdown",
      "source": [
        "#The Python self  \n",
        "- Class methods must have an extra first parameter in the method definition. We do not give a value for this parameter when we call the method, Python provides it\n",
        "- If we have a method that takes no arguments, then we still have to have one argument.\n",
        "- This is similar to this pointer in C++ and this reference in Java.\n",
        "\n",
        "When we call a method of this object as myobject.method(arg1, arg2), this is automatically converted by Python into MyClass.method(myobject, arg1, arg2) – this is all the special self is about."
      ],
      "metadata": {
        "id": "vcsFL4bFkogP"
      }
    },
    {
      "cell_type": "markdown",
      "source": [
        "#The Python _ _ _init__ _ Method\n",
        "The _ _ _init__ _ method is similar to constructors in C++ and Java. It is run as soon as an object of a class is instantiated. The method is useful to do any initialization you want to do with your object. Now let us define a class and create some objects using the self and  _ _ _init__ _  method."
      ],
      "metadata": {
        "id": "skEVSN0il2I9"
      }
    },
    {
      "cell_type": "markdown",
      "source": [
        "#Creating a class and object with class and instance attributes"
      ],
      "metadata": {
        "id": "VdF8Vox_nA5h"
      }
    },
    {
      "cell_type": "code",
      "source": [
        "class Dog:\n",
        "\n",
        "\t# class attribute\n",
        "\tattr1 = \"mammal\"\n",
        "\n",
        "\t# Instance attribute\n",
        "\tdef __init__(self, name):\n",
        "\t\tself.name = name\n",
        "\n",
        "# Driver code\n",
        "# Object instantiation\n",
        "Rodger = Dog(\"Rodger\")\n",
        "Tommy = Dog(\"Tommy\")\n",
        "\n",
        "# Accessing class attributes\n",
        "print(\"Rodger is a\",Rodger.attr1)\n",
        "print(\"Tommy is also a\",Tommy.attr1)\n",
        "\n",
        "# Accessing instance attributes\n",
        "print(\"My name is\",Rodger.name)\n",
        "print(\"My name is\",Tommy.name)"
      ],
      "metadata": {
        "colab": {
          "base_uri": "https://localhost:8080/"
        },
        "id": "vMhkDTL3nPfT",
        "outputId": "f345d7d4-e4aa-4fd2-b58a-5df6d7f3e44c"
      },
      "execution_count": null,
      "outputs": [
        {
          "output_type": "stream",
          "name": "stdout",
          "text": [
            "Rodger is a mammal\n",
            "Tommy is also a mammal\n",
            "My name is Rodger\n",
            "My name is Tommy\n"
          ]
        }
      ]
    },
    {
      "cell_type": "markdown",
      "source": [
        "Creating Classes and objects with methods\n",
        "Here, The Dog class is defined with two attributes:\n",
        "\n",
        "- attr1 is a class attribute set to the value “mammal”. Class attributes are shared by all instances of the class.\n",
        "- __init__ is a special method (constructor) that initializes an instance of the Dog class. It takes two parameters: self (referring to the instance being created) and name (representing the name of the dog). The name parameter is used to assign a name attribute to each instance of Dog.\n",
        "The speak method is defined within the Dog class. This method prints a string that includes the name of the dog instance.\n",
        "\n",
        "The driver code starts by creating two instances of the Dog class: Rodger and Tommy. The __init__ method is called for each instance to initialize their name attributes with the provided names. The speak method is called in both instances (Rodger.speak() and Tommy.speak()), causing each dog to print a statement with its name."
      ],
      "metadata": {
        "id": "Klj-7SVOnYe1"
      }
    },
    {
      "cell_type": "code",
      "source": [
        "class Dog:\n",
        "\n",
        "\t# class attribute\n",
        "\tattr1 = \"mammal\"\n",
        "\n",
        "\t# Instance attribute\n",
        "\tdef __init__(self, name):\n",
        "\t\tself.name = name\n",
        "\n",
        "\tdef speak(self):\n",
        "\t\tprint(\"My name is\",self.name)\n",
        "\n",
        "# Driver code\n",
        "# Object instantiation\n",
        "Rodger = Dog(\"Rodger\")\n",
        "Tommy = Dog(\"Tommy\")\n",
        "\n",
        "# Accessing class methods\n",
        "Rodger.speak()\n",
        "Tommy.speak()\n",
        "Tommy.attr1"
      ],
      "metadata": {
        "colab": {
          "base_uri": "https://localhost:8080/",
          "height": 70
        },
        "id": "ShWQfO3InpMl",
        "outputId": "a969b435-f733-4062-bb61-8cfdb7ce0054"
      },
      "execution_count": null,
      "outputs": [
        {
          "output_type": "stream",
          "name": "stdout",
          "text": [
            "My name is Rodger\n",
            "My name is Tommy\n"
          ]
        },
        {
          "output_type": "execute_result",
          "data": {
            "text/plain": [
              "'mammal'"
            ],
            "application/vnd.google.colaboratory.intrinsic+json": {
              "type": "string"
            }
          },
          "metadata": {},
          "execution_count": 6
        }
      ]
    },
    {
      "cell_type": "markdown",
      "source": [
        "#WAP class Rectangle with attributes length and width. Add a method area() that returns the area of the rectangle\n",
        "\n",
        "hint: area=length*width"
      ],
      "metadata": {
        "id": "cNf1WJBLoXzm"
      }
    },
    {
      "cell_type": "code",
      "source": [
        "class Rectangle:\n",
        "  def __init__ (self, length, width):\n",
        "    self.length = length\n",
        "    self.width = width\n",
        "\n",
        "  def area(self):\n",
        "    return self.length * self.width\n",
        "\n",
        "rect=Rectangle(5,10)\n",
        "print(rect.area())"
      ],
      "metadata": {
        "colab": {
          "base_uri": "https://localhost:8080/"
        },
        "id": "rv5GQ_uEq5x2",
        "outputId": "50339f11-ccc1-4593-ef5b-70ba58ba6e18"
      },
      "execution_count": null,
      "outputs": [
        {
          "output_type": "stream",
          "name": "stdout",
          "text": [
            "50\n"
          ]
        }
      ]
    },
    {
      "cell_type": "code",
      "source": [
        "rect2=Rectangle(2,5)\n",
        "print(rect2.area())"
      ],
      "metadata": {
        "colab": {
          "base_uri": "https://localhost:8080/"
        },
        "id": "UC_-X5I-skdQ",
        "outputId": "a861b94d-8fd9-4d09-ef12-9212de128dc0"
      },
      "execution_count": null,
      "outputs": [
        {
          "output_type": "stream",
          "name": "stdout",
          "text": [
            "10\n"
          ]
        }
      ]
    },
    {
      "cell_type": "markdown",
      "source": [
        "#WAP class named Car with attributes brand, model, and year. Implement a method display_info() that returns the car details as a formatted string. Then create an object of the class with the values \"Toyota\",\"Corolla\" and 2022 and print the car's information"
      ],
      "metadata": {
        "id": "IfP2U2CRqZsc"
      }
    },
    {
      "cell_type": "code",
      "source": [
        "class Car:\n",
        "  def __init__(self, brand, model, year):\n",
        "    self.brand = brand\n",
        "    self.model = model\n",
        "    self.year = year\n",
        "  def display_info(self):\n",
        "    print(f\"Brand: {self.brand}\")\n",
        "    print(f\"Model: {self.model}\")\n",
        "    print(f\"Year: {self.year}\")\n",
        "\n",
        "car = Car(\"Toyota\", \"Corolla\", 2022)\n",
        "car.display_info()"
      ],
      "metadata": {
        "colab": {
          "base_uri": "https://localhost:8080/"
        },
        "id": "uiwqplacxb0C",
        "outputId": "07e8835a-35d2-47c4-b6d0-b65846e87406"
      },
      "execution_count": null,
      "outputs": [
        {
          "output_type": "stream",
          "name": "stdout",
          "text": [
            "Brand: Toyota\n",
            "Model: Corolla\n",
            "Year: 2022\n"
          ]
        }
      ]
    },
    {
      "cell_type": "markdown",
      "source": [
        "WAP to Create a class named Student with attributes name and age. Initialize these attributes using a constructor.\n",
        "\n",
        "Additionally, add the following methods:\n",
        "\n",
        "1. display_details() – Displays the student's name and age.\n",
        "\n",
        "\n",
        "2. set_grade(grade) – Sets the student's grade.\n",
        "\n",
        "\n",
        "3. get_grade() – Returns the student's grade.\n",
        "\n",
        "\n",
        "4. is_adult() – Returns True if the student is 18 or older, otherwise False.\n",
        "\n",
        "\n",
        "\n",
        "Create an object of the Student class, set a grade, and display all details."
      ],
      "metadata": {
        "id": "X1QANEwWxz2J"
      }
    },
    {
      "cell_type": "code",
      "source": [
        "class Student:\n",
        "  def __init__(self, name, age):\n",
        "    self.name = name\n",
        "    self.age = age\n",
        "  def display_details(self):\n",
        "    print(f\"Name: {self.name}\")\n",
        "    print(f\"Age: {self.age}\")\n",
        "  def set_grade(self, grade):\n",
        "    self.grade = grade\n",
        "    return self.grade\n",
        "  def get_grade(self):\n",
        "    return self.grade\n",
        "  def is_adult(self):\n",
        "    return self.age >= 18\n",
        "\n",
        "student1=Student(\"John\", 17)\n",
        "student1.display_details()"
      ],
      "metadata": {
        "colab": {
          "base_uri": "https://localhost:8080/"
        },
        "id": "OgGoh00WxziO",
        "outputId": "4a612e3b-f641-4d64-dd48-9067cc8dc4cb"
      },
      "execution_count": null,
      "outputs": [
        {
          "output_type": "stream",
          "name": "stdout",
          "text": [
            "Name: John\n",
            "Age: 17\n"
          ]
        }
      ]
    },
    {
      "cell_type": "code",
      "source": [
        "student1.is_adult()"
      ],
      "metadata": {
        "colab": {
          "base_uri": "https://localhost:8080/"
        },
        "id": "qOi81F3I5Kn1",
        "outputId": "a92e58b5-5fea-4798-eaa4-a103308132af"
      },
      "execution_count": null,
      "outputs": [
        {
          "output_type": "execute_result",
          "data": {
            "text/plain": [
              "False"
            ]
          },
          "metadata": {},
          "execution_count": 23
        }
      ]
    },
    {
      "cell_type": "code",
      "source": [
        "student1.set_grade(\"A\")"
      ],
      "metadata": {
        "colab": {
          "base_uri": "https://localhost:8080/",
          "height": 35
        },
        "id": "FkOFynj85DZT",
        "outputId": "907fcf63-da96-4d28-9fd4-189fb505a638"
      },
      "execution_count": null,
      "outputs": [
        {
          "output_type": "execute_result",
          "data": {
            "text/plain": [
              "'A'"
            ],
            "application/vnd.google.colaboratory.intrinsic+json": {
              "type": "string"
            }
          },
          "metadata": {},
          "execution_count": 22
        }
      ]
    },
    {
      "cell_type": "markdown",
      "source": [
        "Create a class named BankAccount with the following:\n",
        "\n",
        "Attributes: account_holder, balance (initialized to 0).\n",
        "\n",
        "Methods:\n",
        "\n",
        "1. deposit(amount): Adds the given amount to the balance.\n",
        "\n",
        "\n",
        "2. withdraw(amount): Deducts the given amount if sufficient balance is available.\n",
        "\n",
        "\n",
        "3. display_balance(): Prints the current balance.\n",
        "\n",
        "\n",
        "4. get_account_holder(): Returns the account holder's name."
      ],
      "metadata": {
        "id": "n1UFTKpU3sgb"
      }
    },
    {
      "cell_type": "code",
      "source": [
        "class BankAccount:\n",
        "  def __init__(self, account_holder,balance = 0):\n",
        "    self.account_holder = account_holder\n",
        "    self.balance = balance\n",
        "  def deposit(self, amount):\n",
        "    self.balance += amount\n",
        "    return f\"Deposited: {self.balance}\"\n",
        "  def withdraw(self, amount):\n",
        "    if amount <= self.balance:\n",
        "      self.balance = self.balance-amount\n",
        "      return f\"Withdrew: {self.balance}\"\n",
        "    else:\n",
        "      return \"Insufficient balance\"\n",
        "  def display_balance(self):\n",
        "    return f\"Current Balance: {self.balance}\"\n",
        "  def get_account_holder(self):\n",
        "    return self.account_holder\n",
        "\n",
        "john_account=BankAccount(\"John\")\n",
        "\n",
        "john_account.deposit(1000)"
      ],
      "metadata": {
        "colab": {
          "base_uri": "https://localhost:8080/",
          "height": 35
        },
        "id": "-vzyynbA8XR2",
        "outputId": "e6784b81-20e7-4588-9c7e-811db0d0dbfc"
      },
      "execution_count": null,
      "outputs": [
        {
          "output_type": "execute_result",
          "data": {
            "text/plain": [
              "'Deposited: 1000'"
            ],
            "application/vnd.google.colaboratory.intrinsic+json": {
              "type": "string"
            }
          },
          "metadata": {},
          "execution_count": 31
        }
      ]
    },
    {
      "cell_type": "code",
      "source": [
        "john_account.withdraw(500)"
      ],
      "metadata": {
        "colab": {
          "base_uri": "https://localhost:8080/",
          "height": 35
        },
        "id": "vtfm9ml_-9N1",
        "outputId": "c02754eb-dd86-446e-d7a5-4d03831c33cf"
      },
      "execution_count": null,
      "outputs": [
        {
          "output_type": "execute_result",
          "data": {
            "text/plain": [
              "'Withdrew: 500'"
            ],
            "application/vnd.google.colaboratory.intrinsic+json": {
              "type": "string"
            }
          },
          "metadata": {},
          "execution_count": 32
        }
      ]
    },
    {
      "cell_type": "code",
      "source": [
        "john_account.display_balance()"
      ],
      "metadata": {
        "colab": {
          "base_uri": "https://localhost:8080/",
          "height": 35
        },
        "id": "UqPUcjgO_ho8",
        "outputId": "fc0bf669-dde9-4ce7-f682-0f65104fc52e"
      },
      "execution_count": null,
      "outputs": [
        {
          "output_type": "execute_result",
          "data": {
            "text/plain": [
              "'Current Balance: 500'"
            ],
            "application/vnd.google.colaboratory.intrinsic+json": {
              "type": "string"
            }
          },
          "metadata": {},
          "execution_count": 33
        }
      ]
    },
    {
      "cell_type": "markdown",
      "source": [
        "#Assignment:\n",
        "Book Class (Library System)\n",
        "\n",
        "Question:\n",
        "Create a class named Book with the following:\n",
        "Attributes: title, author, price.\n",
        "Methods:\n",
        "1. display_book(): Displays book details.\n",
        "2. apply_discount(percent): Reduces the price based on a discount percentage.\n",
        "3. get_price(): Returns the updated price."
      ],
      "metadata": {
        "id": "7OmAry9ff-jA"
      }
    },
    {
      "cell_type": "markdown",
      "source": [
        "#Python Inheritance\n",
        "Inheritance is the capability of one class to derive or inherit the properties from another class. The class that derives properties is called the derived class or child class and the class from which the properties are being derived is called the base class or parent class. The benefits of inheritance are:\n",
        "\n",
        "- It represents real-world relationships well.\n",
        "- It provides the reusability of a code. We don’t have to write the same code again and again. Also, it allows us to add more features to a class without modifying it.\n",
        "- It is transitive in nature, which means that if class B inherits from another class A, then all the subclasses of B would automatically inherit from class A."
      ],
      "metadata": {
        "id": "ocEdJo-0nqyt"
      }
    },
    {
      "cell_type": "code",
      "source": [
        "class Animal:\n",
        "    def speak(self):\n",
        "        print(\"Animal makes a sound\")\n",
        "\n",
        "class Dog(Animal):  # Single Inheritance\n",
        "    def bark(self):\n",
        "        print(\"Dog barks\")\n",
        "\n",
        "dog = Dog()\n",
        "dog.speak()  # Inherited method\n",
        "dog.bark()"
      ],
      "metadata": {
        "colab": {
          "base_uri": "https://localhost:8080/"
        },
        "id": "8ANMz1Pkd302",
        "outputId": "56215967-83d7-4634-a7bd-a7458df9aa55"
      },
      "execution_count": null,
      "outputs": [
        {
          "output_type": "stream",
          "name": "stdout",
          "text": [
            "Animal makes a sound\n",
            "Dog barks\n"
          ]
        }
      ]
    },
    {
      "cell_type": "code",
      "source": [
        "# Parent class # this is an eg of both inheritance and polymorphism\n",
        "class Animal:\n",
        "    def __init__(self, name):\n",
        "        self.name = name\n",
        "\n",
        "    def make_sound(self):\n",
        "        return \"Some generic sound\"\n",
        "\n",
        "# Child class inheriting from Animal\n",
        "class Dog(Animal):\n",
        "    def make_sound(self):\n",
        "        return \"Bark\"\n",
        "\n",
        "# Child class inheriting from Animal\n",
        "class Cat(Animal):\n",
        "    def make_sound(self):\n",
        "        return \"Meow\"\n",
        "\n",
        "# Creating instances\n",
        "dog = Dog(\"Buddy\")\n",
        "cat = Cat(\"Whiskers\")\n",
        "\n",
        "print(f\"{dog.name} says {dog.make_sound()}\")\n",
        "print(f\"{cat.name} says {cat.make_sound()}\")"
      ],
      "metadata": {
        "colab": {
          "base_uri": "https://localhost:8080/"
        },
        "id": "V0-jyMpLTZyP",
        "outputId": "966381ad-f5a2-4a10-8f4e-0099953ab471"
      },
      "execution_count": null,
      "outputs": [
        {
          "output_type": "stream",
          "name": "stdout",
          "text": [
            "Buddy says Bark\n",
            "Whiskers says Meow\n"
          ]
        }
      ]
    },
    {
      "cell_type": "markdown",
      "source": [
        "we have created two classes i.e. Person (parent class) and Employee (Child Class). The Employee class inherits from the Person class. We can use the methods of the person class through the employee class as seen in the display function in the above code. A child class can also modify the behavior of the parent class as seen through the details() method.\n",
        "\n",
        "\n"
      ],
      "metadata": {
        "id": "2uHPwsJjoRvN"
      }
    },
    {
      "cell_type": "code",
      "source": [
        "# Python code to demonstrate how parent constructors are called.\n",
        "\n",
        "# parent class\n",
        "class Person(object):\n",
        "\n",
        "\t# __init__ is known as the constructor\n",
        "\tdef __init__(self, name, idnumber):#dunderus\n",
        "\t\tself.name = name\n",
        "\t\tself.idnumber = idnumber\n",
        "\n",
        "\tdef display(self):\n",
        "\t\tprint(self.name)\n",
        "\t\tprint(self.idnumber)\n",
        "\n",
        "\tdef details(self):\n",
        "\t\tprint(\"My name is {}\".format(self.name))\n",
        "\t\tprint(\"IdNumber: {}\".format(self.idnumber))\n",
        "\n",
        "# child class\n",
        "class Employee(Person):\n",
        "\tdef __init__(self, name, idnumber, salary, post):\n",
        "\t\tself.salary = salary\n",
        "\t\tself.post = post\n",
        "\n",
        "\t\t# invoking the __init__ of the parent class\n",
        "\t\tPerson.__init__(self, name, idnumber)\n",
        "\n",
        "\tdef details(self):\n",
        "\t\tprint(\"My name is {}\".format(self.name))\n",
        "\t\tprint(\"IdNumber: {}\".format(self.idnumber))\n",
        "\t\tprint(\"Post: {}\".format(self.post))\n",
        "\n",
        "\n",
        "# creation of an object variable or an instance\n",
        "a = Employee('Rahul', 886012, 200000, \"Intern\")\n",
        "\n",
        "# calling a function of the class Person using\n",
        "# its instance\n",
        "a.display()\n",
        "a.details()"
      ],
      "metadata": {
        "colab": {
          "base_uri": "https://localhost:8080/"
        },
        "id": "glZos5cXoUP3",
        "outputId": "3d53c7cf-ed02-4171-87f8-5aeef02ac18e"
      },
      "execution_count": null,
      "outputs": [
        {
          "output_type": "stream",
          "name": "stdout",
          "text": [
            "Rahul\n",
            "886012\n",
            "My name is Rahul\n",
            "IdNumber: 886012\n",
            "Post: Intern\n"
          ]
        }
      ]
    },
    {
      "cell_type": "markdown",
      "source": [
        "Example 2:"
      ],
      "metadata": {
        "id": "wRCYYTlFTavd"
      }
    },
    {
      "cell_type": "markdown",
      "source": [
        "Example 3:\n"
      ],
      "metadata": {
        "id": "574LRBsjThQJ"
      }
    },
    {
      "cell_type": "code",
      "source": [
        "# Parent class\n",
        "class Vehicle:\n",
        "    def __init__(self, brand, model):\n",
        "        self.brand = brand\n",
        "        self.model = model\n",
        "\n",
        "    def info(self):\n",
        "        return f\"Vehicle: {self.brand} {self.model}\"\n",
        "\n",
        "# Child class inheriting from Vehicle\n",
        "class Car(Vehicle):\n",
        "    def __init__(self, brand, model, doors):\n",
        "        super().__init__(brand, model)  # Call the parent class constructor\n",
        "        self.doors = doors\n",
        "\n",
        "    def info(self):\n",
        "        return f\"Car: {self.brand} {self.model}, Doors: {self.doors}\"\n",
        "\n",
        "# Another child class\n",
        "class Motorcycle(Vehicle):\n",
        "    def __init__(self, brand, model, cc):\n",
        "        super().__init__(brand, model)\n",
        "        self.cc = cc\n",
        "\n",
        "    def info(self):\n",
        "        return f\"Motorcycle: {self.brand} {self.model}, Engine: {self.cc}cc\"\n",
        "\n",
        "# Creating instances\n",
        "car = Car(\"Toyota\", \"Corolla\", 4)\n",
        "motorcycle = Motorcycle(\"Honda\", \"CBR600RR\", 600)\n",
        "\n",
        "print(car.info())\n",
        "print(motorcycle.info())"
      ],
      "metadata": {
        "colab": {
          "base_uri": "https://localhost:8080/"
        },
        "id": "Bsi7EAP2TjUQ",
        "outputId": "2160dcc1-7001-42bb-ecbd-1ed768e81d2d"
      },
      "execution_count": null,
      "outputs": [
        {
          "output_type": "stream",
          "name": "stdout",
          "text": [
            "Car: Toyota Corolla, Doors: 4\n",
            "Motorcycle: Honda CBR600RR, Engine: 600cc\n"
          ]
        }
      ]
    },
    {
      "cell_type": "markdown",
      "source": [
        "#Python Polymorphism\n",
        "Polymorphism simply means having many forms. For example, we need to determine if the given species of birds fly or not, using polymorphism we can do this using a single function.\n",
        "\n",
        "#Polymorphism in Python\n",
        "This code demonstrates the concept of inheritance and method overriding in Python classes. It shows how subclasses can override methods defined in their parent class to provide specific behavior while still inheriting other methods from the parent class."
      ],
      "metadata": {
        "id": "WAT8yKc9oa1k"
      }
    },
    {
      "cell_type": "code",
      "source": [
        "class Bird:\n",
        "    def intro(self):\n",
        "        print(\"There are many types of birds.\")\n",
        "\n",
        "    def flight(self):\n",
        "        print(\"Most of the birds can fly but some cannot.\")\n",
        "\n",
        "class sparrow(Bird):\n",
        "\n",
        "    def flight(self):\n",
        "        print(\"Sparrows can fly.\")\n",
        "\n",
        "class ostrich(Bird):\n",
        "\n",
        "    def flight(self):\n",
        "        print(\"Ostriches cannot fly.\")\n",
        "\n",
        "obj_bird = Bird()\n",
        "obj_spr = sparrow()\n",
        "obj_ost = ostrich()\n",
        "\n",
        "obj_bird.intro()\n",
        "obj_bird.flight()\n",
        "\n",
        "obj_spr.intro()\n",
        "obj_spr.flight()\n",
        "\n",
        "obj_ost.intro()\n",
        "obj_ost.flight()"
      ],
      "metadata": {
        "colab": {
          "base_uri": "https://localhost:8080/"
        },
        "id": "L9OVwc_hom_w",
        "outputId": "bc72b00e-603e-4c97-f741-e82dc541ef8f"
      },
      "execution_count": null,
      "outputs": [
        {
          "output_type": "stream",
          "name": "stdout",
          "text": [
            "There are many types of birds.\n",
            "Most of the birds can fly but some cannot.\n",
            "There are many types of birds.\n",
            "Sparrows can fly.\n",
            "There are many types of birds.\n",
            "Ostriches cannot fly.\n"
          ]
        }
      ]
    },
    {
      "cell_type": "code",
      "source": [
        "class Dog:\n",
        "    def sound(self):\n",
        "        return \"Bark\"\n",
        "\n",
        "class Cat:\n",
        "    def sound(self):\n",
        "        return \"Meow\"\n",
        "\n",
        "# Polymorphism in action\n",
        "def animal_sound(animal):\n",
        "    print(animal.sound())\n",
        "\n",
        "dog = Dog()\n",
        "cat = Cat()\n",
        "\n",
        "animal_sound(dog)\n",
        "animal_sound(cat)"
      ],
      "metadata": {
        "colab": {
          "base_uri": "https://localhost:8080/"
        },
        "id": "4HL8KJhFeKGV",
        "outputId": "f1b054d8-6766-4073-94ad-98e5cd45a177"
      },
      "execution_count": null,
      "outputs": [
        {
          "output_type": "stream",
          "name": "stdout",
          "text": [
            "Bark\n",
            "Meow\n"
          ]
        }
      ]
    },
    {
      "cell_type": "code",
      "source": [
        "# Parent class\n",
        "class Bird:\n",
        "    def make_sound(self):\n",
        "        return \"Some bird sound\"\n",
        "\n",
        "# Child class overriding the method\n",
        "class Sparrow(Bird):\n",
        "    def make_sound(self):\n",
        "        return \"Chirp Chirp\"\n",
        "\n",
        "# Another child class overriding the method\n",
        "class Parrot(Bird):\n",
        "    def make_sound(self):\n",
        "        return \"Squawk\"\n",
        "\n",
        "# Function demonstrating polymorphism\n",
        "def bird_sound(bird):\n",
        "    print(bird.make_sound())\n",
        "\n",
        "# Creating instances\n",
        "sparrow = Sparrow()\n",
        "parrot = Parrot()\n",
        "\n",
        "# Calling the same method but getting different results\n",
        "bird_sound(sparrow)\n",
        "bird_sound(parrot)"
      ],
      "metadata": {
        "colab": {
          "base_uri": "https://localhost:8080/"
        },
        "id": "1Q6Wx-RgT2ah",
        "outputId": "74c4f883-6121-40af-e567-4f3270d2fba8"
      },
      "execution_count": null,
      "outputs": [
        {
          "output_type": "stream",
          "name": "stdout",
          "text": [
            "Chirp Chirp\n",
            "Squawk\n"
          ]
        }
      ]
    },
    {
      "cell_type": "markdown",
      "source": [
        "Example 2:"
      ],
      "metadata": {
        "id": "68OgSksuT4IL"
      }
    },
    {
      "cell_type": "markdown",
      "source": [
        "Example 3:"
      ],
      "metadata": {
        "id": "8GuPlv5DUpep"
      }
    },
    {
      "cell_type": "code",
      "source": [
        "# Parent class\n",
        "class Vehicle:\n",
        "    def fuel_type(self):\n",
        "        pass  # To be overridden by subclasses\n",
        "\n",
        "# Child class: PetrolCar\n",
        "class PetrolCar(Vehicle):\n",
        "    def fuel_type(self):\n",
        "        return \"Petrol\"\n",
        "\n",
        "# Child class: ElectricCar\n",
        "class ElectricCar(Vehicle):\n",
        "    def fuel_type(self):\n",
        "        return \"Electric\"\n",
        "\n",
        "# Child class: HybridCar\n",
        "class HybridCar(Vehicle):\n",
        "    def fuel_type(self):\n",
        "        return \"Petrol & Electric\"\n",
        "\n",
        "# Function demonstrating polymorphism\n",
        "def print_fuel_type(vehicle):\n",
        "    print(f\"{vehicle.__class__.__name__} runs on {vehicle.fuel_type()}.\")\n",
        "\n",
        "# Creating instances\n",
        "petrol_car = PetrolCar()\n",
        "electric_car = ElectricCar()\n",
        "hybrid_car = HybridCar()\n",
        "\n",
        "# Calling the same method (fuel_type) on different objects\n",
        "print_fuel_type(petrol_car)   # Output: PetrolCar runs on Petrol.\n",
        "print_fuel_type(electric_car) # Output: ElectricCar runs on Electric.\n",
        "print_fuel_type(hybrid_car)   # Output: HybridCar runs on Petrol & Electric."
      ],
      "metadata": {
        "colab": {
          "base_uri": "https://localhost:8080/"
        },
        "id": "Bn9v9bbBUsQT",
        "outputId": "3302a902-0d24-4dbd-d1f7-92bfb8655c93"
      },
      "execution_count": null,
      "outputs": [
        {
          "output_type": "stream",
          "name": "stdout",
          "text": [
            "PetrolCar runs on Petrol.\n",
            "ElectricCar runs on Electric.\n",
            "HybridCar runs on Petrol & Electric.\n"
          ]
        }
      ]
    },
    {
      "cell_type": "markdown",
      "source": [
        "#Python Encapsulation\n",
        "Encapsulation is one of the fundamental concepts in object-oriented programming (OOP). It describes the idea of wrapping data and the methods that work on data within one unit. This puts restrictions on accessing variables and methods directly and can prevent the accidental modification of data. To prevent accidental change, an object’s variable can only be changed by an object’s method. Those types of variables are known as private variables.\n",
        "\n",
        "A class is an example of encapsulation as it encapsulates all the data that is member functions, variables, etc."
      ],
      "metadata": {
        "id": "zAKmmuHVopbh"
      }
    },
    {
      "cell_type": "code",
      "source": [
        "class BankAccount:\n",
        "    def __init__(self, account_number, balance):\n",
        "        self.account_number = account_number  # Public\n",
        "        # self._bank_name = \"ABC Bank\"  # Protected\n",
        "        self.__balance = balance  # Private\n",
        "\n",
        "    def get_balance(self):  # Public method to access private variable\n",
        "        return self.__balance\n",
        "\n",
        "acc = BankAccount(12345, 5000)\n",
        "print(acc.account_number)  # Public: Accessible\n",
        "# print(acc._bank_name)  # Protected: Accessible but not recommended\n",
        "# print(acc.__balance)  # Private: Not accessible (AttributeError)\n",
        "\n",
        "print(acc.get_balance())  # Accessing private data via a method"
      ],
      "metadata": {
        "colab": {
          "base_uri": "https://localhost:8080/"
        },
        "id": "lYwGaQ0WeaBJ",
        "outputId": "e51b051a-c596-448a-e8ae-969606bba45c"
      },
      "execution_count": null,
      "outputs": [
        {
          "output_type": "stream",
          "name": "stdout",
          "text": [
            "12345\n",
            "5000\n"
          ]
        }
      ]
    },
    {
      "cell_type": "code",
      "source": [
        "# print(acc.__balance)"
      ],
      "metadata": {
        "id": "SPwqXqwExJuD"
      },
      "execution_count": null,
      "outputs": []
    },
    {
      "cell_type": "code",
      "source": [
        "class Car:\n",
        "    def __init__(self, brand, speed):\n",
        "        self.brand = brand  # Public variable\n",
        "        self.__speed = speed  # Private variable\n",
        "\n",
        "    def get_speed(self):\n",
        "        return self.__speed  # Access private variable\n",
        "\n",
        "    def set_speed(self, speed):\n",
        "        if speed > 0:\n",
        "            self.__speed = speed  # Modify private variable\n",
        "        else:\n",
        "            print(\"Speed must be positive\")\n",
        "\n",
        "car = Car(\"Toyota\", 120)\n",
        "print(car.brand)  # Accessible\n",
        "print(car.get_speed())  # Accessing private variable via method\n",
        "car.set_speed(150)\n",
        "print(car.get_speed())\n",
        "\n",
        "# print(car.__speed)  # This will raise an AttributeError"
      ],
      "metadata": {
        "colab": {
          "base_uri": "https://localhost:8080/"
        },
        "id": "eEQGHU_RdSNY",
        "outputId": "10aefd2a-1f66-4d4e-fe98-e25f9fb96218"
      },
      "execution_count": null,
      "outputs": [
        {
          "output_type": "stream",
          "name": "stdout",
          "text": [
            "Toyota\n",
            "120\n",
            "150\n"
          ]
        }
      ]
    },
    {
      "cell_type": "code",
      "source": [
        "# Creating a Base class\n",
        "class Base:\n",
        "\tdef __init__(self):\n",
        "\t\tself.a = \"Production\"\n",
        "\t\tself.__c = \"Production\"\n",
        "\n",
        "# Creating a derived class\n",
        "class Derived(Base):\n",
        "\tdef __init__(self):\n",
        "\n",
        "\t\t# Calling constructor of\n",
        "\t\t# Base class\n",
        "\t\tBase.__init__(self)\n",
        "\t\tprint(\"Calling private member of base class: \")\n",
        "\t\tprint(self.__c)\n",
        "\n",
        "# Driver code\n",
        "obj1 = Base()\n",
        "print(obj1.a)\n",
        "\n",
        "\n",
        "# Uncommenting print(obj1.c) will\n",
        "# raise an AttributeError\n",
        "\n",
        "# Uncommenting obj2 = Derived() will\n",
        "# also raise an AtrributeError as\n",
        "# private member of base class\n",
        "# is called inside derived class\n"
      ],
      "metadata": {
        "colab": {
          "base_uri": "https://localhost:8080/"
        },
        "id": "n7ItYVWHoz-2",
        "outputId": "97210ee9-ea5f-4524-9b49-64375c4b994f"
      },
      "execution_count": null,
      "outputs": [
        {
          "output_type": "stream",
          "name": "stdout",
          "text": [
            "Production\n"
          ]
        }
      ]
    },
    {
      "cell_type": "markdown",
      "source": [
        " we have created the c variable as the private attribute. We cannot even access this attribute directly and can’t even change its value."
      ],
      "metadata": {
        "id": "EgFi3I6Foayh"
      }
    },
    {
      "cell_type": "markdown",
      "source": [
        "#Data Abstraction\n",
        "It hides unnecessary code details from the user. Also,  when we do not want to give out sensitive parts of our code implementation and this is where data abstraction came."
      ],
      "metadata": {
        "id": "Iq03kVi4pdJD"
      }
    },
    {
      "cell_type": "markdown",
      "source": [],
      "metadata": {
        "id": "s4CzfbjXphH7"
      }
    },
    {
      "cell_type": "markdown",
      "source": [],
      "metadata": {
        "id": "YsP-kbRKrXwI"
      }
    },
    {
      "cell_type": "markdown",
      "source": [],
      "metadata": {
        "id": "d0JHyQKorXoh"
      }
    },
    {
      "cell_type": "markdown",
      "source": [],
      "metadata": {
        "id": "DeLggj_arXk1"
      }
    },
    {
      "cell_type": "markdown",
      "source": [],
      "metadata": {
        "id": "rTj6NezmrXh0"
      }
    },
    {
      "cell_type": "markdown",
      "metadata": {
        "id": "7MVXdj_MGzIO"
      },
      "source": [
        "# 2. Errors and Exception Handling\n",
        "\n",
        "Now we will learn about Errors and Exception Handling in Python. You've definitely already encountered errors by this point in the course. For example:"
      ]
    },
    {
      "cell_type": "code",
      "execution_count": null,
      "metadata": {
        "id": "iRy54of4GuZY"
      },
      "outputs": [],
      "source": [
        "# print(vduzbcjsdb)"
      ]
    },
    {
      "cell_type": "markdown",
      "metadata": {
        "id": "w1zIZO0oSctr"
      },
      "source": [
        "Note how we get a SyntaxError, with the further description that it was an EOL (End of Line Error) while scanning the string literal. This is specific enough for us to see that we forgot a single quote at the end of the line. Understanding these various error types will help you debug your code much faster.\n",
        "\n",
        "This type of error and description is known as an Exception. Even if a statement or expression is syntactically correct, it may cause an error when an attempt is made to execute it. Errors detected during execution are called exceptions and are not unconditionally fatal.\n",
        "\n",
        "You can check out the full list of built-in exceptions [here](https://docs.python.org/3/library/exceptions.html). Now let's learn how to handle errors and exceptions in our own code."
      ]
    },
    {
      "cell_type": "markdown",
      "metadata": {
        "id": "kTa8caFuSezF"
      },
      "source": [
        "## try and except\n",
        "\n",
        "The basic terminology and syntax used to handle errors in Python are the <code>try</code> and <code>except</code> statements. The code which can cause an exception to occur is put in the <code>try</code> block and the handling of the exception is then implemented in the <code>except</code> block of code. The syntax follows:\n",
        "\n",
        "    try:\n",
        "       You do your operations here...\n",
        "       ...\n",
        "    except:\n",
        "       If there is an exception, then execute this block.\n",
        "    else:\n",
        "       If there is no exception then execute this block.\n",
        "\n",
        "To get a better understanding of this let's check out an example:"
      ]
    },
    {
      "cell_type": "code",
      "execution_count": null,
      "metadata": {
        "id": "Ckb2jAAeZlkv",
        "colab": {
          "base_uri": "https://localhost:8080/"
        },
        "outputId": "3873ba7f-96b6-49d4-d631-611cf691604a"
      },
      "outputs": [
        {
          "output_type": "stream",
          "name": "stdout",
          "text": [
            "Good to go!\n",
            "Oops!\n",
            "c\n",
            "d\n"
          ]
        }
      ],
      "source": [
        "try:\n",
        "    print(\"Good to go!\")\n",
        "    print('a', fwdfdm)\n",
        "    print('b')\n",
        "except:\n",
        "    # This will check for any exception and then execute this print statement\n",
        "    print(\"Oops!\")\n",
        "    print('c')\n",
        "    print('d')\n",
        "else:\n",
        "    print(\"No errors encountered!\")\n",
        "    print('e')\n",
        "    print('f')"
      ]
    },
    {
      "cell_type": "markdown",
      "metadata": {
        "id": "1iWZyynISj7-"
      },
      "source": [
        "Great! Now we don't actually need to memorize that list of exception types! Now what if we kept wanting to run code after the exception occurred? This is where <code>finally</code> comes in.\n",
        "## finally\n",
        "The <code>finally:</code> block of code will always be run regardless if there was an exception in the <code>try</code> code block. The syntax is:\n",
        "\n",
        "    try:\n",
        "       Code block here\n",
        "       ...\n",
        "       Due to any exception, this code may be skipped!\n",
        "    finally:\n",
        "       This code block would always be executed.\n",
        "\n",
        "For example:"
      ]
    },
    {
      "cell_type": "code",
      "execution_count": null,
      "metadata": {
        "id": "arY-rn-CGvKS",
        "colab": {
          "base_uri": "https://localhost:8080/"
        },
        "outputId": "adedb648-e40e-4d13-ce4e-ba15ba223079"
      },
      "outputs": [
        {
          "output_type": "stream",
          "name": "stdout",
          "text": [
            "a\n",
            "Always execute finally code blocks\n"
          ]
        }
      ],
      "source": [
        "try:\n",
        "  print('Execute try statements', bujb)\n",
        "except:\n",
        "  print(\"a\")\n",
        "finally:\n",
        "  print(\"Always execute finally code blocks\")"
      ]
    },
    {
      "cell_type": "markdown",
      "metadata": {
        "id": "n-4eDtEnSvI9"
      },
      "source": [
        "We can use this in conjunction with <code>except</code>. Let's see a new example that will take into account a user providing the wrong input:"
      ]
    },
    {
      "cell_type": "code",
      "execution_count": null,
      "metadata": {
        "id": "ldMDSNkeSnl1"
      },
      "outputs": [],
      "source": [
        "a = 1\n",
        "b = 0.2"
      ]
    },
    {
      "cell_type": "code",
      "execution_count": null,
      "metadata": {
        "id": "hn1ZlKSDSwxQ",
        "colab": {
          "base_uri": "https://localhost:8080/"
        },
        "outputId": "d96ce52c-55b5-40d7-c736-1f985d73926a"
      },
      "outputs": [
        {
          "output_type": "stream",
          "name": "stdout",
          "text": [
            "0.2 <class 'float'>\n",
            "Type printed\n"
          ]
        }
      ],
      "source": [
        "try:\n",
        "    print(afdwfwf, type(aefwffewf))\n",
        "except:\n",
        "    print(b, type(b))\n",
        "finally:\n",
        "    print('Type printed')"
      ]
    },
    {
      "cell_type": "code",
      "execution_count": null,
      "metadata": {
        "id": "597GVbZDbObe"
      },
      "outputs": [],
      "source": [
        "# print(bdsubj)"
      ]
    },
    {
      "cell_type": "code",
      "execution_count": null,
      "metadata": {
        "id": "OrkKRRLv_vbf",
        "colab": {
          "base_uri": "https://localhost:8080/"
        },
        "outputId": "f89a65ba-b4dd-4d78-8885-8e3222964ff5"
      },
      "outputs": [
        {
          "output_type": "stream",
          "name": "stdout",
          "text": [
            "The error is :  name 'adefewdwd' is not defined\n"
          ]
        }
      ],
      "source": [
        "try:\n",
        "    a = 1\n",
        "    print(adefewdwd)\n",
        "    try:\n",
        "      print(type(afggdgdsgg))\n",
        "    except:\n",
        "      print('Error occured')\n",
        "except Exception as ex:\n",
        "    print('The error is : ', ex)\n",
        "    # print(b, type(b))"
      ]
    },
    {
      "cell_type": "markdown",
      "metadata": {
        "id": "pZrycmS2S_1t"
      },
      "source": [
        "# Real World Use Case\n",
        "\n",
        "### Uber's simplified pricing model\n",
        "\n",
        "When you request an Uber, you enter your pick-up location and the destination. Based on the distance, peak hours, willingness to pay and many other factors, Uber uses a machine learning algorithm to compute what prices will be shown to you.\n",
        "\n",
        "Let's consider a simplistic version of the Uber Pricing Model where you compute the price based on the distance between the pick-up and the drop location and the time of the booking.\n",
        "\n",
        "User Inputs:\n",
        "\n",
        "* Pick-up location (pick_up_latitude, pick_up_longitude)\n",
        "* Drop location (drop_latitude, drop_longitude)\n",
        "* Time of booking\n",
        "\n",
        "Output:\n",
        "\n",
        "* Final Price"
      ]
    },
    {
      "cell_type": "markdown",
      "metadata": {
        "id": "N6hCfBw3TNhJ"
      },
      "source": [
        " ### Development Code"
      ]
    },
    {
      "cell_type": "code",
      "execution_count": null,
      "metadata": {
        "id": "vdwRZpbJTC2b"
      },
      "outputs": [],
      "source": [
        "# Calculate the distance between the pick-up location and the drop location\n",
        "\n",
        "import geopy.distance #simplifies the calculation of geographic distances between two points\n",
        "\n",
        "def get_distance(location_1, location_2):\n",
        "\n",
        "    distance = geopy.distance.distance(location_1, location_2).km\n",
        "\n",
        "    return distance"
      ]
    },
    {
      "cell_type": "code",
      "execution_count": null,
      "metadata": {
        "id": "d7HDM1eGVO2O",
        "colab": {
          "base_uri": "https://localhost:8080/"
        },
        "outputId": "6b5710f6-43a2-421b-e3f8-bba1d01bdf54"
      },
      "outputs": [
        {
          "output_type": "execute_result",
          "data": {
            "text/plain": [
              "9"
            ]
          },
          "metadata": {},
          "execution_count": 68
        }
      ],
      "source": [
        "round(9,5)"
      ]
    },
    {
      "cell_type": "code",
      "execution_count": null,
      "metadata": {
        "id": "zC0vGEflTK8c"
      },
      "outputs": [],
      "source": [
        "def get_price_per_km(hour):\n",
        "\n",
        "    if (hour > 8) & (hour < 11):\n",
        "        price_per_km = 20\n",
        "    elif (hour > 18) & (hour < 21):\n",
        "        price_per_km = 15\n",
        "    else:\n",
        "        price_per_km = 10\n",
        "\n",
        "    return price_per_km"
      ]
    },
    {
      "cell_type": "code",
      "execution_count": null,
      "metadata": {
        "id": "sJhJg5PhTPWh"
      },
      "outputs": [],
      "source": [
        "def get_final_price(pick_up_location, drop_location, booking_hour):\n",
        "\n",
        "    total_distance = get_distance(pick_up_location, drop_location)\n",
        "    actual_price_per_km = get_price_per_km(booking_hour)\n",
        "\n",
        "    final_price = round(total_distance * actual_price_per_km, 2)\n",
        "\n",
        "    return final_price"
      ]
    },
    {
      "cell_type": "code",
      "execution_count": null,
      "metadata": {
        "id": "cYICiaPGTQ5c"
      },
      "outputs": [],
      "source": [
        "# Inputs\n",
        "\n",
        "pick_up_location = (24, 70)\n",
        "drop_location = (24.1, 70.1)\n",
        "booking_time = 19"
      ]
    },
    {
      "cell_type": "code",
      "execution_count": null,
      "metadata": {
        "id": "J-6Y6diXTSU7",
        "colab": {
          "base_uri": "https://localhost:8080/"
        },
        "outputId": "59577dd9-c45d-42cb-e83a-91dc4137b811"
      },
      "outputs": [
        {
          "output_type": "execute_result",
          "data": {
            "text/plain": [
              "225.56"
            ]
          },
          "metadata": {},
          "execution_count": 72
        }
      ],
      "source": [
        "# Output\n",
        "\n",
        "get_final_price(pick_up_location, drop_location, booking_time)"
      ]
    },
    {
      "cell_type": "markdown",
      "metadata": {
        "id": "q_nSK3-FTaqD"
      },
      "source": [
        "### Production Grade Code"
      ]
    },
    {
      "cell_type": "code",
      "execution_count": null,
      "metadata": {
        "id": "QHPqo8fNTUGG"
      },
      "outputs": [],
      "source": [
        "# Calculate the distance between the pick-up location and the drop location\n",
        "\n",
        "import geopy.distance\n",
        "import math\n",
        "\n",
        "class Maps:\n",
        "\n",
        "    def __init__(self):\n",
        "        pass\n",
        "\n",
        "    def get_distance(self, location_1, location_2):\n",
        "\n",
        "        try:\n",
        "            distance = geopy.distance.distance(location_1, location_2).km\n",
        "        except:\n",
        "            distance = math.sqrt((location_1[0]-location_2[0])^2 + (location_1[1]-location_2[1])^2)\n",
        "\n",
        "        return distance"
      ]
    },
    {
      "cell_type": "code",
      "execution_count": null,
      "metadata": {
        "id": "4n1-Cf9GTX4h"
      },
      "outputs": [],
      "source": [
        "class SurgePricing:\n",
        "\n",
        "    def __init__(self):\n",
        "        pass\n",
        "\n",
        "    def get_price_per_km(self, hour):\n",
        "\n",
        "        try:\n",
        "\n",
        "            if (hour > 8) & (hour < 11):\n",
        "                price_per_km = 20\n",
        "            elif (hour > 18) & (hour < 21):\n",
        "                price_per_km = 15\n",
        "            else:\n",
        "                price_per_km = 10\n",
        "\n",
        "        except:\n",
        "\n",
        "            price_per_km = 10\n",
        "\n",
        "        return price_per_km"
      ]
    },
    {
      "cell_type": "code",
      "execution_count": null,
      "metadata": {
        "id": "4lSkQz2ITer_"
      },
      "outputs": [],
      "source": [
        "def get_final_price(pick_up_location, drop_location, booking_hour):\n",
        "\n",
        "    maps = Maps()\n",
        "    surge = SurgePricing()\n",
        "\n",
        "    total_distance = maps.get_distance(pick_up_location, drop_location)\n",
        "    actual_price_per_km = surge.get_price_per_km(booking_hour)\n",
        "\n",
        "    final_price = round(total_distance * actual_price_per_km, 2)\n",
        "\n",
        "    return final_price"
      ]
    },
    {
      "cell_type": "code",
      "execution_count": null,
      "metadata": {
        "id": "aQ0YYXCATgJS",
        "colab": {
          "base_uri": "https://localhost:8080/"
        },
        "outputId": "35ec6569-2548-46ed-b6de-826c3c4acb7e"
      },
      "outputs": [
        {
          "output_type": "execute_result",
          "data": {
            "text/plain": [
              "225.56"
            ]
          },
          "metadata": {},
          "execution_count": 76
        }
      ],
      "source": [
        "# Output\n",
        "\n",
        "get_final_price(pick_up_location, drop_location, booking_time)"
      ]
    },
    {
      "cell_type": "code",
      "execution_count": null,
      "metadata": {
        "id": "T0N2tUbLZikS"
      },
      "outputs": [],
      "source": [
        "# try:\n",
        "#     filename = input(\"Enter the file name: \")\n",
        "#     with open(filename, 'r') as file:\n",
        "#         lines = file.readlines()\n",
        "#         line_count = len(lines)\n",
        "#         print(\"Number of lines in the file:\", line_count)\n",
        "# except FileNotFoundError:\n",
        "#     print(\"Error: File not found.\")"
      ]
    },
    {
      "cell_type": "markdown",
      "source": [
        "#TASKS"
      ],
      "metadata": {
        "id": "UEGHfAhU8Cjs"
      }
    },
    {
      "cell_type": "markdown",
      "source": [
        "Create a class named Circle with the following:\n",
        "\n",
        "Attribute: radius.\n",
        "\n",
        "Methods:\n",
        "\n",
        "1. area(): Returns the area of the circle.\n",
        "2. circumference(): Returns the circumference.\n",
        "3. change_radius(new_radius): Updates the circle’s radius.\n",
        "\n",
        "Create an object, calculate the area and circumference, and change the radius."
      ],
      "metadata": {
        "id": "zPxBp82D8JPp"
      }
    },
    {
      "cell_type": "code",
      "source": [
        "class Circle:\n",
        "  def __init__(self, radius):\n",
        "    self.radius = radius\n",
        "\n",
        "  def area(self):\n",
        "    return 3.14 * self.radius ** 2\n",
        "\n",
        "  def circumference(self):\n",
        "    return 2 * 3.14 * self.radius\n",
        "\n",
        "  def change_radius(self, new_radius):\n",
        "    self.radius = new_radius\n",
        "    return self.radius\n",
        "\n",
        "c=Circle(5)\n",
        "print(c.area())\n",
        "print(c.circumference())\n",
        "print(c.change_radius(10))\n",
        "print(c.radius)"
      ],
      "metadata": {
        "colab": {
          "base_uri": "https://localhost:8080/"
        },
        "id": "9Z8ZRhyn98_6",
        "outputId": "209426e5-cefc-4e92-f00b-1c183da12b86"
      },
      "execution_count": null,
      "outputs": [
        {
          "output_type": "stream",
          "name": "stdout",
          "text": [
            "78.5\n",
            "31.400000000000002\n",
            "10\n",
            "10\n"
          ]
        }
      ]
    },
    {
      "cell_type": "markdown",
      "source": [
        "Create a class Library where users can add_book(title), remove_book(title), and view_books(). Implement it using a list.\n",
        "\n",
        "Expected Output:\n",
        "\n",
        "Books in library: ['Python Basics', 'OOP in Python']\n",
        "\n",
        "Book removed: Python Basics"
      ],
      "metadata": {
        "id": "aBBn2yxzDW02"
      }
    },
    {
      "cell_type": "code",
      "source": [
        "class Library:\n",
        "  def __init__(self):\n",
        "    self.books = []\n",
        "\n",
        "  # def __init__(self, books):\n",
        "  #   self.books = books\n",
        "\n",
        "  def add_book(self, title):\n",
        "    self.books.append(title)\n",
        "\n",
        "  def remove_book(self, title):\n",
        "    if title in self.books:\n",
        "      self.books.remove(title)\n",
        "\n",
        "  def view_books(self):\n",
        "    return self.books\n",
        "\n",
        "library = Library()\n",
        "# library=Library([])\n",
        "\n",
        "library.add_book(\"Python Basics\")\n",
        "library.add_book(\"OOP in Python\")\n",
        "\n",
        "print(\"Books in library:\", library.view_books())\n",
        "\n",
        "library.remove_book(\"Python Basics\")\n",
        "print(\"Book removed:\", \"Python Basics\")"
      ],
      "metadata": {
        "colab": {
          "base_uri": "https://localhost:8080/"
        },
        "id": "NqMITfqeG_95",
        "outputId": "d4ba267c-b394-4457-ca2c-91763aa38930"
      },
      "execution_count": null,
      "outputs": [
        {
          "output_type": "stream",
          "name": "stdout",
          "text": [
            "Books in library: ['Python Basics', 'OOP in Python']\n",
            "Book removed: Python Basics\n"
          ]
        }
      ]
    },
    {
      "cell_type": "markdown",
      "source": [
        "Create a class Employee with attributes name and salary. Implement a class method from_string() that takes a string \"John,5000\" and creates an Employee object.\n",
        "\n",
        "Expected Output:\n",
        "\n",
        "Name: John\n",
        "\n",
        "Salary: 5000"
      ],
      "metadata": {
        "id": "VKdbHzJAGhaP"
      }
    },
    {
      "cell_type": "code",
      "source": [
        "class Employee:\n",
        "  def __init__(self, name,salary):\n",
        "    self.name = name\n",
        "    self.salary = salary\n",
        "\n",
        "  def from_string(string):\n",
        "    name, salary = string.split(',')\n",
        "    return Employee(name, int(salary))\n",
        "\n",
        "  def display(self):\n",
        "    print(f\"Name: {self.name}\\nSalary: {self.salary}\")\n",
        "\n",
        "emp = Employee.from_string(\"John,5000\")"
      ],
      "metadata": {
        "id": "eO2uslzwAwPW"
      },
      "execution_count": null,
      "outputs": []
    },
    {
      "cell_type": "code",
      "source": [
        "emp.display()"
      ],
      "metadata": {
        "colab": {
          "base_uri": "https://localhost:8080/"
        },
        "id": "6DHxN38YGvcN",
        "outputId": "5b4485e9-d013-4844-e375-ea1b703349bd"
      },
      "execution_count": null,
      "outputs": [
        {
          "output_type": "stream",
          "name": "stdout",
          "text": [
            "Name: John\n",
            "Salary: 5000\n"
          ]
        }
      ]
    },
    {
      "cell_type": "code",
      "source": [],
      "metadata": {
        "id": "BBivDUq4Gz06"
      },
      "execution_count": null,
      "outputs": []
    }
  ],
  "metadata": {
    "colab": {
      "provenance": []
    },
    "kernelspec": {
      "display_name": "Python 3",
      "language": "python",
      "name": "python3"
    },
    "language_info": {
      "codemirror_mode": {
        "name": "ipython",
        "version": 3
      },
      "file_extension": ".py",
      "mimetype": "text/x-python",
      "name": "python",
      "nbconvert_exporter": "python",
      "pygments_lexer": "ipython3",
      "version": "3.7.3"
    }
  },
  "nbformat": 4,
  "nbformat_minor": 0
}