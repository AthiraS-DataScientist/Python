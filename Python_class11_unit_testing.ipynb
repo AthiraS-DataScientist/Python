{
  "nbformat": 4,
  "nbformat_minor": 0,
  "metadata": {
    "colab": {
      "provenance": [],
      "authorship_tag": "ABX9TyMZeys2woHHDS382hz34nGW"
    },
    "kernelspec": {
      "name": "python3",
      "display_name": "Python 3"
    },
    "language_info": {
      "name": "python"
    }
  },
  "cells": [
    {
      "cell_type": "markdown",
      "source": [
        "#Python Unittest\n",
        "Python Unittest is a built-in testing framework that provides a set of tools for testing our code’s functionality in a more systematic and organized manner. With unittest framework, we can create test cases to verify if our code behaves as expected. It allows us to write test methods within classes that check different aspects of our code such as input and output. It also supports test discovery making it easy for us to automate test execution across our project."
      ],
      "metadata": {
        "id": "Er34_gbBQkWq"
      }
    },
    {
      "cell_type": "markdown",
      "source": [
        "Key Assertions in unittest:\n",
        "\n",
        "* assertEqual(a, b): Check if a == b\n",
        "\n",
        "* assertNotEqual(a, b): Check if a != b\n",
        "\n",
        "* assertTrue(x): Check if x is True\n",
        "\n",
        "* assertFalse(x): Check if x is False\n",
        "\n",
        "* assertIs(a, b): Check if a is b\n",
        "\n",
        "* assertIsNot(a, b): Check if a is not b\n",
        "\n",
        "* assertIsNone(x): Check if x is None\n",
        "\n",
        "* assertIsNotNone(x): Check if x is not None\n",
        "\n",
        "* assertIn(a, b): Check if a in b\n",
        "\n",
        "* assertNotIn(a, b): Check if a not in b"
      ],
      "metadata": {
        "id": "h9Dm2nVbMpqW"
      }
    },
    {
      "cell_type": "code",
      "source": [
        "import unittest\n",
        "\n",
        "# Functions to be tested\n",
        "def add(a, b):\n",
        "    return a + b\n",
        "\n",
        "def subtract(a, b):\n",
        "    return a - b\n",
        "\n",
        "# Unit test class\n",
        "class TestMathOperations(unittest.TestCase):\n",
        "\n",
        "    def test_add(self):\n",
        "\n",
        "        self.assertEqual(add(2, 3), 5)  # 2 + 3 = 5\n",
        "        self.assertEqual(add(-1, 1), 0)  # -1 + 1 = 0\n",
        "        self.assertEqual(add(0, 0), 0)  # 0 + 0 = 0\n",
        "\n",
        "    def test_subtract(self):\n",
        "        \"\"\"Test the subtract function\"\"\"\n",
        "        self.assertEqual(subtract(5, 3), 2)  # 5 - 3 = 2\n",
        "        self.assertEqual(subtract(10, 5), 5)  # 10 - 5 = 5\n",
        "        self.assertEqual(subtract(0, 1), -1)  # 0 - 1 = -1\n",
        "\n",
        "# Run the tests\n",
        "if __name__ == '__main__':\n",
        "    unittest.main(argv=[''], exit=False)\n",
        "\n",
        "  #exit=False - This would stop execution in Jupyter or an interactive environment.\n",
        "\n",
        "    # Setting argv=[''] prevents it from processing unwanted arguments.\n",
        "\n",
        "#unittest.main() - This function discovers and runs all test methods in the script (methods that start with test_)."
      ],
      "metadata": {
        "colab": {
          "base_uri": "https://localhost:8080/"
        },
        "id": "YJO5FDvFNf50",
        "outputId": "b02a98b3-c82a-4508-d8ec-939dd4215690"
      },
      "execution_count": null,
      "outputs": [
        {
          "output_type": "stream",
          "name": "stderr",
          "text": [
            "..\n",
            "----------------------------------------------------------------------\n",
            "Ran 2 tests in 0.002s\n",
            "\n",
            "OK\n"
          ]
        }
      ]
    },
    {
      "cell_type": "code",
      "source": [
        "import unittest\n",
        "\n",
        "# Function to be tested\n",
        "def is_prime(n):\n",
        "    \"\"\"Returns True if n is a prime number, otherwise False.\"\"\"\n",
        "    if n < 2:\n",
        "        return False\n",
        "    for i in range(2, int(n ** 0.5) + 1):\n",
        "        if n % i == 0:\n",
        "            return False\n",
        "    return True\n",
        "\n",
        "# Unit test class\n",
        "class TestPrimeFunction(unittest.TestCase):\n",
        "\n",
        "    def test_prime_numbers(self):\n",
        "        self.assertTrue(is_prime(2))\n",
        "        self.assertTrue(is_prime(3))\n",
        "        self.assertTrue(is_prime(5))\n",
        "        self.assertTrue(is_prime(7))\n",
        "        self.assertTrue(is_prime(11))\n",
        "\n",
        "    def test_non_prime_numbers(self):\n",
        "        self.assertFalse(is_prime(1))\n",
        "        self.assertFalse(is_prime(4))\n",
        "        self.assertFalse(is_prime(6))\n",
        "        self.assertFalse(is_prime(8))\n",
        "        self.assertFalse(is_prime(9))\n",
        "\n",
        "    def test_large_prime_number(self):\n",
        "        self.assertTrue(is_prime(29))\n",
        "\n",
        "    def test_large_non_prime_number(self):\n",
        "        self.assertFalse(is_prime(100))\n",
        "\n",
        "# Run the tests\n",
        "if __name__ == '__main__':\n",
        "    unittest.main(argv=[''], exit=False)"
      ],
      "metadata": {
        "colab": {
          "base_uri": "https://localhost:8080/"
        },
        "id": "hXGNtkyGOCUb",
        "outputId": "4ccb857d-807a-40cb-a82c-57c05295f6fe"
      },
      "execution_count": null,
      "outputs": [
        {
          "output_type": "stream",
          "name": "stderr",
          "text": [
            "............\n",
            "----------------------------------------------------------------------\n",
            "Ran 12 tests in 0.013s\n",
            "\n",
            "OK\n"
          ]
        }
      ]
    },
    {
      "cell_type": "code",
      "source": [
        "import unittest\n",
        "\n",
        "\n",
        "def compute_factorial(n):\n",
        "    if n == 0 or n == 1:\n",
        "        return 1\n",
        "    result = 1\n",
        "    for i in range(2, n + 1):  # Multiply numbers from 2 to n\n",
        "        result *= i\n",
        "    return result\n",
        "\n",
        "# Unit test class\n",
        "class TestFactorial(unittest.TestCase):\n",
        "\n",
        "    def test_positive_numbers(self):\n",
        "\n",
        "        self.assertEqual(compute_factorial(1), 1)  # 1! = 1\n",
        "        self.assertEqual(compute_factorial(3), 6)  # 3! = 3 × 2 × 1 = 6\n",
        "        self.assertEqual(compute_factorial(5), 120)  # 5! = 5 × 4 × 3 × 2 × 1 = 120\n",
        "\n",
        "    def test_negative_numbers(self):\n",
        "      self.assertEqual(compute_factorial(-5), 120)\n",
        "\n",
        "    def test_zero(self):\n",
        "        self.assertEqual(compute_factorial(0), 1)  # 0! = 1\n",
        "\n",
        "\n",
        "# Run the tests\n",
        "if __name__ == '__main__':\n",
        "    unittest.main(argv=[''], exit=False)"
      ],
      "metadata": {
        "colab": {
          "base_uri": "https://localhost:8080/"
        },
        "id": "N-Gi9PBRRBwe",
        "outputId": "1d04a4e7-15c0-491f-c08e-7bca9afa209b"
      },
      "execution_count": null,
      "outputs": [
        {
          "output_type": "stream",
          "name": "stderr",
          "text": [
            "F..\n",
            "======================================================================\n",
            "FAIL: test_negative_numbers (__main__.TestFactorial.test_negative_numbers)\n",
            "----------------------------------------------------------------------\n",
            "Traceback (most recent call last):\n",
            "  File \"<ipython-input-4-da6697543b77>\", line 22, in test_negative_numbers\n",
            "    self.assertEqual(compute_factorial(-5), 120)\n",
            "AssertionError: 1 != 120\n",
            "\n",
            "----------------------------------------------------------------------\n",
            "Ran 3 tests in 0.006s\n",
            "\n",
            "FAILED (failures=1)\n"
          ]
        }
      ]
    },
    {
      "cell_type": "code",
      "source": [],
      "metadata": {
        "id": "qbABz7YRPza8"
      },
      "execution_count": null,
      "outputs": []
    }
  ]
}