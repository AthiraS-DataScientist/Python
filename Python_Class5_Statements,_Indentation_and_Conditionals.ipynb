{
  "nbformat": 4,
  "nbformat_minor": 0,
  "metadata": {
    "kernelspec": {
      "display_name": "Python 3",
      "language": "python",
      "name": "python3"
    },
    "language_info": {
      "codemirror_mode": {
        "name": "ipython",
        "version": 3
      },
      "file_extension": ".py",
      "mimetype": "text/x-python",
      "name": "python",
      "nbconvert_exporter": "python",
      "pygments_lexer": "ipython3",
      "version": "3.7.4"
    },
    "colab": {
      "provenance": []
    }
  },
  "cells": [
    {
      "cell_type": "markdown",
      "metadata": {
        "id": "uCEngv6FHnnb"
      },
      "source": [
        "# <u>Understanding the difference between Statements and Expressions</u>"
      ]
    },
    {
      "cell_type": "markdown",
      "metadata": {
        "id": "6KySHsyNHnne"
      },
      "source": [
        "* A Statement is an instruction that the Python interpreter can execute. We have only seen the assignment statement so far. Some other kinds of statements that we’ll see shortly are while statements, for statements, if statements, and import statements. (There are other kinds too!)\n",
        "\n",
        "\n",
        "* An Expression is a combination of values, variables, operators, and calls to functions. Expressions need to be evaluated. If you ask Python to print an expression, the interpreter evaluates the expression and displays the result."
      ]
    },
    {
      "cell_type": "code",
      "metadata": {
        "id": "WT3EsLAIYUPx"
      },
      "source": [
        "# Assignment statement\n",
        "x = 3"
      ],
      "execution_count": null,
      "outputs": []
    },
    {
      "cell_type": "code",
      "source": [
        "x"
      ],
      "metadata": {
        "id": "gxXAWd8XMPUX",
        "colab": {
          "base_uri": "https://localhost:8080/"
        },
        "outputId": "85236952-5eb8-442c-eb00-7b3be7984474"
      },
      "execution_count": null,
      "outputs": [
        {
          "output_type": "execute_result",
          "data": {
            "text/plain": [
              "3"
            ]
          },
          "metadata": {},
          "execution_count": 2
        }
      ]
    },
    {
      "cell_type": "code",
      "metadata": {
        "id": "ZN-GxWfKHnng",
        "colab": {
          "base_uri": "https://localhost:8080/"
        },
        "outputId": "88285e3b-ccff-47e1-c4d3-2287974a7d90"
      },
      "source": [
        "print(1 + 1)\n",
        "print(len(\"Hello Team\"))"
      ],
      "execution_count": null,
      "outputs": [
        {
          "output_type": "stream",
          "name": "stdout",
          "text": [
            "2\n",
            "10\n"
          ]
        }
      ]
    },
    {
      "cell_type": "markdown",
      "metadata": {
        "id": "sHO6fat6Hnns"
      },
      "source": [
        "* In this example <code>len()</code> is a built-in Python function that returns the number of characters in a string. We’ve previously seen the <code>print()</code> and the <code>type()</code> functions, so this is an example of another function!\n",
        "\n",
        "\n",
        "* The evaluation of an expression produces a value, which is why expressions can appear on the right hand side of assignment statements. A value all by itself is a simple expression, and so is a variable. Evaluating a variable gives the value that the variable refers to."
      ]
    },
    {
      "cell_type": "code",
      "metadata": {
        "id": "0QCxgyEbHnnu"
      },
      "source": [
        "y = 3.14"
      ],
      "execution_count": null,
      "outputs": []
    },
    {
      "cell_type": "code",
      "metadata": {
        "id": "yHx-90qB7llg",
        "colab": {
          "base_uri": "https://localhost:8080/"
        },
        "outputId": "dbb086fa-9aec-40d9-8413-75624015617a"
      },
      "source": [
        "y"
      ],
      "execution_count": null,
      "outputs": [
        {
          "output_type": "execute_result",
          "data": {
            "text/plain": [
              "3.14"
            ]
          },
          "metadata": {},
          "execution_count": 5
        }
      ]
    },
    {
      "cell_type": "code",
      "metadata": {
        "id": "XQayBiLeZ1eg"
      },
      "source": [
        "a = 'Mighty'\n",
        "# b = a == True"
      ],
      "execution_count": null,
      "outputs": []
    },
    {
      "cell_type": "code",
      "metadata": {
        "id": "n1rgy43RZ70I",
        "colab": {
          "base_uri": "https://localhost:8080/"
        },
        "outputId": "2b920d14-a152-438a-acc5-82e427c0d655"
      },
      "source": [
        "a == True"
      ],
      "execution_count": null,
      "outputs": [
        {
          "output_type": "execute_result",
          "data": {
            "text/plain": [
              "False"
            ]
          },
          "metadata": {},
          "execution_count": 7
        }
      ]
    },
    {
      "cell_type": "markdown",
      "metadata": {
        "id": "VC98TpZyHnn0"
      },
      "source": [
        "* Note that when we enter the assignment statement, <code>y = 3.14 </code>, only the prompt is returned. There is no value. This is due to the fact that statements, such as the assignment statement, do not return a value. They are simply executed."
      ]
    },
    {
      "cell_type": "code",
      "metadata": {
        "id": "k8mZhU9naj6b"
      },
      "source": [
        "# Import statement\n",
        "import pandas as pd"
      ],
      "execution_count": null,
      "outputs": []
    },
    {
      "cell_type": "code",
      "metadata": {
        "id": "QvpFXqHvHnn1",
        "colab": {
          "base_uri": "https://localhost:8080/"
        },
        "outputId": "168d39e7-7e50-4d03-815b-3fb70089472b"
      },
      "source": [
        "print(y)"
      ],
      "execution_count": null,
      "outputs": [
        {
          "output_type": "stream",
          "name": "stdout",
          "text": [
            "3.14\n"
          ]
        }
      ]
    },
    {
      "cell_type": "code",
      "metadata": {
        "id": "UOlQvndGHnn6",
        "colab": {
          "base_uri": "https://localhost:8080/"
        },
        "outputId": "b0e833b8-b6d0-4289-cc4a-59b7a2d3047d"
      },
      "source": [
        "y"
      ],
      "execution_count": null,
      "outputs": [
        {
          "output_type": "execute_result",
          "data": {
            "text/plain": [
              "3.14"
            ]
          },
          "metadata": {},
          "execution_count": 10
        }
      ]
    },
    {
      "cell_type": "markdown",
      "metadata": {
        "id": "w945dRqiHnn9"
      },
      "source": [
        "* On the other hand, the result of executing the assignment statement is the creation of a reference from a variable, y, to a value, 3.14. When we execute the <code>print()</code> function working on y, we see the value that y is referring to. In fact, evaluating y by itself results in the same response."
      ]
    },
    {
      "cell_type": "markdown",
      "metadata": {
        "id": "mvOHovwVHnn9"
      },
      "source": [
        "* Instructions that a Python interpreter can execute are called statements. For example, <code>a = 1</code> is an assignment statement. <code>if</code> statement, <code>for</code> statement, <code>while</code> statement, etc. are other kinds of statements which will be discussed later."
      ]
    },
    {
      "cell_type": "markdown",
      "metadata": {
        "id": "LfTpVhrcHnn-"
      },
      "source": [
        "### Multi-line Statements"
      ]
    },
    {
      "cell_type": "markdown",
      "metadata": {
        "id": "8WI-7DFHHnn-"
      },
      "source": [
        "* In Python, the end of a statement is marked by a newline character. But we can make a statement extend over multiple lines with the line continuation character (\\)."
      ]
    },
    {
      "cell_type": "code",
      "metadata": {
        "id": "JgAslWA9b2Md"
      },
      "source": [
        "x = 1\n",
        "y = 2\n",
        "+ 5\n",
        "z = 3"
      ],
      "execution_count": null,
      "outputs": []
    },
    {
      "cell_type": "code",
      "metadata": {
        "id": "_gWSgBDrb4yj",
        "colab": {
          "base_uri": "https://localhost:8080/"
        },
        "outputId": "576398d1-b78f-42b0-870d-53837ec51f6c"
      },
      "source": [
        "y"
      ],
      "execution_count": null,
      "outputs": [
        {
          "output_type": "execute_result",
          "data": {
            "text/plain": [
              "2"
            ]
          },
          "metadata": {},
          "execution_count": 12
        }
      ]
    },
    {
      "cell_type": "code",
      "source": [
        "a = 4"
      ],
      "metadata": {
        "id": "jOfuzQFVEUq8"
      },
      "execution_count": null,
      "outputs": []
    },
    {
      "cell_type": "code",
      "metadata": {
        "id": "P3XeEpxgHnn_",
        "colab": {
          "base_uri": "https://localhost:8080/",
          "height": 140
        },
        "outputId": "4e355cf9-46f4-4b47-b971-69dc2e28ae07"
      },
      "source": [
        "# a = 1 + 2 + 3 + 4 +\n",
        "# 5 + 6+ 7+ 8+\n",
        "# 9 + 10"
      ],
      "execution_count": null,
      "outputs": [
        {
          "output_type": "error",
          "ename": "SyntaxError",
          "evalue": "ignored",
          "traceback": [
            "\u001b[0;36m  File \u001b[0;32m\"<ipython-input-4-c0ab2e540b9b>\"\u001b[0;36m, line \u001b[0;32m1\u001b[0m\n\u001b[0;31m    a = 1 + 2 + 3 + 4 +\u001b[0m\n\u001b[0m                       ^\u001b[0m\n\u001b[0;31mSyntaxError\u001b[0m\u001b[0;31m:\u001b[0m invalid syntax\n"
          ]
        }
      ]
    },
    {
      "cell_type": "code",
      "metadata": {
        "id": "uKiA4sBFHnoC",
        "colab": {
          "base_uri": "https://localhost:8080/"
        },
        "outputId": "67bd8bef-5ac9-43a4-8a99-14c8401fa320"
      },
      "source": [
        "a"
      ],
      "execution_count": null,
      "outputs": [
        {
          "output_type": "execute_result",
          "data": {
            "text/plain": [
              "4"
            ]
          },
          "metadata": {},
          "execution_count": 6
        }
      ]
    },
    {
      "cell_type": "markdown",
      "metadata": {
        "id": "ZT6MwgGsHnoF"
      },
      "source": [
        "* This is an explicit line continuation. In Python, line continuation is implied inside parentheses <code>( )</code>, brackets <code>[ ]</code>, and braces <code>{ }</code>. For instance, we can implement the above multi-line statement as:"
      ]
    },
    {
      "cell_type": "code",
      "metadata": {
        "id": "V6l3evBTdpGg"
      },
      "source": [
        "my_list = [1]\n",
        "my_tuple = (1,)"
      ],
      "execution_count": null,
      "outputs": []
    },
    {
      "cell_type": "code",
      "metadata": {
        "id": "d5xpwMgAdtLo",
        "colab": {
          "base_uri": "https://localhost:8080/"
        },
        "outputId": "ade81201-00b0-4476-919e-fe1fe86a5a30"
      },
      "source": [
        "my_list, my_tuple"
      ],
      "execution_count": null,
      "outputs": [
        {
          "output_type": "execute_result",
          "data": {
            "text/plain": [
              "([1], (1,))"
            ]
          },
          "metadata": {},
          "execution_count": 17
        }
      ]
    },
    {
      "cell_type": "code",
      "source": [
        "b = 1,2"
      ],
      "metadata": {
        "id": "KMlf_l_wN6gR"
      },
      "execution_count": null,
      "outputs": []
    },
    {
      "cell_type": "code",
      "source": [
        "type(b)"
      ],
      "metadata": {
        "id": "mIqvmrQEN_ae",
        "colab": {
          "base_uri": "https://localhost:8080/"
        },
        "outputId": "428f535f-10f6-41bf-b2c2-3cca7da056fe"
      },
      "execution_count": null,
      "outputs": [
        {
          "output_type": "execute_result",
          "data": {
            "text/plain": [
              "tuple"
            ]
          },
          "metadata": {},
          "execution_count": 19
        }
      ]
    },
    {
      "cell_type": "code",
      "metadata": {
        "id": "pbQlDAYyHnoG",
        "colab": {
          "base_uri": "https://localhost:8080/",
          "height": 140
        },
        "outputId": "cf14ad95-01f0-45ae-cd1d-00c7288011fa"
      },
      "source": [
        "# a = (1 + 2 + 3 + 4 +\n",
        "\n",
        "#      5 + 6 + 7 +\n",
        "#      8 + 9 + 10"
      ],
      "execution_count": null,
      "outputs": [
        {
          "output_type": "error",
          "ename": "SyntaxError",
          "evalue": "ignored",
          "traceback": [
            "\u001b[0;36m  File \u001b[0;32m\"<ipython-input-9-e09e76176c86>\"\u001b[0;36m, line \u001b[0;32m4\u001b[0m\n\u001b[0;31m    8 + 9 + 10\u001b[0m\n\u001b[0m              ^\u001b[0m\n\u001b[0;31mSyntaxError\u001b[0m\u001b[0;31m:\u001b[0m incomplete input\n"
          ]
        }
      ]
    },
    {
      "cell_type": "code",
      "metadata": {
        "id": "D_OaHIHz8xJZ",
        "colab": {
          "base_uri": "https://localhost:8080/"
        },
        "outputId": "840b66e3-60bb-4d45-d753-b3c0b67d3875"
      },
      "source": [
        "a"
      ],
      "execution_count": null,
      "outputs": [
        {
          "output_type": "execute_result",
          "data": {
            "text/plain": [
              "4"
            ]
          },
          "metadata": {},
          "execution_count": 21
        }
      ]
    },
    {
      "cell_type": "code",
      "metadata": {
        "id": "sF5Ncyoldjsq",
        "colab": {
          "base_uri": "https://localhost:8080/"
        },
        "outputId": "1461198b-b96d-4ae0-bdb0-2e5c0450277d"
      },
      "source": [
        "type(a)"
      ],
      "execution_count": null,
      "outputs": [
        {
          "output_type": "execute_result",
          "data": {
            "text/plain": [
              "int"
            ]
          },
          "metadata": {},
          "execution_count": 22
        }
      ]
    },
    {
      "cell_type": "markdown",
      "metadata": {
        "id": "PNsXf6IfHnoI"
      },
      "source": [
        "* Here, the surrounding parentheses <code>( )</code> do the line continuation implicitly. Same is the case with <code>[ ]</code> and <code>{ }</code>. For example:"
      ]
    },
    {
      "cell_type": "code",
      "metadata": {
        "id": "UXPQjcvL9Mwq"
      },
      "source": [
        "a = 1\n",
        "b = 2"
      ],
      "execution_count": null,
      "outputs": []
    },
    {
      "cell_type": "code",
      "metadata": {
        "id": "V4vEIYUde5Qv"
      },
      "source": [
        "colors = 'Set theory is the mathematical theory of well-determined collections, called sets, of objects that are called members, or elements, of the set. Pure set theory deals exclusively with sets, so the only sets under consideration are those whose members are also sets. The theory of the hereditarily-finite sets, namely those finite sets whose elements are also finite sets, the elements of which are also finite, and so on, is formally equivalent to arithmetic. So, the essence of set theory is the study of infinite sets, and therefore it can be defined as the mathematical theory of the actual—as opposed to potential—infinite.'"
      ],
      "execution_count": null,
      "outputs": []
    },
    {
      "cell_type": "code",
      "source": [
        "colors"
      ],
      "metadata": {
        "id": "WJqZM4C1EkWY",
        "colab": {
          "base_uri": "https://localhost:8080/",
          "height": 87
        },
        "outputId": "a65bbcac-fe80-4531-da5f-ef26b1402ad7"
      },
      "execution_count": null,
      "outputs": [
        {
          "output_type": "execute_result",
          "data": {
            "text/plain": [
              "'Set theory is the mathematical theory of well-determined collections, called sets, of objects that are called members, or elements, of the set. Pure set theory deals exclusively with sets, so the only sets under consideration are those whose members are also sets. The theory of the hereditarily-finite sets, namely those finite sets whose elements are also finite sets, the elements of which are also finite, and so on, is formally equivalent to arithmetic. So, the essence of set theory is the study of infinite sets, and therefore it can be defined as the mathematical theory of the actual—as opposed to potential—infinite.'"
            ],
            "application/vnd.google.colaboratory.intrinsic+json": {
              "type": "string"
            }
          },
          "metadata": {},
          "execution_count": 25
        }
      ]
    },
    {
      "cell_type": "code",
      "metadata": {
        "id": "acavVLtgHnoI"
      },
      "source": [
        "colors_ab = 'Set theory is the mathematical theory of well-determined collections, called sets \\\n",
        "of objects that are called members, or elements, of the set. Pure set theory deals exclusively \\\n",
        "with sets, so the only sets under consideration are those whose members are also sets.?\\\n",
        "The theory of the hereditarily-finite sets, namely those finite sets whose elements are also finite sets,\\\n",
        " the elements of which are also finite, and so on, is formally equivalent to arithmetic. \\\n",
        " So, the essence of set theory is the study of infinite sets, and \\\n",
        " therefore it can be defined as the mathematical theory of the actual—as opposed to potential—infinite.'"
      ],
      "execution_count": null,
      "outputs": []
    },
    {
      "cell_type": "code",
      "metadata": {
        "id": "b84McgJT9zhw",
        "colab": {
          "base_uri": "https://localhost:8080/",
          "height": 87
        },
        "outputId": "2ed549b6-3c2d-45df-84f2-9b0d926cd8e2"
      },
      "source": [
        "colors_ab"
      ],
      "execution_count": null,
      "outputs": [
        {
          "output_type": "execute_result",
          "data": {
            "text/plain": [
              "'Set theory is the mathematical theory of well-determined collections, called sets of objects that are called members, or elements, of the set. Pure set theory deals exclusively with sets, so the only sets under consideration are those whose members are also sets.?The theory of the hereditarily-finite sets, namely those finite sets whose elements are also finite sets, the elements of which are also finite, and so on, is formally equivalent to arithmetic.  So, the essence of set theory is the study of infinite sets, and  therefore it can be defined as the mathematical theory of the actual—as opposed to potential—infinite.'"
            ],
            "application/vnd.google.colaboratory.intrinsic+json": {
              "type": "string"
            }
          },
          "metadata": {},
          "execution_count": 27
        }
      ]
    },
    {
      "cell_type": "markdown",
      "metadata": {
        "id": "B03yfZ97HnoK"
      },
      "source": [
        "* We can also put multiple statements in a single line using semicolons, as follows:"
      ]
    },
    {
      "cell_type": "code",
      "metadata": {
        "id": "OQDamWX8fYK4"
      },
      "source": [
        "a = 1\n",
        "b = 2\n",
        "c = 3"
      ],
      "execution_count": null,
      "outputs": []
    },
    {
      "cell_type": "code",
      "metadata": {
        "id": "Ai_uK72yHnoL"
      },
      "source": [
        "a = 1 ; b = 2 ; c = 3"
      ],
      "execution_count": null,
      "outputs": []
    },
    {
      "cell_type": "code",
      "metadata": {
        "id": "1UpKwsua-HIk",
        "colab": {
          "base_uri": "https://localhost:8080/"
        },
        "outputId": "effb03c0-0986-4f5e-b147-736698273154"
      },
      "source": [
        "c"
      ],
      "execution_count": null,
      "outputs": [
        {
          "output_type": "execute_result",
          "data": {
            "text/plain": [
              "3"
            ]
          },
          "metadata": {},
          "execution_count": 4
        }
      ]
    },
    {
      "cell_type": "code",
      "metadata": {
        "id": "P_A4qzdCgdFO"
      },
      "source": [
        "a = 1\n",
        "b = 2\n",
        "c = 3"
      ],
      "execution_count": null,
      "outputs": []
    },
    {
      "cell_type": "code",
      "metadata": {
        "id": "Qi411Crhoy_X"
      },
      "source": [
        "a, b, c = [1, 'a', True], (45, 67), {'Name' : 'Vikash' , 'Age' : 27}"
      ],
      "execution_count": null,
      "outputs": []
    },
    {
      "cell_type": "code",
      "metadata": {
        "id": "_MLqT90co1uM",
        "colab": {
          "base_uri": "https://localhost:8080/"
        },
        "outputId": "cfadbfb7-6d35-4430-be3a-c7c22324819a"
      },
      "source": [
        "a"
      ],
      "execution_count": null,
      "outputs": [
        {
          "output_type": "execute_result",
          "data": {
            "text/plain": [
              "[1, 'a', True]"
            ]
          },
          "metadata": {},
          "execution_count": 33
        }
      ]
    },
    {
      "cell_type": "code",
      "metadata": {
        "id": "wFWj0Mo1o6e0",
        "colab": {
          "base_uri": "https://localhost:8080/"
        },
        "outputId": "ca06d7ed-c86c-4700-8b49-1debce63d36f"
      },
      "source": [
        "b"
      ],
      "execution_count": null,
      "outputs": [
        {
          "output_type": "execute_result",
          "data": {
            "text/plain": [
              "(45, 67)"
            ]
          },
          "metadata": {},
          "execution_count": 34
        }
      ]
    },
    {
      "cell_type": "code",
      "metadata": {
        "id": "cX-CIJFwo8ce",
        "colab": {
          "base_uri": "https://localhost:8080/"
        },
        "outputId": "4816b284-99e2-4c71-ccf6-0bc0a501d483"
      },
      "source": [
        "c"
      ],
      "execution_count": null,
      "outputs": [
        {
          "output_type": "execute_result",
          "data": {
            "text/plain": [
              "{'Name': 'Vikash', 'Age': 27}"
            ]
          },
          "metadata": {},
          "execution_count": 35
        }
      ]
    },
    {
      "cell_type": "code",
      "metadata": {
        "id": "yOwjB-YYhQfk"
      },
      "source": [
        "a, b = b, a"
      ],
      "execution_count": null,
      "outputs": []
    },
    {
      "cell_type": "code",
      "metadata": {
        "id": "5F9bYYGDhS5J",
        "colab": {
          "base_uri": "https://localhost:8080/"
        },
        "outputId": "57466c92-1009-43dc-ff45-0388ba6b056e"
      },
      "source": [
        "a"
      ],
      "execution_count": null,
      "outputs": [
        {
          "output_type": "execute_result",
          "data": {
            "text/plain": [
              "(45, 67)"
            ]
          },
          "metadata": {},
          "execution_count": 37
        }
      ]
    },
    {
      "cell_type": "code",
      "metadata": {
        "id": "5vod6tsShUvH",
        "colab": {
          "base_uri": "https://localhost:8080/"
        },
        "outputId": "c4664510-e3f2-4633-a97f-0ff512f0340c"
      },
      "source": [
        "b"
      ],
      "execution_count": null,
      "outputs": [
        {
          "output_type": "execute_result",
          "data": {
            "text/plain": [
              "[1, 'a', True]"
            ]
          },
          "metadata": {},
          "execution_count": 38
        }
      ]
    },
    {
      "cell_type": "markdown",
      "metadata": {
        "id": "khxoqawIHnoN"
      },
      "source": [
        "# <u>Python Comments</u>"
      ]
    },
    {
      "cell_type": "markdown",
      "metadata": {
        "id": "7he_1JNlHnoN"
      },
      "source": [
        "* Comments are very important while writing a program. They describe what is going on inside a program, so that a person looking at the source code does not have a hard time figuring it out.\n",
        "\n",
        "\n",
        "* You might forget the key details of the program you just wrote in a month's time. So taking the time to explain these concepts in the form of comments is always fruitful.\n",
        "\n",
        "\n",
        "* In Python, we use the hash (#) symbol to start writing a comment.\n",
        "\n",
        "\n",
        "* It extends up to the newline character. Comments are for programmers to better understand a program. Python Interpreter ignores comments."
      ]
    },
    {
      "cell_type": "code",
      "metadata": {
        "id": "r5BzV1ITHnoN",
        "colab": {
          "base_uri": "https://localhost:8080/"
        },
        "outputId": "e0b2109b-92eb-4ad9-8c1a-4fec471121d2"
      },
      "source": [
        "# This is a comment\n",
        "# print('Hello')\n",
        "print('Hello')"
      ],
      "execution_count": null,
      "outputs": [
        {
          "output_type": "stream",
          "name": "stdout",
          "text": [
            "Hello\n"
          ]
        }
      ]
    },
    {
      "cell_type": "markdown",
      "metadata": {
        "id": "rt8jeajiHnoQ"
      },
      "source": [
        "* We can have comments that extend up to multiple lines. One way is to use the hash(#) symbol at the beginning of each line. For example:"
      ]
    },
    {
      "cell_type": "code",
      "metadata": {
        "id": "ke5LH88CHnoQ"
      },
      "source": [
        "# This is a long comment\n",
        "# and it extends\n",
        "# to multiple lines"
      ],
      "execution_count": null,
      "outputs": []
    },
    {
      "cell_type": "markdown",
      "metadata": {
        "id": "dM5xcR6uHnoS"
      },
      "source": [
        "* Another way of doing this is to use triple quotes, either ''' or \"\"\".\n",
        "\n",
        "\n",
        "* These triple quotes are generally used for multi-line strings. But they can be used as a multi-line comment as well. Unless they are not docstrings, they do not generate any extra code."
      ]
    },
    {
      "cell_type": "code",
      "metadata": {
        "id": "o1Aw0HL7HnoT",
        "colab": {
          "base_uri": "https://localhost:8080/"
        },
        "outputId": "956adda2-e405-4444-83df-272c21994bc8"
      },
      "source": [
        "'''This is also a\n",
        "perfect example of\n",
        "ahjcdjh\n",
        "sdjbdkjas\n",
        "mnbscjsab\n",
        "bkjabfa\n",
        "multi-line comments'''\n",
        "\n",
        "a = 3\n",
        "print(a)"
      ],
      "execution_count": null,
      "outputs": [
        {
          "output_type": "stream",
          "name": "stdout",
          "text": [
            "3\n"
          ]
        }
      ]
    },
    {
      "cell_type": "markdown",
      "metadata": {
        "id": "XM2CjOCyHnoV"
      },
      "source": [
        "# <u>Indentation in Python </u>\n",
        "\n",
        "It is important to keep a good understanding of how indentation works in Python to maintain the structure and order of your code. We will touch on this topic again when we start building out functions!"
      ]
    },
    {
      "cell_type": "markdown",
      "metadata": {
        "id": "uhAgTP0tHnoW"
      },
      "source": [
        "* Let's create a simple statement that says: \"If a is greater than b, assign 2 to a and 4 to b\"\n",
        "\n",
        "\n",
        "* Take a look at how to write a simple if statement                 "
      ]
    },
    {
      "cell_type": "code",
      "metadata": {
        "id": "cubiTvRkHnoW",
        "colab": {
          "base_uri": "https://localhost:8080/"
        },
        "outputId": "52da62ab-aae6-4e38-f04f-ce5b1bf2c976"
      },
      "source": [
        "a=10\n",
        "b=3\n",
        "if b>a:\n",
        "  print('hello')\n",
        "\n",
        "# if b > a:\n",
        "#   a = 5\n",
        "#   b = 5"
      ],
      "execution_count": null,
      "outputs": [
        {
          "output_type": "stream",
          "name": "stdout",
          "text": [
            "not true\n"
          ]
        }
      ]
    },
    {
      "cell_type": "code",
      "metadata": {
        "id": "x3pl15PBHnoZ",
        "colab": {
          "base_uri": "https://localhost:8080/"
        },
        "outputId": "f5410adc-abce-4e41-dc99-b56481bb75d1"
      },
      "source": [
        "a"
      ],
      "execution_count": null,
      "outputs": [
        {
          "output_type": "execute_result",
          "data": {
            "text/plain": [
              "2"
            ]
          },
          "metadata": {},
          "execution_count": 43
        }
      ]
    },
    {
      "cell_type": "code",
      "metadata": {
        "id": "fPEVAaRLHnoc",
        "colab": {
          "base_uri": "https://localhost:8080/"
        },
        "outputId": "39e4fad5-b6ed-46e9-fb1c-17a0c9b990a1"
      },
      "source": [
        "b"
      ],
      "execution_count": null,
      "outputs": [
        {
          "output_type": "execute_result",
          "data": {
            "text/plain": [
              "3"
            ]
          },
          "metadata": {},
          "execution_count": 44
        }
      ]
    },
    {
      "cell_type": "code",
      "metadata": {
        "id": "5dv6qNOXlL6X"
      },
      "source": [
        "a, b = 1, 2"
      ],
      "execution_count": null,
      "outputs": []
    },
    {
      "cell_type": "code",
      "metadata": {
        "id": "RKk2I-kKHnoe"
      },
      "source": [
        "# if a < b :\n"
      ],
      "execution_count": null,
      "outputs": []
    },
    {
      "cell_type": "markdown",
      "metadata": {
        "id": "7zf6T5CSHnog"
      },
      "source": [
        "* You'll notice that Python is less cluttered and much more readable than other languages like C or Java. How does Python manage this?\n",
        "\n",
        "\n",
        "* The statement is ended with a colon, and whitespace(tab) is used (indentation) to describe what takes place in case of the statement.\n",
        "\n",
        "\n",
        "* Another major difference is the lack of semicolons in Python.\n",
        "\n",
        "\n",
        "* Semicolons are used to denote statement endings in many other languages, but in Python, **the end of a line is the same as the end of a statement.**\n",
        "\n",
        "\n",
        "* Lastly, to end this brief overview of differences, let's take a closer look at indentation syntax in Python vs other languages:"
      ]
    },
    {
      "cell_type": "markdown",
      "metadata": {
        "id": "1tDQg0B1Hnog"
      },
      "source": [
        "# <u> Conditional Statements </u>\n",
        "\n",
        "* <code>if</code> Statements in Python allows us to tell the computer to perform alternative actions based on a certain set of results.\n",
        "\n",
        "\n",
        "* Verbally, we can imagine we are telling the computer:\"Hey if this case happens, perform some action\"\n",
        "\n",
        "\n",
        "* We can then expand the idea further with <code>elif</code> and <code>else</code> statements, which allow us to tell the computer: \"Hey if this case happens, perform some action. Else, if another case happens, perform some other action. Else, if *none* of the above cases happened, perform this action.\"\n",
        "\n",
        "\n",
        "* Let's go ahead and look at the syntax format for <code>if</code> statements to get a better idea of this:\n",
        "\n",
        "    if case1:\n",
        "        perform action1\n",
        "    elif case2:\n",
        "        perform action2\n",
        "    else:\n",
        "        perform action3"
      ]
    },
    {
      "cell_type": "markdown",
      "source": [
        "if case1 :\n",
        "  # do some action\n",
        "  elif case 5 :\n",
        "    # another action\n",
        "elif case2 :\n",
        "  # do some another action\n",
        "else:\n",
        "  # do some yet another action"
      ],
      "metadata": {
        "id": "9HTiofEDoOR6"
      }
    },
    {
      "cell_type": "code",
      "metadata": {
        "id": "bFe8-H-oHnoh",
        "colab": {
          "base_uri": "https://localhost:8080/"
        },
        "outputId": "bc9025a8-0abc-4105-e609-e243e635ab40"
      },
      "source": [
        "x=30   # Statement 1 - Assignment statement\n",
        "\n",
        "if x == 30 :\n",
        "  print('x is greater than 10!')\n",
        "  print('x is', x)\n",
        "  print(f'x is {x}')"
      ],
      "execution_count": null,
      "outputs": [
        {
          "output_type": "stream",
          "name": "stdout",
          "text": [
            "x is greater than 10!\n",
            "x is 30\n",
            "x is 30\n"
          ]
        }
      ]
    },
    {
      "cell_type": "code",
      "source": [
        "x=30   # Statement 1 - Assignment statement\n",
        "\n",
        "if x == (5*6) :\n",
        "  print('x is greater than 10!')\n",
        "  print(f'x is {x}')"
      ],
      "metadata": {
        "id": "grilp0EITFL2",
        "colab": {
          "base_uri": "https://localhost:8080/"
        },
        "outputId": "42e5a036-8589-4ef0-ac40-69f5b47cac63"
      },
      "execution_count": null,
      "outputs": [
        {
          "output_type": "stream",
          "name": "stdout",
          "text": [
            "x is greater than 10!\n",
            "x is 30\n"
          ]
        }
      ]
    },
    {
      "cell_type": "markdown",
      "metadata": {
        "id": "RI18dXE4Hnok"
      },
      "source": [
        "* <code>if</code> statement evaluates the True condition"
      ]
    },
    {
      "cell_type": "code",
      "metadata": {
        "id": "0c6qcOShq1AI",
        "colab": {
          "base_uri": "https://localhost:8080/"
        },
        "outputId": "cf611248-f708-487d-d427-6ffe4c8bd5f4"
      },
      "source": [
        "x == 20"
      ],
      "execution_count": null,
      "outputs": [
        {
          "output_type": "execute_result",
          "data": {
            "text/plain": [
              "False"
            ]
          },
          "metadata": {},
          "execution_count": 48
        }
      ]
    },
    {
      "cell_type": "code",
      "metadata": {
        "id": "n2L2kPAkHnol",
        "colab": {
          "base_uri": "https://localhost:8080/"
        },
        "outputId": "85233e79-069e-422c-9831-796d6d289a4d"
      },
      "source": [
        "if True:\n",
        "  print('It was true!')"
      ],
      "execution_count": null,
      "outputs": [
        {
          "output_type": "stream",
          "name": "stdout",
          "text": [
            "It was true!\n"
          ]
        }
      ]
    },
    {
      "cell_type": "code",
      "metadata": {
        "id": "qvVhD8tYHnon"
      },
      "source": [
        "if False:\n",
        "  print('It was true!')"
      ],
      "execution_count": null,
      "outputs": []
    },
    {
      "cell_type": "markdown",
      "metadata": {
        "id": "ofrPBG8ZHnop"
      },
      "source": [
        "Let's add in some else logic:"
      ]
    },
    {
      "cell_type": "code",
      "metadata": {
        "id": "EF7AiLkrHnoq",
        "colab": {
          "base_uri": "https://localhost:8080/"
        },
        "outputId": "712315ea-cb79-4dbf-dd81-1408a6d3a12a"
      },
      "source": [
        "x = False\n",
        "y = True\n",
        "\n",
        "if x == True:\n",
        "  print('y was True!')\n",
        "else:\n",
        "  print('I will be printed in any case where x is not true')"
      ],
      "execution_count": null,
      "outputs": [
        {
          "output_type": "stream",
          "name": "stdout",
          "text": [
            "I will be printed in any case where x is not true\n"
          ]
        }
      ]
    },
    {
      "cell_type": "markdown",
      "metadata": {
        "id": "lEGoq9pjHnos"
      },
      "source": [
        "* Let's get a fuller picture of how far <code>if</code>, <code>elif</code>, and <code>else</code> can take us!\n",
        "\n",
        "\n",
        "* We write this out in a nested structure. Take note of how the <code>if</code>, <code>elif</code>, and <code>else</code> line up in the code. This can help you see what <code>if</code> is related to what <code>elif</code> or <code>else</code> statements."
      ]
    },
    {
      "cell_type": "code",
      "metadata": {
        "id": "DbV35ChhHnot",
        "colab": {
          "base_uri": "https://localhost:8080/"
        },
        "outputId": "cfe0ab38-8230-4c85-9e11-f9875f8c33b5"
      },
      "source": [
        "city = 'Mumbai'\n",
        "\n",
        "if city == 'New Delhi':\n",
        "  print('Welcome to the Indian Capital')\n",
        "elif city == 'Mumbai':\n",
        "  print('Welcome to the Financial Capital of India!')\n",
        "else:\n",
        "  print('Where are you?')"
      ],
      "execution_count": null,
      "outputs": [
        {
          "output_type": "stream",
          "name": "stdout",
          "text": [
            "Welcome to the Financial Capital of India!\n"
          ]
        }
      ]
    },
    {
      "cell_type": "markdown",
      "metadata": {
        "id": "Crk-mLkYHnow"
      },
      "source": [
        "* Note how the nested <code>if</code> statements are each checked until a True boolean causes the nested code below it to run. You should also note that you can put in as many <code>elif</code> statements as you want before you close off with an <code>else</code>.\n",
        "\n",
        "\n",
        "* Let's create two more simple examples for the <code>if</code>, <code>elif</code>, and <code>else</code> statements:"
      ]
    },
    {
      "cell_type": "code",
      "metadata": {
        "id": "gclDFcteHnow",
        "colab": {
          "base_uri": "https://localhost:8080/"
        },
        "outputId": "618ac81e-b7ee-4c25-c2c4-5dc0fafa8a18"
      },
      "source": [
        "person = 'Johnny'\n",
        "\n",
        "if person == 'Johnny':\n",
        "    print(f'Welcome {person}!')\n",
        "else:\n",
        "    print(\"Welcome, what's your name?\")"
      ],
      "execution_count": null,
      "outputs": [
        {
          "output_type": "stream",
          "name": "stdout",
          "text": [
            "Welcome Johnny!\n"
          ]
        }
      ]
    },
    {
      "cell_type": "code",
      "metadata": {
        "id": "b3kcCb1oHnoz",
        "colab": {
          "base_uri": "https://localhost:8080/"
        },
        "outputId": "23583efe-7959-4799-af3a-a9f0350ee75f"
      },
      "source": [
        "number1 = 4\n",
        "number2 = 15\n",
        "\n",
        "if number1 > 0:\n",
        "  if number2 < 10 :\n",
        "    print(number2 + number1)\n",
        "  else:\n",
        "    print(\"Should be greater than 10\")\n",
        "\n",
        "elif number1 < 0:\n",
        "    print(\"Ah, that's a negative number\")\n",
        "else:\n",
        "    print(\"The number is zero!\")"
      ],
      "execution_count": null,
      "outputs": [
        {
          "output_type": "stream",
          "name": "stdout",
          "text": [
            "Should be greater than 10\n"
          ]
        }
      ]
    },
    {
      "cell_type": "markdown",
      "source": [
        "#Scholarship Eligibility\n",
        "\n",
        "Ask for a student's GPA and family income:\n",
        "\n",
        "If GPA is above 3.5, check if family income is below $40,000 (Full scholarship).\n",
        "\n",
        "Otherwise, check if GPA is above 3.0 (Partial scholarship).\n",
        "\n",
        "If neither, print \"No scholarship.\""
      ],
      "metadata": {
        "id": "9sTUihRttttN"
      }
    },
    {
      "cell_type": "code",
      "source": [
        "gpa=float(input(\"Enter your GPA \"))\n",
        "income=int(input(\"Enter your family income \"))\n",
        "if gpa>3.5:\n",
        "  if income<40000:\n",
        "    print(\"Full scholarship\")\n",
        "  else:\n",
        "    print(\"No scholarship\")\n",
        "elif gpa>3.0:=\n",
        "  print(\"Partial scholarship\")\n",
        "else:\n",
        "  print(\"No scholarship\")"
      ],
      "metadata": {
        "id": "9DIjXjsuIw9u",
        "colab": {
          "base_uri": "https://localhost:8080/"
        },
        "outputId": "17235773-4325-4f6c-d8d2-771c8518e279"
      },
      "execution_count": null,
      "outputs": [
        {
          "output_type": "stream",
          "name": "stdout",
          "text": [
            "Enter your GPA 2.5\n",
            "Enter your family income 5000\n",
            "No scholarship\n"
          ]
        }
      ]
    },
    {
      "cell_type": "markdown",
      "source": [
        "#Traffic Light with Pedestrian Signal\n",
        "\n",
        "Ask the user for a traffic light color:\n",
        "\n",
        "If the light is green, check if there are pedestrians crossing (If yes, \"Wait\"; else, \"Go\").\n",
        "\n",
        "If the light is yellow, print \"Slow down.\"\n",
        "\n",
        "If the light is red, print \"Stop.\"\n",
        "\n",
        "Also print invalid input if it is not a valid color"
      ],
      "metadata": {
        "id": "EPpD0Hllx7EG"
      }
    },
    {
      "cell_type": "code",
      "source": [
        "light_color=input(\"Enter the traffic light color \")\n",
        "\n",
        "if light_color==\"green\":\n",
        "  pedestrian=input(\"Are there pedestrians crossing? (yes/no) \")\n",
        "  if pedestrian==\"yes\":\n",
        "    print(\"Wait\")\n",
        "  else:\n",
        "    print(\"Go\")\n",
        "elif light_color==\"yellow\":\n",
        "  print(\"Slow down\")\n",
        "elif light_color==\"red\":\n",
        "  print(\"Stop\")\n",
        "else:\n",
        "  print(\"Invalid input\")"
      ],
      "metadata": {
        "id": "q0_9zrLAIw68",
        "colab": {
          "base_uri": "https://localhost:8080/"
        },
        "outputId": "4ee59628-3b00-4423-9f49-8b9e5aee7e59"
      },
      "execution_count": null,
      "outputs": [
        {
          "output_type": "stream",
          "name": "stdout",
          "text": [
            "Enter the traffic light color red\n",
            "Stop\n"
          ]
        }
      ]
    },
    {
      "cell_type": "markdown",
      "source": [
        "#Login System\n",
        "\n",
        "Ask for a username and password:\n",
        "\n",
        "If the username is correct, check if the password is correct (Allow login).\n",
        "\n",
        "Otherwise, print \"Incorrect password.\"\n",
        "\n",
        "If the username is wrong, print \"User not found.\""
      ],
      "metadata": {
        "id": "AcbE4gSt2HMd"
      }
    },
    {
      "cell_type": "code",
      "source": [
        "correct_username=\"admin\"\n",
        "correct_password=\"12345\"\n",
        "\n",
        "username=input(\"Enter the username \")\n",
        "password=input(\"Enter the password \")\n",
        "\n",
        "if username==correct_username:\n",
        "  if password==correct_password:\n",
        "    print(\"Allow login\")\n",
        "  else:\n",
        "    print(\"Incorrect password\")\n",
        "else:\n",
        "  print(\"User not found\")"
      ],
      "metadata": {
        "id": "T0S3LWryIw4A",
        "colab": {
          "base_uri": "https://localhost:8080/"
        },
        "outputId": "0547ab9d-c512-4ccf-df8f-6e10ec6c1a0f"
      },
      "execution_count": null,
      "outputs": [
        {
          "output_type": "stream",
          "name": "stdout",
          "text": [
            "Enter the username asd\n",
            "Enter the password 12345\n",
            "User not found\n"
          ]
        }
      ]
    },
    {
      "cell_type": "markdown",
      "source": [
        "#Eligibility for a Loan\n",
        "\n",
        "Ask a user for their age and monthly income:\n",
        "\n",
        "If the age is above 21, check if the income is above $3000 (Eligible for a premium loan).\n",
        "\n",
        "Otherwise, check if income is above $1500 and if the age is greater than 21, Eligible for a premium loan else not eligible for loan.\n",
        "\n",
        "If none of these conditions are met, print \"Not eligible.\""
      ],
      "metadata": {
        "id": "PA3HdY305aWJ"
      }
    },
    {
      "cell_type": "code",
      "source": [
        "age=int(input(\"Enter your age \"))\n",
        "income=int(input(\"Enter your monthly income \"))\n",
        "\n",
        "if age>21:\n",
        "  if income>3000:\n",
        "    print(\"Eligible for a premium loan\")\n",
        "  else:\n",
        "    print(\"Eligible for a regular loan\")\n",
        "elif income >1500:\n",
        "  if age>21:\n",
        "    print(\"Eligible for a premium loan\")\n",
        "  else:\n",
        "    print(\"Not eligible\")\n",
        "else:\n",
        "  print(\"Not eligible\")"
      ],
      "metadata": {
        "id": "aIRKT__QIw06",
        "colab": {
          "base_uri": "https://localhost:8080/"
        },
        "outputId": "b9a54fa7-4309-4d5a-c0bd-4d1871a831b0"
      },
      "execution_count": null,
      "outputs": [
        {
          "output_type": "stream",
          "name": "stdout",
          "text": [
            "Enter your age 21\n",
            "Enter your monthly income 50000\n",
            "Not eligible\n"
          ]
        }
      ]
    },
    {
      "cell_type": "markdown",
      "source": [
        "#Grading System\n",
        "\n",
        "Write a program that asks for a student's score and assigns a grade:\n",
        "\n",
        "If the score is above 90, check if it's above 95 (Grade A+), otherwise Grade A.\n",
        "\n",
        "If the score is between 80 and 90, check if it's above 85 (Grade B+), otherwise Grade B.\n",
        "\n",
        "Otherwise, print \"C or below.\""
      ],
      "metadata": {
        "id": "pNr-_wub9Owm"
      }
    },
    {
      "cell_type": "code",
      "source": [
        "score=float(input(\"Enter the score \"))\n",
        "\n",
        "if score>90:\n",
        "  if score>95:\n",
        "    print(\"Grade A+\")\n",
        "  else:\n",
        "    print(\"Grade A\")\n",
        "elif score>80:\n",
        "  if score>85:\n",
        "    print(\"Grade B+\")\n",
        "  else:\n",
        "    print(\"Grade B\")\n",
        "else:\n",
        "  print(\"C or below\")"
      ],
      "metadata": {
        "id": "mlAIXe6IIwxh",
        "colab": {
          "base_uri": "https://localhost:8080/"
        },
        "outputId": "78e81b6f-3be4-4184-d859-2a1a8765aef5"
      },
      "execution_count": null,
      "outputs": [
        {
          "output_type": "stream",
          "name": "stdout",
          "text": [
            "Enter the score 91\n",
            "Grade A\n"
          ]
        }
      ]
    },
    {
      "cell_type": "markdown",
      "metadata": {
        "id": "2NN-koY-6af9"
      },
      "source": [
        "## <u>Truthy & Falsy</u>\n",
        "\n",
        "### A \"truthy\" value will satisfy the check performed by if or while statements. We use \"truthy\" and \"falsy\" to differentiate from the boolean values True and False."
      ]
    },
    {
      "cell_type": "markdown",
      "metadata": {
        "id": "iAhlDVWQ61kr"
      },
      "source": [
        "### All values are considered \"truthy\" except for the following, which are \"falsy\":\n",
        "\n",
        "* <code>None</code>\n",
        "* <code>False</code>\n",
        "* <code>0</code>\n",
        "* <code>0.0</code>\n",
        "* <code>[]</code> - an empty <code>list</code>\n",
        "* <code>{}</code> - an empty <code>dict</code>\n",
        "* <code>()</code> - an empty <code>tuple</code>\n",
        "* <code>''</code> - an empty <code>str</code>"
      ]
    },
    {
      "cell_type": "code",
      "metadata": {
        "id": "TsUz73an6dQy",
        "colab": {
          "base_uri": "https://localhost:8080/"
        },
        "outputId": "c3266c4c-4477-49e7-c48a-c9fd9375799b"
      },
      "source": [
        "# Consider the following statement\n",
        "\n",
        "if set():\n",
        "  print(\"What do you say?\")\n",
        "else:\n",
        "  print(\"I have nothing to say\")"
      ],
      "execution_count": null,
      "outputs": [
        {
          "output_type": "stream",
          "name": "stdout",
          "text": [
            "I have nothing to say\n"
          ]
        }
      ]
    },
    {
      "cell_type": "code",
      "metadata": {
        "id": "3eaS1zDP7tN3",
        "colab": {
          "base_uri": "https://localhost:8080/"
        },
        "outputId": "9a634f6c-7503-478c-c69b-eb713c1dcf37"
      },
      "source": [
        "if {}:\n",
        "  print(\"Well I had a really bad day!\")\n",
        "else:\n",
        "  print(\"Come on you aced your test.\")"
      ],
      "execution_count": null,
      "outputs": [
        {
          "output_type": "stream",
          "name": "stdout",
          "text": [
            "Come on you aced your test.\n"
          ]
        }
      ]
    },
    {
      "cell_type": "code",
      "metadata": {
        "id": "2kWdK2bt758j",
        "colab": {
          "base_uri": "https://localhost:8080/"
        },
        "outputId": "4166d6ce-100a-41eb-992e-d09a363ceb23"
      },
      "source": [
        "if {1:2,3:4}:\n",
        "  print(\"This is True\")\n",
        "else:\n",
        "  print(\"This is False\")"
      ],
      "execution_count": null,
      "outputs": [
        {
          "output_type": "stream",
          "name": "stdout",
          "text": [
            "This is True\n"
          ]
        }
      ]
    },
    {
      "cell_type": "code",
      "source": [
        "a={1,}"
      ],
      "metadata": {
        "id": "V1iT_00TpjV8"
      },
      "execution_count": null,
      "outputs": []
    },
    {
      "cell_type": "code",
      "source": [
        "type(a)"
      ],
      "metadata": {
        "colab": {
          "base_uri": "https://localhost:8080/"
        },
        "id": "C6B_GNJtpqHy",
        "outputId": "909f52a9-8237-4ff5-cdb0-3a436ed9d6c3"
      },
      "execution_count": null,
      "outputs": [
        {
          "output_type": "execute_result",
          "data": {
            "text/plain": [
              "set"
            ]
          },
          "metadata": {},
          "execution_count": 24
        }
      ]
    },
    {
      "cell_type": "code",
      "source": [
        "num1 = int(input())\n",
        "num2 = int(input())\n",
        "if num1 > num2:\n",
        "   num1, num2 = num2, num1\n",
        "if num2 % 2 == 0:\n",
        "    print(num2)\n",
        "else:\n",
        "    print(num2 - 1)"
      ],
      "metadata": {
        "id": "qd9ja6_D3M_l",
        "colab": {
          "base_uri": "https://localhost:8080/"
        },
        "outputId": "323c6881-026d-4ebd-ea20-0a57ab65634f"
      },
      "execution_count": null,
      "outputs": [
        {
          "output_type": "stream",
          "name": "stdout",
          "text": [
            "5\n",
            "7\n",
            "6\n"
          ]
        }
      ]
    },
    {
      "cell_type": "code",
      "source": [
        "import string\n",
        "\n",
        "sentence = input(\"Enter a sentence: \").lower()\n",
        "alphabet = set(string.ascii_lowercase)\n",
        "\n",
        "if set(sentence) >= alphabet:\n",
        "   print(\"The sentence is a pangram.\")\n",
        "else:\n",
        "   print(\"The sentence is not a pangram.\")"
      ],
      "metadata": {
        "id": "pzXLyHnzo50p"
      },
      "execution_count": null,
      "outputs": []
    },
    {
      "cell_type": "code",
      "source": [
        "number = int(input(\"Enter a number: \"))\n",
        "cube_root = number ** (1/3)\n",
        "\n",
        "if round(cube_root) ** 3 == number:\n",
        "   print(number, \"is a perfect cube.\")\n",
        "else:\n",
        "   print(number, \"is not a perfect cube.\")"
      ],
      "metadata": {
        "id": "l213BE48O4co",
        "colab": {
          "base_uri": "https://localhost:8080/"
        },
        "outputId": "49490513-cc07-4c21-a852-36e8657b87c3"
      },
      "execution_count": null,
      "outputs": [
        {
          "output_type": "stream",
          "name": "stdout",
          "text": [
            "Enter a number: 1\n",
            "1 is a perfect cube.\n"
          ]
        }
      ]
    },
    {
      "cell_type": "code",
      "source": [
        "num=int(input())\n",
        "if num <= 0:\n",
        "  print(False)\n",
        "while num % 2 == 0:\n",
        "  num /= 2\n",
        "print(num == 1)"
      ],
      "metadata": {
        "id": "0DQXSoDDhZZ_",
        "colab": {
          "base_uri": "https://localhost:8080/"
        },
        "outputId": "e0f51bf2-9ab7-4a17-aaf6-c6557cb9605c"
      },
      "execution_count": null,
      "outputs": [
        {
          "output_type": "stream",
          "name": "stdout",
          "text": [
            "8\n",
            "True\n"
          ]
        }
      ]
    },
    {
      "cell_type": "markdown",
      "source": [
        "WAP to check whether which city is ?\n",
        "\n",
        "If it is mumbai, print welcome to financial capital of india;\n",
        "\n",
        "If it is Delhi print welcome to the capital city of India\n",
        "\n",
        "or else print where are you"
      ],
      "metadata": {
        "id": "pn2YMVegE0hR"
      }
    },
    {
      "cell_type": "markdown",
      "source": [
        "WAP to check whether a number is even or odd"
      ],
      "metadata": {
        "id": "jtgAKl5WIn2Z"
      }
    },
    {
      "cell_type": "markdown",
      "source": [
        "WAP to check whether a number is divible by 3 or not"
      ],
      "metadata": {
        "id": "4TZOHWgiK7Ah"
      }
    }
  ]
}