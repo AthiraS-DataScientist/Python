{
  "cells": [
    {
      "cell_type": "markdown",
      "metadata": {
        "id": "UhmgnA67JbOo"
      },
      "source": [
        "## Different data types (data structures) we will encounter in Python\n",
        "* ### <u>Numeric</u>  - Numeric variables take values which are numbers like 9, 3.14, 0\n",
        "\n",
        "\n",
        "* ### <u>String </u>  - String variables are used to store textual information\n",
        "\n",
        "\n",
        "* ### <u>Boolean</u>  - Boolean variables have two modes either True or False. A definite judge of statements!\n",
        "\n",
        "\n",
        "* ### <u>Datetime </u> - These variables are used to store date and time values such as 2020-08-01 12:23:54"
      ]
    },
    {
      "cell_type": "code",
      "source": [
        "print(\"hello\")"
      ],
      "metadata": {
        "colab": {
          "base_uri": "https://localhost:8080/"
        },
        "id": "Zkab_KR-9aH6",
        "outputId": "9a406756-5b5e-496c-f2be-e024cc871204"
      },
      "execution_count": null,
      "outputs": [
        {
          "output_type": "stream",
          "name": "stdout",
          "text": [
            "hello\n"
          ]
        }
      ]
    },
    {
      "cell_type": "code",
      "execution_count": null,
      "metadata": {
        "colab": {
          "base_uri": "https://localhost:8080/"
        },
        "id": "c47qVnCckFF4",
        "outputId": "aab490b6-b111-4910-a237-8beda429f4f2"
      },
      "outputs": [
        {
          "output_type": "stream",
          "name": "stdout",
          "text": [
            "Hello, World!\n"
          ]
        }
      ],
      "source": [
        "print(\"Hello, World!\")"
      ]
    },
    {
      "cell_type": "markdown",
      "metadata": {
        "id": "I9Fwf5ooJbOq"
      },
      "source": [
        "# <u> Integers and Floats </u>"
      ]
    },
    {
      "cell_type": "markdown",
      "metadata": {
        "id": "Mfy5IszoJbOr"
      },
      "source": [
        "## Basic Arithmetic"
      ]
    },
    {
      "cell_type": "code",
      "execution_count": null,
      "metadata": {
        "colab": {
          "base_uri": "https://localhost:8080/"
        },
        "id": "sn4BtpEIJbOr",
        "outputId": "58875fbf-9b5b-4dfb-9200-70296cdd4c30"
      },
      "outputs": [
        {
          "output_type": "execute_result",
          "data": {
            "text/plain": [
              "3"
            ]
          },
          "metadata": {},
          "execution_count": 1
        }
      ],
      "source": [
        "# Addition\n",
        "2+1"
      ]
    },
    {
      "cell_type": "code",
      "execution_count": null,
      "metadata": {
        "colab": {
          "base_uri": "https://localhost:8080/"
        },
        "id": "oQYLI1w4JbOx",
        "outputId": "f3a061d0-9f66-40e5-9118-afe13a3a20fe"
      },
      "outputs": [
        {
          "output_type": "execute_result",
          "data": {
            "text/plain": [
              "-3"
            ]
          },
          "metadata": {},
          "execution_count": 59
        }
      ],
      "source": [
        "# Subtraction\n",
        "2-5"
      ]
    },
    {
      "cell_type": "code",
      "execution_count": null,
      "metadata": {
        "colab": {
          "base_uri": "https://localhost:8080/"
        },
        "id": "ZRun8NmAJbO0",
        "outputId": "eab3e8d0-377e-42c0-ff0c-b2322708f9c6"
      },
      "outputs": [
        {
          "output_type": "execute_result",
          "data": {
            "text/plain": [
              "4"
            ]
          },
          "metadata": {},
          "execution_count": 60
        }
      ],
      "source": [
        "# Multiplication\n",
        "2*2"
      ]
    },
    {
      "cell_type": "code",
      "execution_count": null,
      "metadata": {
        "colab": {
          "base_uri": "https://localhost:8080/"
        },
        "id": "etEpKlXqJbO2",
        "outputId": "0bed8aab-5671-4ec6-fca1-ca4a55fc2898"
      },
      "outputs": [
        {
          "output_type": "execute_result",
          "data": {
            "text/plain": [
              "1.5"
            ]
          },
          "metadata": {},
          "execution_count": 61
        }
      ],
      "source": [
        "# Division\n",
        "3/2"
      ]
    },
    {
      "cell_type": "code",
      "execution_count": null,
      "metadata": {
        "colab": {
          "base_uri": "https://localhost:8080/"
        },
        "id": "_6rPJxI6JbO5",
        "outputId": "6b65dc3c-4e3a-4b4f-ef56-483b7cb41d82"
      },
      "outputs": [
        {
          "output_type": "execute_result",
          "data": {
            "text/plain": [
              "4"
            ]
          },
          "metadata": {},
          "execution_count": 2
        }
      ],
      "source": [
        "# Floor Division\n",
        "9//2"
      ]
    },
    {
      "cell_type": "code",
      "execution_count": null,
      "metadata": {
        "colab": {
          "base_uri": "https://localhost:8080/"
        },
        "id": "-nwZ9QhfJbO8",
        "outputId": "c3263667-62c0-4ed1-d2c1-bc84ffc3eba0"
      },
      "outputs": [
        {
          "output_type": "execute_result",
          "data": {
            "text/plain": [
              "64"
            ]
          },
          "metadata": {},
          "execution_count": 2
        }
      ],
      "source": [
        "# Exponentiation\n",
        "4**3"
      ]
    },
    {
      "cell_type": "code",
      "execution_count": null,
      "metadata": {
        "colab": {
          "base_uri": "https://localhost:8080/"
        },
        "id": "JuBKbD6rJbO-",
        "outputId": "7a9b47fb-2363-4e50-985a-f5854654e8b4"
      },
      "outputs": [
        {
          "output_type": "execute_result",
          "data": {
            "text/plain": [
              "1"
            ]
          },
          "metadata": {},
          "execution_count": 2
        }
      ],
      "source": [
        "# Modulus\n",
        "10%3"
      ]
    },
    {
      "cell_type": "code",
      "execution_count": null,
      "metadata": {
        "colab": {
          "base_uri": "https://localhost:8080/"
        },
        "id": "GwB4UnlJJbPD",
        "outputId": "531e012f-0aca-47c6-eb2d-6ff5875cef10"
      },
      "outputs": [
        {
          "output_type": "execute_result",
          "data": {
            "text/plain": [
              "105"
            ]
          },
          "metadata": {},
          "execution_count": 65
        }
      ],
      "source": [
        "# Order of Operations followed in Python\n",
        "2 + 10 * 10 + 3"
      ]
    },
    {
      "cell_type": "code",
      "execution_count": null,
      "metadata": {
        "colab": {
          "base_uri": "https://localhost:8080/"
        },
        "id": "tL0-wPcvJbPF",
        "outputId": "695cfb81-577d-4c37-e475-bf7277173642"
      },
      "outputs": [
        {
          "output_type": "execute_result",
          "data": {
            "text/plain": [
              "132"
            ]
          },
          "metadata": {},
          "execution_count": 66
        }
      ],
      "source": [
        "2+ 10* (10+3)"
      ]
    },
    {
      "cell_type": "code",
      "execution_count": null,
      "metadata": {
        "colab": {
          "base_uri": "https://localhost:8080/"
        },
        "id": "Zx1mkJYQJbPJ",
        "outputId": "06407386-8c2d-44e5-f8d1-83a5c981974c"
      },
      "outputs": [
        {
          "output_type": "execute_result",
          "data": {
            "text/plain": [
              "4000.0"
            ]
          },
          "metadata": {},
          "execution_count": 3
        }
      ],
      "source": [
        "# Scientific Notation for representing large numbers\n",
        "4E3\n",
        "# or 4e2"
      ]
    },
    {
      "cell_type": "markdown",
      "metadata": {
        "id": "SAG3VykOJbPM"
      },
      "source": [
        "## Let's talk about numbers!\n",
        "\n",
        "* A lot many different types of numbers are supported in Python like integers (int type), real numbers (float type), complex numbers. We will mostly use integer and floating point numbers.\n",
        "\n",
        "\n",
        "* Integers are just whole numbers, positive or negative. For example: 2 and -2 are examples of integers.\n",
        "\n",
        "\n",
        "* Floating point numbers in Python are notable because they have a decimal point in them, or use an exponential (E) to define the number. For example 2.0 and -2.1 are examples of floating point numbers. 4E2 (4 times 10 to the power of 2) is also an example of a floating point number in Python.\n",
        "\n",
        "\n",
        "* In computing, floating-point arithmetic is arithmetic using formulaic representation of real numbers as an approximation to support a trade-off between range and precision. You can always control the number of digits coming after the decimal, hence they are called floating-point numbers"
      ]
    },
    {
      "cell_type": "markdown",
      "metadata": {
        "id": "mdf-bQxnJbPN"
      },
      "source": [
        "### The table below summarises the two numeric data types, Integers and Floats:\n",
        "<table>\n",
        "<tr>\n",
        "    <th>Examples</th>\n",
        "    <th>Number \"Type\"</th>\n",
        "</tr>\n",
        "\n",
        "<tr>\n",
        "    <td>1,2,-5,1000</td>\n",
        "    <td>Integers</td>\n",
        "</tr>\n",
        "\n",
        "<tr>\n",
        "    <td>1.2,-0.5,2e2,3E2</td>\n",
        "    <td>Floating-point numbers</td>\n",
        "</tr>\n",
        " </table>"
      ]
    },
    {
      "cell_type": "markdown",
      "metadata": {
        "id": "rU046YbcJbPN"
      },
      "source": [
        "## <u> What is a Variable? <u/>"
      ]
    },
    {
      "cell_type": "markdown",
      "metadata": {
        "id": "gW5YEnarJbPO"
      },
      "source": [
        "###  VARIABLES are entities which help us store information and retrieve it later.\n",
        "\n",
        " * A variable with a fixed name can store information of nature like numeric, textual, boolean etc.\n",
        "\n",
        "\n",
        " * A Python variable is a reserved memory location to store values. In other words, a variable in a python program gives data to the computer for processing.\n",
        "\n",
        "\n",
        " * The type of data contained in a variable can be changed at user's will."
      ]
    },
    {
      "cell_type": "code",
      "execution_count": null,
      "metadata": {
        "id": "GMzBISF_JbPO"
      },
      "outputs": [],
      "source": [
        "# You can store numbers in variables.\n",
        "# The standard rule is you write the variable name followed by = sign and the value it will take\n",
        "\n",
        "x=7"
      ]
    },
    {
      "cell_type": "code",
      "execution_count": null,
      "metadata": {
        "colab": {
          "base_uri": "https://localhost:8080/"
        },
        "id": "sfHKamM3JbPR",
        "outputId": "741306f9-c3c6-4b3c-d956-a319b0a0e514"
      },
      "outputs": [
        {
          "output_type": "execute_result",
          "data": {
            "text/plain": [
              "7"
            ]
          },
          "metadata": {},
          "execution_count": 4
        }
      ],
      "source": [
        "x"
      ]
    },
    {
      "cell_type": "code",
      "execution_count": null,
      "metadata": {
        "colab": {
          "base_uri": "https://localhost:8080/"
        },
        "id": "UedV9GDlJbPU",
        "outputId": "28172475-c1a0-405c-9adb-d9adc150f0bd"
      },
      "outputs": [
        {
          "output_type": "execute_result",
          "data": {
            "text/plain": [
              "6.4"
            ]
          },
          "metadata": {},
          "execution_count": 6
        }
      ],
      "source": [
        "y=6.4\n",
        "y"
      ]
    },
    {
      "cell_type": "code",
      "execution_count": null,
      "metadata": {
        "colab": {
          "base_uri": "https://localhost:8080/"
        },
        "id": "7y_jVfDixtat",
        "outputId": "1fea1c44-dfcd-4342-d27a-b52e128bc0ab"
      },
      "outputs": [
        {
          "output_type": "execute_result",
          "data": {
            "text/plain": [
              "float"
            ]
          },
          "metadata": {},
          "execution_count": 15
        }
      ],
      "source": [
        "type(y)"
      ]
    },
    {
      "cell_type": "code",
      "execution_count": null,
      "metadata": {
        "colab": {
          "base_uri": "https://localhost:8080/"
        },
        "id": "OcUpyTY2Z4Fn",
        "outputId": "a28e7b31-44eb-40e5-823c-0804fe0ea8f2"
      },
      "outputs": [
        {
          "output_type": "stream",
          "name": "stdout",
          "text": [
            "6.4\n"
          ]
        }
      ],
      "source": [
        "print(y)"
      ]
    },
    {
      "cell_type": "markdown",
      "metadata": {
        "id": "1--OZJQAJbPW"
      },
      "source": [
        "### Basic Arithmetic operations we can do on x and y. Later we will be doing operations on thousands of such numbers in one go!"
      ]
    },
    {
      "cell_type": "code",
      "execution_count": null,
      "metadata": {
        "colab": {
          "base_uri": "https://localhost:8080/"
        },
        "id": "BNWS99YXJbPX",
        "outputId": "88d67ad9-be29-4a1d-dbb7-e6adb0e67269"
      },
      "outputs": [
        {
          "output_type": "stream",
          "name": "stdout",
          "text": [
            "13.4\n"
          ]
        }
      ],
      "source": [
        "# Addition\n",
        "z = x+y\n",
        "\n",
        "print(z)"
      ]
    },
    {
      "cell_type": "code",
      "execution_count": null,
      "metadata": {
        "id": "zusqZqZTJbPZ"
      },
      "outputs": [],
      "source": [
        "# Printing the memory address the variable z occupies\n",
        "# print(hex(id(z)))"
      ]
    },
    {
      "cell_type": "markdown",
      "metadata": {
        "id": "eo0mqrbOJbPb"
      },
      "source": [
        "* ### A variable can be assigned different values and data types and it will store the last value assigned"
      ]
    },
    {
      "cell_type": "code",
      "execution_count": null,
      "metadata": {
        "id": "osiP9CybpL_w"
      },
      "outputs": [],
      "source": []
    },
    {
      "cell_type": "code",
      "execution_count": null,
      "metadata": {
        "colab": {
          "base_uri": "https://localhost:8080/"
        },
        "id": "GNgNOpjIJbPc",
        "outputId": "fe743024-847a-4295-deef-5b2adde20e67"
      },
      "outputs": [
        {
          "output_type": "stream",
          "name": "stdout",
          "text": [
            "0.5999999999999996\n"
          ]
        }
      ],
      "source": [
        "# Subtraction\n",
        "z = x-y\n",
        "\n",
        "# Use the in-built print function to print the variable\n",
        "print(z)"
      ]
    },
    {
      "cell_type": "code",
      "execution_count": null,
      "metadata": {
        "id": "uQWOqYjdJbPe"
      },
      "outputs": [],
      "source": [
        "# Printing the memory address the variable z occupies\n",
        "# print(hex(id(z)))"
      ]
    },
    {
      "cell_type": "code",
      "execution_count": null,
      "metadata": {
        "colab": {
          "base_uri": "https://localhost:8080/"
        },
        "id": "RajV71HZJbPh",
        "outputId": "a82d3758-64e7-4061-e9ff-a2baf8b7bd58"
      },
      "outputs": [
        {
          "output_type": "execute_result",
          "data": {
            "text/plain": [
              "float"
            ]
          },
          "metadata": {},
          "execution_count": 8
        }
      ],
      "source": [
        " # Find out the data type of variable z\n",
        "type(z)"
      ]
    },
    {
      "cell_type": "code",
      "execution_count": null,
      "metadata": {
        "colab": {
          "base_uri": "https://localhost:8080/"
        },
        "id": "WThvonSGJbPk",
        "outputId": "c0dd5cb4-8ad7-43a2-f76a-5815ef0bf74a"
      },
      "outputs": [
        {
          "output_type": "stream",
          "name": "stdout",
          "text": [
            "44.800000000000004\n"
          ]
        },
        {
          "output_type": "execute_result",
          "data": {
            "text/plain": [
              "float"
            ]
          },
          "metadata": {},
          "execution_count": 78
        }
      ],
      "source": [
        "# Multiplication\n",
        "z = x*y\n",
        "\n",
        "print(z)  # Print the variable z\n",
        "type(z)   # Get the data type of variable z"
      ]
    },
    {
      "cell_type": "code",
      "execution_count": null,
      "metadata": {
        "colab": {
          "base_uri": "https://localhost:8080/"
        },
        "id": "Jz0GA8TtJbPn",
        "outputId": "da83ce42-bc12-4b44-85f9-345faa3e283f"
      },
      "outputs": [
        {
          "output_type": "stream",
          "name": "stdout",
          "text": [
            "1.09375\n"
          ]
        },
        {
          "output_type": "execute_result",
          "data": {
            "text/plain": [
              "float"
            ]
          },
          "metadata": {},
          "execution_count": 79
        }
      ],
      "source": [
        "# Division\n",
        "z = x/y\n",
        "\n",
        "print(z) # Print the variable z\n",
        "type(z)  # Get the data type of variable z"
      ]
    },
    {
      "cell_type": "code",
      "execution_count": null,
      "metadata": {
        "colab": {
          "base_uri": "https://localhost:8080/"
        },
        "id": "UFPxHaByJbPp",
        "outputId": "0353f18d-6086-413b-9c61-bc9a2bb46b8c"
      },
      "outputs": [
        {
          "output_type": "stream",
          "name": "stdout",
          "text": [
            "1.0\n"
          ]
        },
        {
          "output_type": "execute_result",
          "data": {
            "text/plain": [
              "float"
            ]
          },
          "metadata": {},
          "execution_count": 80
        }
      ],
      "source": [
        "# Floor division\n",
        "z= x//y\n",
        "print(z)\n",
        "type(z)"
      ]
    },
    {
      "cell_type": "markdown",
      "metadata": {
        "id": "tRtsrmQoJbPt"
      },
      "source": [
        "### Waittt! Shouldn't it be 0.75??\n",
        "* The reason we get this result is because we are using \"*floor*\" division. The <code>//</code> operator (two forward slashes) is the mathematical equivalent of doing [0.75] which returns the greatest integer less than or equal to 0.75"
      ]
    },
    {
      "cell_type": "code",
      "execution_count": null,
      "metadata": {
        "colab": {
          "base_uri": "https://localhost:8080/"
        },
        "id": "mkmUH8cuJbPu",
        "outputId": "45467396-d47a-4ed3-e3ea-e91b18b68498"
      },
      "outputs": [
        {
          "output_type": "stream",
          "name": "stdout",
          "text": [
            "2\n"
          ]
        }
      ],
      "source": [
        "# Modulo operator\n",
        "y=5\n",
        "x=3\n",
        "\n",
        "z = y%x       # Modulus is denoted by % sign\n",
        "print(z)"
      ]
    },
    {
      "cell_type": "code",
      "execution_count": null,
      "metadata": {
        "colab": {
          "base_uri": "https://localhost:8080/"
        },
        "id": "-gOV0xtCJbPz",
        "outputId": "112f416a-ef5f-4bed-8f30-d75b45e29a0f"
      },
      "outputs": [
        {
          "output_type": "stream",
          "name": "stdout",
          "text": [
            "243\n"
          ]
        }
      ],
      "source": [
        "# Using powers and exponents\n",
        "\n",
        "z = x**y    # We did not even need to store it in another variable nor use print command\n",
        "print(z)"
      ]
    },
    {
      "cell_type": "code",
      "execution_count": null,
      "metadata": {
        "colab": {
          "base_uri": "https://localhost:8080/"
        },
        "id": "yjojlOq0JbP1",
        "outputId": "c390985d-16d2-4dda-f3a0-990e271e4c33"
      },
      "outputs": [
        {
          "output_type": "stream",
          "name": "stdout",
          "text": [
            "7.6\n"
          ]
        },
        {
          "output_type": "execute_result",
          "data": {
            "text/plain": [
              "float"
            ]
          },
          "metadata": {},
          "execution_count": 83
        }
      ],
      "source": [
        "#@title Default title text\n",
        "# BODMAS\n",
        "some_random_operation =(x+y)/y + (y-x)*x\n",
        "\n",
        "print(some_random_operation)\n",
        "type(some_random_operation)"
      ]
    },
    {
      "cell_type": "code",
      "execution_count": null,
      "metadata": {
        "colab": {
          "base_uri": "https://localhost:8080/"
        },
        "id": "6GTBsnuoJbP4",
        "outputId": "4fca367c-c86e-4029-c1a6-398c71e9b764"
      },
      "outputs": [
        {
          "output_type": "stream",
          "name": "stdout",
          "text": [
            "6.22e+23\n"
          ]
        }
      ],
      "source": [
        "# Storing large integer numbers\n",
        "avogadro = 6.22E23\n",
        "\n",
        "print(avogadro)"
      ]
    },
    {
      "cell_type": "markdown",
      "metadata": {
        "id": "rxeNuG-pJbP6"
      },
      "source": [
        "##  Rules for naming a variable in Python\n",
        "\n",
        "* Variables names must start with a letter or an underscore like _ product , product_\n",
        "\n",
        "\n",
        "* The remainder of your variable name may consist of letters, numbers and underscores\n",
        "\n",
        "\n",
        "* spacy1, pyThon,machine_learning are some valid variable names\n",
        "\n",
        "\n",
        "* Names are case sensitive.\n",
        "\n",
        "\n",
        "* case_sensitive, CASE_SENSITIVE, and Case_Sensitive are each a different variable.\n"
      ]
    },
    {
      "cell_type": "code",
      "execution_count": null,
      "metadata": {
        "id": "40Ov9gtSJbP7",
        "colab": {
          "base_uri": "https://localhost:8080/",
          "height": 106
        },
        "outputId": "ec7e7f8f-2beb-4783-a66d-a5d2790124f3"
      },
      "outputs": [
        {
          "output_type": "error",
          "ename": "SyntaxError",
          "evalue": "invalid decimal literal (<ipython-input-9-3497f1d6b5d4>, line 1)",
          "traceback": [
            "\u001b[0;36m  File \u001b[0;32m\"<ipython-input-9-3497f1d6b5d4>\"\u001b[0;36m, line \u001b[0;32m1\u001b[0m\n\u001b[0;31m    2oNone = 4\u001b[0m\n\u001b[0m    ^\u001b[0m\n\u001b[0;31mSyntaxError\u001b[0m\u001b[0;31m:\u001b[0m invalid decimal literal\n"
          ]
        }
      ],
      "source": [
        "#2oNone = 4"
      ]
    },
    {
      "cell_type": "code",
      "execution_count": null,
      "metadata": {
        "id": "OxnashdWfE2K"
      },
      "outputs": [],
      "source": [
        "one = 5"
      ]
    },
    {
      "cell_type": "code",
      "source": [
        "# One"
      ],
      "metadata": {
        "id": "L_qmCTSp3Ej9",
        "colab": {
          "base_uri": "https://localhost:8080/",
          "height": 141
        },
        "outputId": "ae95555a-8a75-4fb1-b407-c3fdab689fd2"
      },
      "execution_count": null,
      "outputs": [
        {
          "output_type": "error",
          "ename": "NameError",
          "evalue": "name 'One' is not defined",
          "traceback": [
            "\u001b[0;31m---------------------------------------------------------------------------\u001b[0m",
            "\u001b[0;31mNameError\u001b[0m                                 Traceback (most recent call last)",
            "\u001b[0;32m<ipython-input-4-ec7a063d3990>\u001b[0m in \u001b[0;36m<cell line: 1>\u001b[0;34m()\u001b[0m\n\u001b[0;32m----> 1\u001b[0;31m \u001b[0mOne\u001b[0m\u001b[0;34m\u001b[0m\u001b[0;34m\u001b[0m\u001b[0m\n\u001b[0m",
            "\u001b[0;31mNameError\u001b[0m: name 'One' is not defined"
          ]
        }
      ]
    },
    {
      "cell_type": "code",
      "execution_count": null,
      "metadata": {
        "id": "68UBfOefgmGr"
      },
      "outputs": [],
      "source": [
        "list = 5"
      ]
    },
    {
      "cell_type": "code",
      "execution_count": null,
      "metadata": {
        "colab": {
          "base_uri": "https://localhost:8080/"
        },
        "id": "0DAMNZTLgp10",
        "outputId": "9af91b5c-a599-4087-c56b-900f6f2ece93"
      },
      "outputs": [
        {
          "output_type": "execute_result",
          "data": {
            "text/plain": [
              "5"
            ]
          },
          "metadata": {},
          "execution_count": 89
        }
      ],
      "source": [
        "list"
      ]
    },
    {
      "cell_type": "markdown",
      "metadata": {
        "id": "3IqwZAzbJbP-"
      },
      "source": [
        "* Names cannot begin with a number. Python will throw an error when you try to do so\n",
        "\n",
        "\n",
        "* Names can not contain spaces, use _ instead\n",
        "\n",
        "\n",
        "* Names can not contain any of these symbols:\n",
        "\n",
        "      :'\",<>/?|\\!@#%^&*~-+\n",
        "      \n",
        "      \n",
        "* It is considered best practice that names are lowercase with underscores\n",
        "\n",
        "\n",
        "* Avoid using Python built-in keywords like `list`, `str` , `def` etc. We will talk more about such conventions later on"
      ]
    },
    {
      "cell_type": "markdown",
      "metadata": {
        "id": "1y0i15DhJbP-"
      },
      "source": [
        "# <u>Boolean Variables </u>\n",
        "\n",
        "* A Boolean variable only takes two values either True or False. It is used for comparisons"
      ]
    },
    {
      "cell_type": "code",
      "execution_count": null,
      "metadata": {
        "colab": {
          "base_uri": "https://localhost:8080/"
        },
        "id": "4HGbSLf_JbP_",
        "outputId": "4b0cd89a-8615-415a-f536-84b8b75b559a"
      },
      "outputs": [
        {
          "output_type": "execute_result",
          "data": {
            "text/plain": [
              "bool"
            ]
          },
          "metadata": {},
          "execution_count": 12
        }
      ],
      "source": [
        "# Set object to be a boolean\n",
        "boolean_variable = False\n",
        "type(boolean_variable)"
      ]
    },
    {
      "cell_type": "code",
      "execution_count": null,
      "metadata": {
        "colab": {
          "base_uri": "https://localhost:8080/"
        },
        "id": "KbXp_CYVJbQC",
        "outputId": "c6ac63a4-785f-4665-a726-02080c387adf"
      },
      "outputs": [
        {
          "output_type": "execute_result",
          "data": {
            "text/plain": [
              "False"
            ]
          },
          "metadata": {},
          "execution_count": 91
        }
      ],
      "source": [
        "#Show\n",
        "boolean_variable"
      ]
    },
    {
      "cell_type": "markdown",
      "metadata": {
        "id": "35lrqYk2JbP-"
      },
      "source": [
        "## Comparison Operators\n",
        "\n",
        "* These operators will allow us to compare variables and output a Boolean value (True or False).\n",
        "\n",
        "\n",
        "* If you have any sort of background in Math, these operators should be very straight forward.\n",
        "\n",
        "\n",
        "* First we'll present a table of the comparison operators and then work through some examples:\n",
        "\n",
        "\n",
        "* In the table below, a=3 and b=4.\n",
        "\n",
        "<table class=\"table table-bordered\">\n",
        "<tr>\n",
        "<th style=\"width:10%\">Operator</th><th style=\"width:45%\">Description</th><th>Example</th>\n",
        "</tr>\n",
        "<tr>\n",
        "<td>==</td>\n",
        "<td>If the values of two operands are equal, then the condition becomes true.</td>\n",
        "<td> (a == b) is not true.</td>\n",
        "</tr>\n",
        "<tr>\n",
        "<td>!=</td>\n",
        "<td>If values of two operands are not equal, then condition becomes true.</td>\n",
        "<td>(a != b) is true</td>\n",
        "</tr>\n",
        "<tr>\n",
        "<td>&gt;</td>\n",
        "<td>If the value of left operand is greater than the value of right operand, then condition becomes true.</td>\n",
        "<td> (a &gt; b) is not true.</td>\n",
        "</tr>\n",
        "<tr>\n",
        "<td>&lt;</td>\n",
        "<td>If the value of left operand is less than the value of right operand, then condition becomes true.</td>\n",
        "<td> (a &lt; b) is true.</td>\n",
        "</tr>\n",
        "<tr>\n",
        "<td>&gt;=</td>\n",
        "<td>If the value of left operand is greater than or equal to the value of right operand, then condition becomes true.</td>\n",
        "<td> (a &gt;= b) is not true. </td>\n",
        "</tr>\n",
        "<tr>\n",
        "<td>&lt;=</td>\n",
        "<td>If the value of left operand is less than or equal to the value of right operand, then condition becomes true.</td>\n",
        "<td> (a &lt;= b) is true. </td>\n",
        "</tr>\n",
        "</table>"
      ]
    },
    {
      "cell_type": "markdown",
      "metadata": {
        "id": "UZGxB6GpsWYG"
      },
      "source": []
    },
    {
      "cell_type": "markdown",
      "metadata": {
        "id": "k5qrpfOfJbP_"
      },
      "source": [
        "* Python  comes with Booleans (with predefined True and False displays that are basically just the integers 1 and 0). It also has a placeholder object called None. Let's walk through a few quick examples of Booleans (we will dive deeper into them later in this course)."
      ]
    },
    {
      "cell_type": "markdown",
      "metadata": {
        "id": "XTNlwY9rJbQG"
      },
      "source": [
        "### Equal"
      ]
    },
    {
      "cell_type": "code",
      "execution_count": null,
      "metadata": {
        "colab": {
          "base_uri": "https://localhost:8080/"
        },
        "id": "B2HBAmBxJbQG",
        "outputId": "7dc7f165-4c5b-49d9-e27a-97180ce80de4"
      },
      "outputs": [
        {
          "output_type": "execute_result",
          "data": {
            "text/plain": [
              "False"
            ]
          },
          "metadata": {},
          "execution_count": 92
        }
      ],
      "source": [
        "2 == 3"
      ]
    },
    {
      "cell_type": "code",
      "execution_count": null,
      "metadata": {
        "colab": {
          "base_uri": "https://localhost:8080/"
        },
        "id": "St2N7ToUJbQI",
        "outputId": "2a553554-4b44-4c36-fab6-8016e85b34b0"
      },
      "outputs": [
        {
          "output_type": "execute_result",
          "data": {
            "text/plain": [
              "True"
            ]
          },
          "metadata": {},
          "execution_count": 93
        }
      ],
      "source": [
        "2==2"
      ]
    },
    {
      "cell_type": "markdown",
      "metadata": {
        "id": "rffDn2hzJbQM"
      },
      "source": [
        "* <u> Note that <code>==</code> is a comparison operator, while <code>=</code> is an assignment operator. </u>"
      ]
    },
    {
      "cell_type": "markdown",
      "metadata": {
        "id": "zXobe57HJbQM"
      },
      "source": [
        "### Not equal"
      ]
    },
    {
      "cell_type": "code",
      "execution_count": null,
      "metadata": {
        "colab": {
          "base_uri": "https://localhost:8080/"
        },
        "id": "-ITcsIujJbQM",
        "outputId": "7d43988a-4442-45a5-d074-bb7f77f44dde"
      },
      "outputs": [
        {
          "output_type": "execute_result",
          "data": {
            "text/plain": [
              "True"
            ]
          },
          "metadata": {},
          "execution_count": 94
        }
      ],
      "source": [
        "2!=0"
      ]
    },
    {
      "cell_type": "code",
      "execution_count": null,
      "metadata": {
        "colab": {
          "base_uri": "https://localhost:8080/"
        },
        "id": "MeLL5zC4JbQQ",
        "outputId": "56d33a9c-7302-479a-f6af-10d50c785191"
      },
      "outputs": [
        {
          "output_type": "execute_result",
          "data": {
            "text/plain": [
              "False"
            ]
          },
          "metadata": {},
          "execution_count": 95
        }
      ],
      "source": [
        "2!=2"
      ]
    },
    {
      "cell_type": "markdown",
      "metadata": {
        "id": "JCs_Qrt-JbQS"
      },
      "source": [
        "### Greater than"
      ]
    },
    {
      "cell_type": "code",
      "execution_count": null,
      "metadata": {
        "colab": {
          "base_uri": "https://localhost:8080/"
        },
        "id": "JVbaxgIDJbQS",
        "scrolled": true,
        "outputId": "3080c5bb-29dd-4658-8616-1bb102ec882c"
      },
      "outputs": [
        {
          "output_type": "execute_result",
          "data": {
            "text/plain": [
              "True"
            ]
          },
          "metadata": {},
          "execution_count": 96
        }
      ],
      "source": [
        "a=3\n",
        "b=2\n",
        "a> b"
      ]
    },
    {
      "cell_type": "code",
      "execution_count": null,
      "metadata": {
        "colab": {
          "base_uri": "https://localhost:8080/"
        },
        "id": "PZ1zdvTTJbQU",
        "outputId": "fc01c4df-77d2-4b55-aec6-a05c6cfa2553"
      },
      "outputs": [
        {
          "output_type": "execute_result",
          "data": {
            "text/plain": [
              "True"
            ]
          },
          "metadata": {},
          "execution_count": 97
        }
      ],
      "source": [
        "a == 3"
      ]
    },
    {
      "cell_type": "code",
      "execution_count": null,
      "metadata": {
        "colab": {
          "base_uri": "https://localhost:8080/"
        },
        "id": "C6ChRkkxJbQW",
        "outputId": "df36430d-3dde-4145-b4bf-5a6f35ad7d7c"
      },
      "outputs": [
        {
          "output_type": "execute_result",
          "data": {
            "text/plain": [
              "False"
            ]
          },
          "metadata": {},
          "execution_count": 98
        }
      ],
      "source": [
        "b > 4"
      ]
    },
    {
      "cell_type": "markdown",
      "metadata": {
        "id": "HXhCSJvBJbQY"
      },
      "source": [
        "### Less than"
      ]
    },
    {
      "cell_type": "code",
      "execution_count": null,
      "metadata": {
        "colab": {
          "base_uri": "https://localhost:8080/"
        },
        "id": "AffaxmdTJbQY",
        "outputId": "19aa998f-f392-49fb-bcb4-9b3abbf074d8"
      },
      "outputs": [
        {
          "output_type": "execute_result",
          "data": {
            "text/plain": [
              "True"
            ]
          },
          "metadata": {},
          "execution_count": 99
        }
      ],
      "source": [
        "10 < 45"
      ]
    },
    {
      "cell_type": "code",
      "execution_count": null,
      "metadata": {
        "colab": {
          "base_uri": "https://localhost:8080/"
        },
        "id": "yX1roPJCJbQa",
        "outputId": "895e0e28-7bce-4bb8-ed48-012d15a8836a"
      },
      "outputs": [
        {
          "output_type": "execute_result",
          "data": {
            "text/plain": [
              "False"
            ]
          },
          "metadata": {},
          "execution_count": 100
        }
      ],
      "source": [
        "4 < 2"
      ]
    },
    {
      "cell_type": "markdown",
      "metadata": {
        "id": "HHQGVtfyJbQe"
      },
      "source": [
        "### Greater than or equal to"
      ]
    },
    {
      "cell_type": "code",
      "execution_count": null,
      "metadata": {
        "colab": {
          "base_uri": "https://localhost:8080/"
        },
        "id": "_Qw-yrpRJbQe",
        "outputId": "336bc280-c2b5-4eb6-d715-317f9b1d3868"
      },
      "outputs": [
        {
          "output_type": "execute_result",
          "data": {
            "text/plain": [
              "True"
            ]
          },
          "metadata": {},
          "execution_count": 101
        }
      ],
      "source": [
        "3 >=2"
      ]
    },
    {
      "cell_type": "code",
      "execution_count": null,
      "metadata": {
        "colab": {
          "base_uri": "https://localhost:8080/"
        },
        "id": "Cj3UpbKTJbQh",
        "outputId": "19327591-5114-4933-d898-44fae3b0c503"
      },
      "outputs": [
        {
          "output_type": "execute_result",
          "data": {
            "text/plain": [
              "True"
            ]
          },
          "metadata": {},
          "execution_count": 102
        }
      ],
      "source": [
        "4 >= 4"
      ]
    },
    {
      "cell_type": "markdown",
      "metadata": {
        "id": "9A0hrb1EJbQk"
      },
      "source": [
        "### Less than or equal to"
      ]
    },
    {
      "cell_type": "code",
      "execution_count": null,
      "metadata": {
        "colab": {
          "base_uri": "https://localhost:8080/"
        },
        "id": "CCg2vqNOJbQl",
        "outputId": "aed37592-00c0-479d-a552-335508df84f7"
      },
      "outputs": [
        {
          "output_type": "execute_result",
          "data": {
            "text/plain": [
              "False"
            ]
          },
          "metadata": {},
          "execution_count": 103
        }
      ],
      "source": [
        "3 <= 0"
      ]
    },
    {
      "cell_type": "code",
      "execution_count": null,
      "metadata": {
        "colab": {
          "base_uri": "https://localhost:8080/"
        },
        "id": "s9BkZBJDJbQm",
        "outputId": "576ccf8d-a931-429c-ca24-96dabde9209f"
      },
      "outputs": [
        {
          "output_type": "execute_result",
          "data": {
            "text/plain": [
              "True"
            ]
          },
          "metadata": {},
          "execution_count": 104
        }
      ],
      "source": [
        "1 <= 2"
      ]
    },
    {
      "cell_type": "markdown",
      "source": [
        "1.      Find the quotient and remainder of two integers in Python?\n",
        "\n",
        "2.      Find maximum of 2 values\n",
        "\n",
        "3.      Find absolute value of a number\n",
        "\n",
        "4.      Write a Python program to solve (x + y) * (x + y).\n",
        "\n",
        "Hint:\n",
        "\n",
        "x = int(input())\n",
        "\n",
        "y = int(input())\n",
        "\n",
        "5.      Write a Python program to swap two variables\n",
        "\n",
        "Example 1:\n",
        "\n",
        "Input:\n",
        "\n",
        "30\n",
        "\n",
        "20\n",
        "\n",
        "Output:\n",
        "\n",
        "30 20 20 30\n",
        "\n",
        "6.      Write a Python program to calculate body mass index.\n",
        "\n",
        "Example 1:\n",
        "\n",
        "Input:\n",
        "\n",
        "6\n",
        "\n",
        "65\n",
        "\n",
        "Output:\n",
        "\n",
        "1.81\n",
        "\n",
        "\n",
        "\n",
        "7.      Write a Python program to round a floating-point number to specified number decimal places.\n",
        "\n",
        "Example 1:\n",
        "\n",
        "Input:\n",
        "\n",
        "10.5247\n",
        "\n",
        "2\n",
        "\n",
        "Output:\n",
        "\n",
        "10.52"
      ],
      "metadata": {
        "id": "lLTBkhG_3LHZ"
      }
    },
    {
      "cell_type": "code",
      "source": [
        "# import math\n",
        "\n",
        "# #Return mantissa and exponent of numbers\n",
        "# print(math.frexp())"
      ],
      "metadata": {
        "id": "sbCXZ4BP8MzA"
      },
      "execution_count": null,
      "outputs": []
    },
    {
      "cell_type": "code",
      "source": [
        "\n",
        "\n",
        "# height = float(input())\n",
        "# weight = float(input())\n",
        "# print((weight / (height * height)))"
      ],
      "metadata": {
        "id": "hAtQvSF_ooMt"
      },
      "execution_count": null,
      "outputs": []
    },
    {
      "cell_type": "code",
      "source": [
        "print(\"hello\")"
      ],
      "metadata": {
        "colab": {
          "base_uri": "https://localhost:8080/"
        },
        "id": "dCDOcN7Zd6_n",
        "outputId": "880f98c6-e46f-45f4-b6fa-ebc801467623"
      },
      "execution_count": null,
      "outputs": [
        {
          "output_type": "stream",
          "name": "stdout",
          "text": [
            "hello\n"
          ]
        }
      ]
    },
    {
      "cell_type": "code",
      "source": [
        "x = 3.4125\n",
        "y = round (x, 2)\n",
        "y"
      ],
      "metadata": {
        "colab": {
          "base_uri": "https://localhost:8080/"
        },
        "id": "V_HHIdsOeFMe",
        "outputId": "8c2ef78d-57dc-4504-affa-2dcb8fb0cc26"
      },
      "execution_count": null,
      "outputs": [
        {
          "output_type": "execute_result",
          "data": {
            "text/plain": [
              "3.41"
            ]
          },
          "metadata": {},
          "execution_count": 1
        }
      ]
    },
    {
      "cell_type": "code",
      "source": [
        "x= int(input(\"enter first no.:\"))\n",
        "y= int(input())\n",
        "z=x+y\n",
        "z"
      ],
      "metadata": {
        "colab": {
          "base_uri": "https://localhost:8080/"
        },
        "id": "WVXRRGqW9_Um",
        "outputId": "4ea31a98-6068-473d-8db7-4cec263ae9ea"
      },
      "execution_count": null,
      "outputs": [
        {
          "name": "stdout",
          "output_type": "stream",
          "text": [
            "enter first no.:2\n",
            "4\n"
          ]
        },
        {
          "output_type": "execute_result",
          "data": {
            "text/plain": [
              "6"
            ]
          },
          "metadata": {},
          "execution_count": 9
        }
      ]
    },
    {
      "cell_type": "code",
      "source": [
        "print(10 | 3)"
      ],
      "metadata": {
        "colab": {
          "base_uri": "https://localhost:8080/"
        },
        "id": "Z_q5jWd7PvVO",
        "outputId": "8b0f1d50-acfc-4ef4-e903-70b2dc24ddf0"
      },
      "execution_count": null,
      "outputs": [
        {
          "output_type": "stream",
          "name": "stdout",
          "text": [
            "11\n"
          ]
        }
      ]
    },
    {
      "cell_type": "markdown",
      "source": [],
      "metadata": {
        "id": "tJPm8Q5FSUD4"
      }
    },
    {
      "cell_type": "code",
      "source": [
        "A=int(input(\"enter first numbr\"))\n",
        "b=int(input(\"enter second numbr\"))\n",
        "s=A+b\n",
        "print(s)"
      ],
      "metadata": {
        "colab": {
          "base_uri": "https://localhost:8080/"
        },
        "id": "hjcFKD_g7xDl",
        "outputId": "21f7cc68-a3b6-4f89-c412-5555287147b1"
      },
      "execution_count": null,
      "outputs": [
        {
          "output_type": "stream",
          "name": "stdout",
          "text": [
            "enter first numbr6\n",
            "enter second numbr2\n",
            "8\n"
          ]
        }
      ]
    },
    {
      "cell_type": "markdown",
      "source": [
        "## Temperature Conversion:"
      ],
      "metadata": {
        "id": "4mXWGYDTLzk9"
      }
    },
    {
      "cell_type": "code",
      "source": [
        "# Read the temperature in Celsius from the user\n",
        "celsius = float(input(\"Enter temperature in Celsius: \"))\n",
        "\n",
        "# Convert Celsius to Fahrenheit\n",
        "fahrenheit = (celsius * 9/5) + 32\n",
        "\n",
        "# Output the result\n",
        "print(f\"{celsius}°C is equal to {fahrenheit}°F\")"
      ],
      "metadata": {
        "colab": {
          "base_uri": "https://localhost:8080/"
        },
        "id": "9z8CAvuPKY1M",
        "outputId": "6d292e14-9956-49a1-e96f-0a4a6a45f8b9"
      },
      "execution_count": null,
      "outputs": [
        {
          "output_type": "stream",
          "name": "stdout",
          "text": [
            "Enter temperature in Celsius: 25\n",
            "25.0°C is equal to 77.0°F\n"
          ]
        }
      ]
    },
    {
      "cell_type": "code",
      "source": [
        "# Read the temperature in Fahrenheit from the user\n",
        "fahrenheit = float(input(\"Enter temperature in Fahrenheit: \"))\n",
        "\n",
        "# Convert Fahrenheit to Celsius\n",
        "celsius = (fahrenheit - 32) * 5/9\n",
        "\n",
        "# Output the result\n",
        "print(f\"{fahrenheit}°F is equal to {celsius}°C\")"
      ],
      "metadata": {
        "colab": {
          "base_uri": "https://localhost:8080/"
        },
        "id": "wNmc5nU_LuwF",
        "outputId": "b34e0d4c-b7ec-4ffb-b889-f5fc92bd1dff"
      },
      "execution_count": null,
      "outputs": [
        {
          "output_type": "stream",
          "name": "stdout",
          "text": [
            "Enter temperature in Fahrenheit: 77\n",
            "77.0°F is equal to 25.0°C\n"
          ]
        }
      ]
    }
  ],
  "metadata": {
    "colab": {
      "provenance": []
    },
    "kernelspec": {
      "display_name": "Python 3",
      "language": "python",
      "name": "python3"
    },
    "language_info": {
      "codemirror_mode": {
        "name": "ipython",
        "version": 3
      },
      "file_extension": ".py",
      "mimetype": "text/x-python",
      "name": "python",
      "nbconvert_exporter": "python",
      "pygments_lexer": "ipython3",
      "version": "3.7.4"
    }
  },
  "nbformat": 4,
  "nbformat_minor": 0
}