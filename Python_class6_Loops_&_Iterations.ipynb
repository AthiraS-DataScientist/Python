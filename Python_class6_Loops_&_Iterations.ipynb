{
  "cells": [
    {
      "cell_type": "markdown",
      "metadata": {
        "id": "uCEngv6FHnnb"
      },
      "source": [
        "## Loops are important in Python or in any other programming language as they help you to execute a block of code repeatedly. You will often come face to face with situations where you would need to use a piece of code over and over but you don't want to write the same line of code multiple times."
      ]
    },
    {
      "cell_type": "markdown",
      "metadata": {
        "id": "6KySHsyNHnne"
      },
      "source": [
        "### In Python we have mainly two different types of loops :\n",
        "\n",
        "\n",
        "* <u>for loop</u> : In the context of most data science work, Python for loops are used to loop through an iterable object (like a list, tuple, set, etc.) and perform the same action for each entry. For example, a for loop would allow us to iterate through a list, performing the same action on each item in the list.\n",
        "\n",
        "\n",
        "* <u>while loop</u> : The while loop is somewhat similar to an if statement, it executes the code inside, if the condition is True. However, as opposed to the if statement, the while loop continues to execute the code repeatedly as long as the condition is True."
      ]
    },
    {
      "cell_type": "markdown",
      "metadata": {
        "id": "LIQYbLZD4tmG"
      },
      "source": [
        "# for loops\n",
        "\n",
        "A <code>for</code> loop acts as an iterator in Python; it goes through items that are in a *sequence* or any other iterable item. Iterable is an object, which one can iterate over. Objects that we've learned about that we can iterate over include strings, lists, tuples, and even built-in iterables for dictionaries, such as keys or values.\n",
        "\n",
        "Here's the general format for a <code>for</code> loop in Python:\n",
        "\n",
        "    for item in object:\n",
        "        statements to do stuff"
      ]
    },
    {
      "cell_type": "markdown",
      "metadata": {
        "id": "spm4L5pg47Kl"
      },
      "source": [
        "The variable name used for the item is completely up to the coder, so use your best judgment for choosing a name that makes sense and you will be able to understand when revisiting your code. This item name can then be referenced inside your loop, for example if you wanted to use <code>if</code> statements to perform checks.\n",
        "\n",
        "Let's go ahead and work through several example of <code>for</code> loops using a variety of data object types. We'll start simple and build more complexity later on."
      ]
    },
    {
      "cell_type": "markdown",
      "metadata": {
        "id": "fPcjT_0JEFT8"
      },
      "source": [
        "### <u> Example 1</u>\n",
        "\n",
        "\n",
        "#### Let us print each element of our list of strings using a for loop statement\n",
        "\n",
        "\n"
      ]
    },
    {
      "cell_type": "code",
      "execution_count": null,
      "metadata": {
        "id": "ZN-GxWfKHnng"
      },
      "outputs": [],
      "source": [
        "# Consider a list of strings\n",
        "\n",
        "got_houses = ['Spider Man', 'Thor', 'Natasha Romanoff', 'Iron Man', 'Captain America', 'Hulk', 'Black Widow', 'Black Panther', 'Nick Fury']"
      ]
    },
    {
      "cell_type": "code",
      "execution_count": null,
      "metadata": {
        "colab": {
          "base_uri": "https://localhost:8080/"
        },
        "id": "vtQdcDy57HK4",
        "outputId": "72e7cf25-f413-45e8-ecf3-bbeb27d80680"
      },
      "outputs": [
        {
          "output_type": "stream",
          "name": "stdout",
          "text": [
            "Avenger Spider Man\n",
            "Avenger Thor\n",
            "Avenger Natasha Romanoff\n",
            "Avenger Iron Man\n",
            "Avenger Captain America\n",
            "Avenger Hulk\n",
            "Avenger Black Widow\n",
            "Avenger Black Panther\n",
            "Avenger Nick Fury\n"
          ]
        }
      ],
      "source": [
        "# A simple for loop to print the houses of GOT universe\n",
        "for xyz in got_houses:\n",
        "  print(f\"Avenger {xyz}\")"
      ]
    },
    {
      "cell_type": "markdown",
      "metadata": {
        "id": "vcnGoKMU7w3F"
      },
      "source": [
        "### Another interesting way to loop through the elements of a list is to use the <code>enumerate()</code> function. Using enumerate requires us two iterators index and element"
      ]
    },
    {
      "cell_type": "code",
      "execution_count": null,
      "metadata": {
        "colab": {
          "base_uri": "https://localhost:8080/"
        },
        "id": "A4kt0w-uKnPZ",
        "outputId": "d0a434d6-3448-4f47-f34a-6951a1f2ba3b"
      },
      "outputs": [
        {
          "output_type": "execute_result",
          "data": {
            "text/plain": [
              "['Spider Man',\n",
              " 'Thor',\n",
              " 'Natasha Romanoff',\n",
              " 'Iron Man',\n",
              " 'Captain America',\n",
              " 'Hulk',\n",
              " 'Black Widow',\n",
              " 'Black Panther',\n",
              " 'Nick Fury']"
            ]
          },
          "metadata": {},
          "execution_count": 23
        }
      ],
      "source": [
        "got_houses"
      ]
    },
    {
      "cell_type": "code",
      "execution_count": null,
      "metadata": {
        "colab": {
          "base_uri": "https://localhost:8080/"
        },
        "id": "0QCxgyEbHnnu",
        "outputId": "c935282b-163e-49f0-e540-6f8aab153965"
      },
      "outputs": [
        {
          "output_type": "stream",
          "name": "stdout",
          "text": [
            "The house no of house Spider Man is 1\n",
            "The house no of house Thor is 2\n",
            "The house no of house Natasha Romanoff is 3\n",
            "The house no of house Iron Man is 4\n",
            "The house no of house Captain America is 5\n",
            "The house no of house Hulk is 6\n",
            "The house no of house Black Widow is 7\n",
            "The house no of house Black Panther is 8\n",
            "The house no of house Nick Fury is 9\n"
          ]
        }
      ],
      "source": [
        "# Using enumerate function to loop through the elements of a list\n",
        "for number,house in enumerate(got_houses):\n",
        "  print(f\"The house no of house {house} is {number + 1}\")"
      ]
    },
    {
      "cell_type": "code",
      "execution_count": null,
      "metadata": {
        "id": "Vl6Ranh3Lbg0"
      },
      "outputs": [],
      "source": [
        "x = 1,2"
      ]
    },
    {
      "cell_type": "code",
      "execution_count": null,
      "metadata": {
        "colab": {
          "base_uri": "https://localhost:8080/"
        },
        "id": "0nJbNNVhLdTC",
        "outputId": "f950995c-3a57-4402-ecb7-0eb54fdc4816"
      },
      "outputs": [
        {
          "output_type": "execute_result",
          "data": {
            "text/plain": [
              "(1, 2)"
            ]
          },
          "metadata": {},
          "execution_count": 26
        }
      ],
      "source": [
        "x"
      ]
    },
    {
      "cell_type": "code",
      "execution_count": null,
      "metadata": {
        "colab": {
          "base_uri": "https://localhost:8080/"
        },
        "id": "qgwQD7OSLEF7",
        "outputId": "a1cf9544-48d2-49ed-d01a-ae21089349ca"
      },
      "outputs": [
        {
          "output_type": "execute_result",
          "data": {
            "text/plain": [
              "[(0, 'Spider Man'),\n",
              " (1, 'Thor'),\n",
              " (2, 'Natasha Romanoff'),\n",
              " (3, 'Iron Man'),\n",
              " (4, 'Captain America'),\n",
              " (5, 'Hulk'),\n",
              " (6, 'Black Widow'),\n",
              " (7, 'Black Panther'),\n",
              " (8, 'Nick Fury')]"
            ]
          },
          "metadata": {},
          "execution_count": 27
        }
      ],
      "source": [
        "list(enumerate(got_houses))"
      ]
    },
    {
      "cell_type": "markdown",
      "metadata": {
        "id": "4MtexExREJGW"
      },
      "source": [
        "### <u>Example 2</u>\n",
        "\n",
        "#### Suppose you are given a list of numbers. You need to find the corresponding squares of these numbers and zip them together in a dictionary"
      ]
    },
    {
      "cell_type": "code",
      "execution_count": null,
      "metadata": {
        "id": "QvpFXqHvHnn1"
      },
      "outputs": [],
      "source": [
        "# The list of numbers\n",
        "list_of_numbers = [1, 2, 4, 6, 11, 14, 17, 20]"
      ]
    },
    {
      "cell_type": "code",
      "execution_count": null,
      "metadata": {
        "colab": {
          "base_uri": "https://localhost:8080/"
        },
        "id": "fkNigeSugHxA",
        "outputId": "4442e6b6-19e9-49e1-ad9e-b0db3af95d07"
      },
      "outputs": [
        {
          "output_type": "execute_result",
          "data": {
            "text/plain": [
              "[1, 4, 11, 17]"
            ]
          },
          "metadata": {},
          "execution_count": 29
        }
      ],
      "source": [
        "list_of_numbers [0:7:2]"
      ]
    },
    {
      "cell_type": "code",
      "execution_count": null,
      "metadata": {
        "colab": {
          "base_uri": "https://localhost:8080/"
        },
        "id": "UOlQvndGHnn6",
        "outputId": "0b57d2c4-8f04-4bfc-805f-1749f5456007"
      },
      "outputs": [
        {
          "output_type": "stream",
          "name": "stdout",
          "text": [
            "The square of 1 is 1\n",
            "The square of 4 is 16\n",
            "The square of 11 is 121\n",
            "The square of 17 is 289\n"
          ]
        }
      ],
      "source": [
        "# Let us first print the squares\n",
        "for number in list_of_numbers [0:7:2]:\n",
        "  squared_number = number**2\n",
        "  print(f\"The square of {number} is {squared_number}\")"
      ]
    },
    {
      "cell_type": "markdown",
      "metadata": {
        "id": "w945dRqiHnn9"
      },
      "source": [
        "### So this was a pretty straight forward way to print out these squares.\n",
        "\n",
        "### <u>Example 3</u>\n",
        "#### Imagine a scenario where we not only needed to print these numbers for each iteration but also we need to store these elements somewhere else"
      ]
    },
    {
      "cell_type": "code",
      "execution_count": null,
      "metadata": {
        "colab": {
          "base_uri": "https://localhost:8080/"
        },
        "id": "yCkngv1POm0a",
        "outputId": "c2372b8a-9d1f-4e87-cad6-51920c163bce"
      },
      "outputs": [
        {
          "output_type": "execute_result",
          "data": {
            "text/plain": [
              "[1, 2, 4, 6, 11, 14, 17, 20]"
            ]
          },
          "metadata": {},
          "execution_count": 31
        }
      ],
      "source": [
        "list_of_numbers"
      ]
    },
    {
      "cell_type": "code",
      "execution_count": null,
      "metadata": {
        "colab": {
          "base_uri": "https://localhost:8080/"
        },
        "id": "1O-AcdmHBt3i",
        "outputId": "b39a000c-7867-4429-be18-29ed25aae348"
      },
      "outputs": [
        {
          "output_type": "stream",
          "name": "stdout",
          "text": [
            "The list of squared numbers is [1, 4, 16, 36, 121, 196, 289, 400]\n"
          ]
        }
      ],
      "source": [
        "# Let us first initialize a list where we will be appending the squares in each iteration\n",
        "\n",
        "squared_numbers = []\n",
        "\n",
        "for number in list_of_numbers:\n",
        "  square = number**2\n",
        "  # Use the append method to add the numbers one by one to our list\n",
        "  squared_numbers.append(square)\n",
        "  # print(squared_numbers)\n",
        "\n",
        "print(f\"The list of squared numbers is {squared_numbers}\")"
      ]
    },
    {
      "cell_type": "code",
      "execution_count": null,
      "metadata": {
        "colab": {
          "base_uri": "https://localhost:8080/"
        },
        "id": "7UdHNjXYQPMP",
        "outputId": "2b2595b9-d081-4245-ad14-6a5da4007b16"
      },
      "outputs": [
        {
          "output_type": "stream",
          "name": "stdout",
          "text": [
            "[1, 2, 4, 6, 11, 14, 17, 20]\n",
            "[1, 4, 16, 36, 121, 196, 289, 400]\n"
          ]
        }
      ],
      "source": [
        "print(list_of_numbers)\n",
        "print(squared_numbers)"
      ]
    },
    {
      "cell_type": "code",
      "execution_count": null,
      "metadata": {
        "colab": {
          "base_uri": "https://localhost:8080/"
        },
        "id": "dXegXzIxCgT7",
        "outputId": "2f0be735-0d26-4b74-e0ad-ea5deddaa704"
      },
      "outputs": [
        {
          "output_type": "stream",
          "name": "stdout",
          "text": [
            "{1: 1, 2: 4, 4: 16, 6: 36, 11: 121, 14: 196, 17: 289, 20: 400}\n"
          ]
        }
      ],
      "source": [
        "# Let us zip the original numbers and squares together and get the dictionary\n",
        "zipped_dict = dict(zip(list_of_numbers,squared_numbers))\n",
        "\n",
        "# Let us print the dictionary where the key is the number and the value is the square of that number\n",
        "print(zipped_dict)"
      ]
    },
    {
      "cell_type": "markdown",
      "metadata": {
        "id": "LfTpVhrcHnn-"
      },
      "source": [
        "### <u> Example 4</u>\n",
        "####  Now suppose we only want to print the squares of those numbers which are even. Let us see how we can do this"
      ]
    },
    {
      "cell_type": "code",
      "execution_count": null,
      "metadata": {
        "colab": {
          "base_uri": "https://localhost:8080/"
        },
        "id": "fgFDSaG3cqG0",
        "outputId": "0d493600-012c-4771-9f87-7c995e27cdd6"
      },
      "outputs": [
        {
          "output_type": "stream",
          "name": "stdout",
          "text": [
            "[1, 2, 4, 6, 11, 14, 17, 20]\n"
          ]
        }
      ],
      "source": [
        "print(list_of_numbers)"
      ]
    },
    {
      "cell_type": "code",
      "execution_count": null,
      "metadata": {
        "colab": {
          "base_uri": "https://localhost:8080/"
        },
        "id": "P3XeEpxgHnn_",
        "outputId": "aa21a4fe-54c9-4c11-ad3c-8c487b2eda2d"
      },
      "outputs": [
        {
          "output_type": "stream",
          "name": "stdout",
          "text": [
            "I am an odd number 1.My master prohibits me from printing the squares of odd numbers. Strange but okay!\n",
            "The square of 2 is 4\n",
            "The square of 4 is 16\n",
            "The square of 6 is 36\n",
            "I am an odd number 11.My master prohibits me from printing the squares of odd numbers. Strange but okay!\n",
            "The square of 14 is 196\n",
            "I am an odd number 17.My master prohibits me from printing the squares of odd numbers. Strange but okay!\n",
            "The square of 20 is 400\n"
          ]
        }
      ],
      "source": [
        "# Let us first print the squares\n",
        "for number in list_of_numbers:\n",
        "  if number%2 == 0:\n",
        "    squared_number = number**2\n",
        "    print(f\"The square of {number} is {squared_number}\")\n",
        "  else:\n",
        "    print(f\"I am an odd number {number}.My master prohibits me from printing the squares of odd numbers. Strange but okay!\")\n",
        "\n",
        "# print(\"\\n\")\n",
        "# print(\"I am finished with my iteration\")"
      ]
    },
    {
      "cell_type": "markdown",
      "metadata": {
        "id": "W0MQiTnNAFgk"
      },
      "source": [
        "### <code>range()</code> function is a pretty useful function to get a sequence of numbers. It takes three arguments : start, stop, step"
      ]
    },
    {
      "cell_type": "code",
      "execution_count": null,
      "metadata": {
        "colab": {
          "base_uri": "https://localhost:8080/"
        },
        "id": "1yyntnVs_ll0",
        "outputId": "0a3e9b58-83e1-40b7-d89c-2c81d23e1613"
      },
      "outputs": [
        {
          "output_type": "execute_result",
          "data": {
            "text/plain": [
              "[0, 1, 2, 3, 4, 5, 6, 7, 8, 9]"
            ]
          },
          "metadata": {},
          "execution_count": 37
        }
      ],
      "source": [
        "list(range(10))"
      ]
    },
    {
      "cell_type": "code",
      "source": [
        "list(range(0,10,2))"
      ],
      "metadata": {
        "colab": {
          "base_uri": "https://localhost:8080/"
        },
        "id": "WXUrNNkReYMI",
        "outputId": "504d6bc2-c05f-4e09-d0be-b4484a13bdec"
      },
      "execution_count": null,
      "outputs": [
        {
          "output_type": "execute_result",
          "data": {
            "text/plain": [
              "[0, 2, 4, 6, 8]"
            ]
          },
          "metadata": {},
          "execution_count": 38
        }
      ]
    },
    {
      "cell_type": "code",
      "execution_count": null,
      "metadata": {
        "colab": {
          "base_uri": "https://localhost:8080/"
        },
        "id": "3JmJKUjl_87A",
        "outputId": "f4278f90-30bd-4d0b-dcb3-c4b1e079e80f"
      },
      "outputs": [
        {
          "output_type": "stream",
          "name": "stdout",
          "text": [
            "The square of 0 is 0\n",
            "The square of 2 is 4\n",
            "The square of 4 is 16\n",
            "The square of 6 is 36\n",
            "The square of 8 is 64\n"
          ]
        }
      ],
      "source": [
        "# Let us first print the squares\n",
        "for number in range(0,10,2):\n",
        "  squared_number = number**2\n",
        "  print(f\"The square of {number} is {squared_number}\")"
      ]
    },
    {
      "cell_type": "code",
      "execution_count": null,
      "metadata": {
        "colab": {
          "base_uri": "https://localhost:8080/"
        },
        "id": "MLm1sHgdT6YF",
        "outputId": "1c1ab38a-02d8-4567-f718-d042d1a26a31"
      },
      "outputs": [
        {
          "output_type": "stream",
          "name": "stdout",
          "text": [
            "2\n",
            "4\n",
            "6\n",
            "8\n",
            "10\n",
            "12\n",
            "14\n",
            "16\n",
            "18\n",
            "20\n"
          ]
        }
      ],
      "source": [
        "for i in range(2,21,2):\n",
        "  print(i)"
      ]
    },
    {
      "cell_type": "code",
      "execution_count": null,
      "metadata": {
        "colab": {
          "base_uri": "https://localhost:8080/"
        },
        "id": "uKiA4sBFHnoC",
        "outputId": "a7e9d443-f402-48c7-c11c-f4bc74659449"
      },
      "outputs": [
        {
          "output_type": "stream",
          "name": "stdout",
          "text": [
            "[1, 2, 4, 6, 11, 14, 17, 20]\n"
          ]
        }
      ],
      "source": [
        "# Print our list\n",
        "print(list_of_numbers)"
      ]
    },
    {
      "cell_type": "markdown",
      "metadata": {
        "id": "mfgGGs1ESsPv"
      },
      "source": [
        "### <u> Example 5<u>\n",
        "#### Next suppose we wanted to find the sum of the squares of our numbers in the list"
      ]
    },
    {
      "cell_type": "code",
      "source": [
        "list(range(1,11))"
      ],
      "metadata": {
        "colab": {
          "base_uri": "https://localhost:8080/"
        },
        "id": "XjY0YyffhLZK",
        "outputId": "f81138dc-0f49-40ef-951a-9fd07ab538fd"
      },
      "execution_count": null,
      "outputs": [
        {
          "output_type": "execute_result",
          "data": {
            "text/plain": [
              "[1, 2, 3, 4, 5, 6, 7, 8, 9, 10]"
            ]
          },
          "metadata": {},
          "execution_count": 42
        }
      ]
    },
    {
      "cell_type": "code",
      "execution_count": null,
      "metadata": {
        "colab": {
          "base_uri": "https://localhost:8080/"
        },
        "id": "pbQlDAYyHnoG",
        "outputId": "9089e79b-aef1-4c9e-e35a-0cc2d1073635"
      },
      "outputs": [
        {
          "output_type": "stream",
          "name": "stdout",
          "text": [
            "The sum of the squares of our list of numbers is 385\n"
          ]
        }
      ],
      "source": [
        "# Let us the initialize the sum of the squares with 0. This makes sense right!\n",
        "sum_squares = 0\n",
        "\n",
        "for number in range(1,11):\n",
        "   s_number = number**2\n",
        "   sum_squares = sum_squares + s_number\n",
        "# print(sum_squares)\n",
        "\n",
        "# Now we have added the squares of all the numbers in our list\n",
        "print(f\"The sum of the squares of our list of numbers is {sum_squares}\")"
      ]
    },
    {
      "cell_type": "markdown",
      "metadata": {
        "id": "PNsXf6IfHnoI"
      },
      "source": [
        "### Up till now, we have only implemented for loops for list objects. From the last week, we know that there are other objects in Python which are sequence of elements such as strings, tuples etc. Let us try and apply for loop to iterate over their elements.\n",
        "\n",
        "### <u> Example 6</u>\n",
        "##### We are given a sentence : \"I am the one who knocks!\""
      ]
    },
    {
      "cell_type": "code",
      "execution_count": null,
      "metadata": {
        "id": "UXPQjcvL9Mwq"
      },
      "outputs": [],
      "source": [
        "# Let us first store the sentence in a string variable\n",
        "heisenberg_quote =  \"I am the one who knocks!\""
      ]
    },
    {
      "cell_type": "markdown",
      "metadata": {
        "id": "Q-8rKVVdY3Iw"
      },
      "source": [
        "#### The next step is to print all the characters which are separated by whitespace"
      ]
    },
    {
      "cell_type": "code",
      "execution_count": null,
      "metadata": {
        "colab": {
          "base_uri": "https://localhost:8080/"
        },
        "id": "Y3pbat1fWa2X",
        "outputId": "a92e122e-750b-4397-fa5f-21338b9bd615"
      },
      "outputs": [
        {
          "output_type": "stream",
          "name": "stdout",
          "text": [
            " The character is I\n",
            " The character is  \n",
            " The character is a\n",
            " The character is m\n",
            " The character is  \n",
            " The character is t\n",
            " The character is h\n",
            " The character is e\n",
            " The character is  \n",
            " The character is o\n",
            " The character is n\n",
            " The character is e\n",
            " The character is  \n",
            " The character is w\n",
            " The character is h\n",
            " The character is o\n",
            " The character is  \n",
            " The character is k\n",
            " The character is n\n",
            " The character is o\n",
            " The character is c\n",
            " The character is k\n",
            " The character is s\n",
            " The character is !\n"
          ]
        }
      ],
      "source": [
        "for alphabet in heisenberg_quote:\n",
        "  print(f\" The character is {alphabet}\")"
      ]
    },
    {
      "cell_type": "code",
      "execution_count": null,
      "metadata": {
        "colab": {
          "base_uri": "https://localhost:8080/"
        },
        "id": "acavVLtgHnoI",
        "outputId": "18e75f95-0813-4a54-fcdd-b95d5d60d5bc"
      },
      "outputs": [
        {
          "output_type": "stream",
          "name": "stdout",
          "text": [
            " The index is 0 and the character is I\n",
            " The index is 1 and the character is  \n",
            " The index is 2 and the character is a\n",
            " The index is 3 and the character is m\n",
            " The index is 4 and the character is  \n",
            " The index is 5 and the character is t\n",
            " The index is 6 and the character is h\n",
            " The index is 7 and the character is e\n",
            " The index is 8 and the character is  \n",
            " The index is 9 and the character is o\n",
            " The index is 10 and the character is n\n",
            " The index is 11 and the character is e\n",
            " The index is 12 and the character is  \n",
            " The index is 13 and the character is w\n",
            " The index is 14 and the character is h\n",
            " The index is 15 and the character is o\n",
            " The index is 16 and the character is  \n",
            " The index is 17 and the character is k\n",
            " The index is 18 and the character is n\n",
            " The index is 19 and the character is o\n",
            " The index is 20 and the character is c\n",
            " The index is 21 and the character is k\n",
            " The index is 22 and the character is s\n",
            " The index is 23 and the character is !\n"
          ]
        }
      ],
      "source": [
        "# Lets apply a for loop to do the above task\n",
        "\n",
        "for index,char  in enumerate(heisenberg_quote):\n",
        "  print(f\" The index is {index} and the character is {char}\")"
      ]
    },
    {
      "cell_type": "markdown",
      "metadata": {
        "id": "B03yfZ97HnoK"
      },
      "source": [
        "### We saw how we can iterate through each element of our string. What if you wanted to iterate through each word of the sentence and not each element. There is an important method available with strings known as <code>split()</code> method.\n",
        "\n",
        "#### This method returns the list of words separated by the character we want to separate them by.\n",
        "\n",
        "### <u> Example 7</u>"
      ]
    },
    {
      "cell_type": "code",
      "execution_count": null,
      "metadata": {
        "id": "Ai_uK72yHnoL"
      },
      "outputs": [],
      "source": [
        "heisenberg_quote = \"It ceases to exist without me. No, you clearly don't know who you're talking to, so let me clue you in. I am not in danger, Skyler. I am the danger.\""
      ]
    },
    {
      "cell_type": "code",
      "execution_count": null,
      "metadata": {
        "colab": {
          "base_uri": "https://localhost:8080/"
        },
        "id": "1UpKwsua-HIk",
        "outputId": "d041398b-a5f1-497c-d45d-8cfb244c822a"
      },
      "outputs": [
        {
          "output_type": "stream",
          "name": "stdout",
          "text": [
            "['It', 'ceases', 'to', 'exist', 'without', 'me.', 'No,', 'you', 'clearly', \"don't\", 'know', 'who', \"you're\", 'talking', 'to,', 'so', 'let', 'me', 'clue', 'you', 'in.', 'I', 'am', 'not', 'in', 'danger,', 'Skyler.', 'I', 'am', 'the', 'danger.']\n"
          ]
        }
      ],
      "source": [
        "words_by_walter = heisenberg_quote.split(' ')\n",
        "print(words_by_walter)"
      ]
    },
    {
      "cell_type": "code",
      "execution_count": null,
      "metadata": {
        "colab": {
          "base_uri": "https://localhost:8080/"
        },
        "id": "Qi411Crhoy_X",
        "outputId": "56464051-f703-42f4-f19c-12c7a9b14aef"
      },
      "outputs": [
        {
          "output_type": "stream",
          "name": "stdout",
          "text": [
            "The word is It\n",
            "The word is ceases\n",
            "The word is to\n",
            "The word is exist\n",
            "The word is without\n",
            "The word is me.\n",
            "The word is No,\n",
            "The word is clearly\n",
            "The word is don't\n",
            "The word is know\n",
            "The word is who\n",
            "The word is you're\n",
            "The word is talking\n",
            "The word is to,\n",
            "The word is so\n",
            "The word is let\n",
            "The word is me\n",
            "The word is clue\n",
            "The word is in.\n",
            "The word is am\n",
            "The word is not\n",
            "The word is in\n",
            "The word is danger,\n",
            "The word is Skyler.\n",
            "The word is am\n",
            "The word is the\n",
            "The word is danger.\n"
          ]
        }
      ],
      "source": [
        "# Now we can print each word by iterating through this list\n",
        "for word in words_by_walter:\n",
        "  if word not in ['I','you']:\n",
        "    print(f\"The word is {word}\")"
      ]
    },
    {
      "cell_type": "markdown",
      "metadata": {
        "id": "khxoqawIHnoN"
      },
      "source": [
        "### We can also iterate through each element of tuple as well.\n",
        "\n",
        "### <u> Example 8 </u>"
      ]
    },
    {
      "cell_type": "code",
      "execution_count": null,
      "metadata": {
        "colab": {
          "base_uri": "https://localhost:8080/"
        },
        "id": "r5BzV1ITHnoN",
        "outputId": "dbdd6ace-72d5-462a-dd3e-b995ca68851c"
      },
      "outputs": [
        {
          "output_type": "stream",
          "name": "stdout",
          "text": [
            "Today is Monday\n",
            "Today is Tuesday\n",
            "Today is Wednesday\n",
            "Today is Thursday\n",
            "Today is Friday\n",
            "Today is Saturday\n",
            "Today is Sunday\n"
          ]
        }
      ],
      "source": [
        "# Suppose we have a tuple of days\n",
        "days = ('Monday' ,'Tuesday' ,'Wednesday' ,'Thursday' ,'Friday','Saturday','Sunday')\n",
        "\n",
        "for day in days:\n",
        "  print(f\"Today is {day}\")"
      ]
    },
    {
      "cell_type": "markdown",
      "metadata": {
        "id": "l1lhP7tZgJDv"
      },
      "source": [
        "#### Tuples have a special quality when it comes to <code>for</code> loops. If you are iterating through a sequence that contains tuples, the item can actually be the tuple itself, this is an example of *tuple unpacking*. During the <code>for</code> loop we will be unpacking the tuple inside of a sequence and we can access the individual items inside that tuple!"
      ]
    },
    {
      "cell_type": "markdown",
      "metadata": {
        "id": "L9WN9yH3grnv"
      },
      "source": [
        "#### Remember from earlier we had a list of tuples of country-city\n",
        "\n",
        "### <u> Example 9</u>"
      ]
    },
    {
      "cell_type": "code",
      "execution_count": null,
      "metadata": {
        "id": "WbcIox50gTyl"
      },
      "outputs": [],
      "source": [
        "country_city_list = [('India','New Delhi','Ganga'),('Australia','Canberra','Rovers'),('United States','Washington DC','Missouri'),('England','London','Thames')]"
      ]
    },
    {
      "cell_type": "code",
      "execution_count": null,
      "metadata": {
        "colab": {
          "base_uri": "https://localhost:8080/"
        },
        "id": "gMBUnrnYg5E3",
        "outputId": "7f5c8db2-30d0-4ea8-e4fd-5ec36531f2ee"
      },
      "outputs": [
        {
          "output_type": "stream",
          "name": "stdout",
          "text": [
            "The capital of the country India is New Delhi and it also has the river Ganga.\n",
            "The capital of the country Australia is Canberra and it also has the river Rovers.\n",
            "The capital of the country United States is Washington DC and it also has the river Missouri.\n",
            "The capital of the country England is London and it also has the river Thames.\n"
          ]
        }
      ],
      "source": [
        "# Let us iterate through each tuple element of this list and unpack each item\n",
        "\n",
        "for country,city,river in country_city_list:\n",
        "  # print(country_city)\n",
        "  print(f\"The capital of the country {country} is {city} and it also has the river {river}.\")"
      ]
    },
    {
      "cell_type": "markdown",
      "metadata": {
        "id": "hjRbT_tyiPPF"
      },
      "source": [
        "### Finally we can iterate through the items of a dictionary as well.\n",
        "\n",
        "### <u> Example 10 </u>"
      ]
    },
    {
      "cell_type": "code",
      "execution_count": null,
      "metadata": {
        "id": "R5UjRNRoiGEx"
      },
      "outputs": [],
      "source": [
        "# Lets convert the list of tuples to a dictionary\n",
        "# country_city_dict = dict(country_city_list)\n",
        "# print(country_city_dict)"
      ]
    },
    {
      "cell_type": "code",
      "execution_count": null,
      "metadata": {
        "id": "U0ExcdWvihnq"
      },
      "outputs": [],
      "source": [
        "# for item in country_city_dict:\n",
        "#   print(item)"
      ]
    },
    {
      "cell_type": "code",
      "execution_count": null,
      "metadata": {
        "id": "H_rV2taaZnNV"
      },
      "outputs": [],
      "source": [
        "# country_city_dict.items()"
      ]
    },
    {
      "cell_type": "markdown",
      "metadata": {
        "id": "gdxBvo0-iq5Y"
      },
      "source": [
        "#### This just prints the keys of the dictionary\n",
        "\n",
        "#### Next we can iterate through the key-value pairs using the <code>items()</code> method which you should remember from earlier\n",
        "\n",
        "#### Since the <code>items()</code> method supports iteration, we can perform *dictionary unpacking* to separate keys and values"
      ]
    },
    {
      "cell_type": "code",
      "execution_count": null,
      "metadata": {
        "id": "wQNTi547iptT"
      },
      "outputs": [],
      "source": [
        "# for country,city in country_city_dict.items():\n",
        "#   print(f\"The capital of {country} is {city}\")"
      ]
    },
    {
      "cell_type": "code",
      "execution_count": null,
      "metadata": {
        "colab": {
          "base_uri": "https://localhost:8080/"
        },
        "id": "OH1tFYTVaK4n",
        "outputId": "6a2493de-087c-4d11-e9d6-62a253a9870a"
      },
      "outputs": [
        {
          "output_type": "stream",
          "name": "stdout",
          "text": [
            "1\n",
            "2\n",
            "3\n"
          ]
        }
      ],
      "source": [
        "for elem in {1,2,3}:\n",
        "  print(elem)"
      ]
    },
    {
      "cell_type": "markdown",
      "metadata": {
        "id": "Vd-KUOrcjsdx"
      },
      "source": [
        "#### And of course you can iterate through the list of keys and list of values independently depending upon the scenario"
      ]
    },
    {
      "cell_type": "markdown",
      "metadata": {
        "id": "gIk7P1Z9kDt6"
      },
      "source": [
        "# <u>While Loops </u>\n",
        "\n",
        "### The <code>while</code> statement in Python is one of the most general ways to perform iteration. A <code>while</code> statement will repeatedly execute a single statement or group of statements as long as the condition is true. The reason it is called a 'loop' is because the code statements are looped through over and over again until the condition is no longer met.\n",
        "\n",
        "### The general format of a while loop is:\n",
        "\n",
        "    while test:\n",
        "        code statements\n",
        "    else:\n",
        "        final code statements\n",
        "\n",
        "### Let’s look at a few simple <code>while</code> loops in action."
      ]
    },
    {
      "cell_type": "code",
      "execution_count": null,
      "metadata": {
        "colab": {
          "base_uri": "https://localhost:8080/"
        },
        "id": "sjIkaSfdkBrX",
        "outputId": "67284eb2-fe75-4d58-c0cd-2e7268bdf460"
      },
      "outputs": [
        {
          "output_type": "stream",
          "name": "stdout",
          "text": [
            "x is currently:  0\n",
            "x is still less than 10, adding 1 to x\n",
            "x is currently:  1\n",
            "x is still less than 10, adding 1 to x\n",
            "x is currently:  2\n",
            "x is still less than 10, adding 1 to x\n",
            "3\n"
          ]
        }
      ],
      "source": [
        "x = 0\n",
        "\n",
        "while x < 3:\n",
        "  print('x is currently: ',x)\n",
        "  print('x is still less than 10, adding 1 to x')\n",
        "  x=x+1\n",
        "print(x)"
      ]
    },
    {
      "cell_type": "markdown",
      "metadata": {
        "id": "pUhvyaN5kCPx"
      },
      "source": [
        "### Notice how many times the print statements occurred and how the <code>while</code> loop kept going until the False condition was met, which occurred once x==10. It's important to note that once this occurred the code stopped. Let's see how we could add an <code>else</code> statement:\n"
      ]
    },
    {
      "cell_type": "code",
      "execution_count": null,
      "metadata": {
        "colab": {
          "base_uri": "https://localhost:8080/"
        },
        "id": "kSnELiDRkBVe",
        "outputId": "f2342dc8-a47a-47e5-9737-eb63076c9d7d"
      },
      "outputs": [
        {
          "output_type": "stream",
          "name": "stdout",
          "text": [
            "x is currently:  0\n",
            " x is still less than 10, adding 1 to x\n",
            "x is currently:  1\n",
            " x is still less than 10, adding 1 to x\n",
            "x is currently:  2\n",
            " x is still less than 10, adding 1 to x\n",
            "x is currently:  3\n",
            " x is still less than 10, adding 1 to x\n",
            "x is currently:  4\n",
            " x is still less than 10, adding 1 to x\n",
            "All done\n",
            "I am done with the iterations\n"
          ]
        }
      ],
      "source": [
        "x = 0\n",
        "\n",
        "while x < 5:\n",
        "  print('x is currently: ',x)\n",
        "  print(' x is still less than 10, adding 1 to x')\n",
        "  x+=1\n",
        "\n",
        "print(\"All done\")\n",
        "print(\"I am done with the iterations\")"
      ]
    },
    {
      "cell_type": "markdown",
      "metadata": {
        "id": "5u30qd4ZlcXS"
      },
      "source": [
        "## break, continue, pass\n",
        "\n",
        "### We can use <code>break</code>, <code>continue</code>, and <code>pass</code> statements in our loops to add additional functionality for various cases. The three statements are defined by:\n",
        "\n",
        "    break: Breaks out of the current closest enclosing loop.\n",
        "    continue: Goes to the top of the closest enclosing loop.\n",
        "    pass: Does nothing at all.\n",
        "    \n",
        "    \n",
        "### Thinking about <code>break</code> and <code>continue</code> statements, the general format of the <code>while</code> loop looks like this:\n",
        "\n",
        "    while test:\n",
        "        code statement\n",
        "        if test:\n",
        "            break\n",
        "        if test:\n",
        "            continue\n",
        "    else:\n",
        "\n",
        "### <code>break</code> and <code>continue</code> statements can appear anywhere inside the loop’s body, but we will usually put them further nested in conjunction with an <code>if</code> statement to perform an action based on some condition.\n"
      ]
    },
    {
      "cell_type": "code",
      "execution_count": null,
      "metadata": {
        "colab": {
          "base_uri": "https://localhost:8080/"
        },
        "id": "hqEGeWnbkBLz",
        "outputId": "84c75127-260e-434a-cd1a-a03b956635a3"
      },
      "outputs": [
        {
          "output_type": "stream",
          "name": "stdout",
          "text": [
            "x is currently:  0\n",
            "continuing...\n",
            "x is currently:  1\n",
            "continuing...\n",
            "x is currently:  2\n",
            "x==3\n"
          ]
        }
      ],
      "source": [
        "x = 0\n",
        "\n",
        "while x < 10:\n",
        "  print('x is currently: ',x)\n",
        "  # print(' x is still less than 10, adding 1 to x')\n",
        "  x+=1\n",
        "  if x==3:\n",
        "    print('x==3')\n",
        "    break\n",
        "  else:\n",
        "    print('continuing...')\n",
        "    continue"
      ]
    },
    {
      "cell_type": "code",
      "source": [
        "x=0\n",
        "while x<10:\n",
        "  x+=1\n",
        "  if x==3:\n",
        "    print(x)\n",
        "  continue\n",
        "\n",
        "  print(x)\n",
        "print(\"x is 3\")"
      ],
      "metadata": {
        "colab": {
          "base_uri": "https://localhost:8080/"
        },
        "id": "KALS6_0kxSJ3",
        "outputId": "5f2e3481-2ff5-4416-d9ac-339e7e8d7fc9"
      },
      "execution_count": null,
      "outputs": [
        {
          "output_type": "stream",
          "name": "stdout",
          "text": [
            "3\n",
            "x is 3\n"
          ]
        }
      ]
    },
    {
      "cell_type": "code",
      "source": [
        "x=0\n",
        "while x<10:\n",
        "  x+=1\n",
        "  if x==3:\n",
        "    continue\n",
        "  print(x)\n",
        "\n",
        "print(\"x is 3\")"
      ],
      "metadata": {
        "id": "tYUjkpV5HAtE",
        "colab": {
          "base_uri": "https://localhost:8080/"
        },
        "collapsed": true,
        "outputId": "bae4d743-03d1-4316-911a-5517bbcd6b79"
      },
      "execution_count": null,
      "outputs": [
        {
          "output_type": "stream",
          "name": "stdout",
          "text": [
            "1\n",
            "2\n",
            "3\n",
            "4\n",
            "5\n",
            "6\n",
            "7\n",
            "8\n",
            "9\n",
            "10\n",
            "x is 3\n"
          ]
        }
      ]
    },
    {
      "cell_type": "markdown",
      "metadata": {
        "id": "E6LKgma5mCJ9"
      },
      "source": [
        "#### Note how we have a printed statement when x==3, and a continue being printed out as we continue through the outer while loop. Let's put in a break once x ==3 and see if the result makes sense:\n"
      ]
    },
    {
      "cell_type": "code",
      "execution_count": null,
      "metadata": {
        "colab": {
          "base_uri": "https://localhost:8080/"
        },
        "id": "hfAJ9XKNjKLg",
        "outputId": "c92df7d2-26cd-497e-c6cc-b168cc64c595"
      },
      "outputs": [
        {
          "output_type": "stream",
          "name": "stdout",
          "text": [
            "x is currently:  0\n",
            " x is still less than 10, adding 1 to x\n"
          ]
        }
      ],
      "source": [
        "\n",
        "x = 0\n",
        "\n",
        "while x < 10:\n",
        "  print('x is currently: ',x)\n",
        "  print(' x is still less than 10, adding 1 to x')\n",
        "  x+=1\n",
        "  break\n",
        "\n",
        "else:\n",
        "  print('continuing...')\n"
      ]
    },
    {
      "cell_type": "code",
      "execution_count": null,
      "metadata": {
        "colab": {
          "base_uri": "https://localhost:8080/"
        },
        "id": "dwGxs4EVm2fB",
        "outputId": "b60a6e76-1405-48a5-8102-67bcb2f042fd"
      },
      "outputs": [
        {
          "output_type": "stream",
          "name": "stdout",
          "text": [
            "x is currently:  0\n",
            " x is still less than 10, adding 1 to x\n",
            "x is currently:  1\n",
            " x is still less than 10, adding 1 to x\n",
            "x is currently:  2\n",
            " x is still less than 10, adding 1 to x\n",
            "x is currently:  3\n",
            " x is still less than 10, adding 1 to x\n",
            "x is currently:  4\n",
            " x is still less than 10, adding 1 to x\n",
            "x is currently:  5\n",
            " x is still less than 10, adding 1 to x\n",
            "x is currently:  6\n",
            " x is still less than 10, adding 1 to x\n",
            "x is currently:  7\n",
            " x is still less than 10, adding 1 to x\n",
            "x is currently:  8\n",
            " x is still less than 10, adding 1 to x\n",
            "x is currently:  9\n",
            " x is still less than 10, adding 1 to x\n",
            "continuing...\n"
          ]
        }
      ],
      "source": [
        "x = 0\n",
        "\n",
        "while x < 10:\n",
        "  print('x is currently: ',x)\n",
        "  print(' x is still less than 10, adding 1 to x')\n",
        "  x+=1\n",
        "  pass\n",
        "\n",
        "else:\n",
        "  print('continuing...')"
      ]
    },
    {
      "cell_type": "markdown",
      "metadata": {
        "id": "OvB31hV4mPqK"
      },
      "source": [
        "\n",
        "\n",
        "#### After these brief but simple examples, you should feel comfortable using <code>while</code> statements in your code.\n",
        "\n",
        "#### **A word of caution however! It is possible to create an infinitely running loop with <code>while</code> statements.**"
      ]
    },
    {
      "cell_type": "code",
      "execution_count": null,
      "metadata": {
        "id": "1wJmRZPX68kf"
      },
      "outputs": [],
      "source": [
        "# for elem in list_of_numbers:\n",
        "#   while elem > 3:\n",
        "#     pass\n",
        "#   else:\n"
      ]
    },
    {
      "cell_type": "code",
      "execution_count": null,
      "metadata": {
        "id": "R7YBuJeZkY60"
      },
      "outputs": [],
      "source": [
        "l = []\n",
        "for elem in l :\n",
        "  print(elem)"
      ]
    },
    {
      "cell_type": "code",
      "execution_count": null,
      "metadata": {
        "id": "LEhuxzxekb2s"
      },
      "outputs": [],
      "source": [
        "# isbn = input(\"Enter the ISBN-10 code: \")\n",
        "# digits = [int(d) for d in isbn if d.isdigit()]\n",
        "\n",
        "# if len(digits) == 10:\n",
        "#    total = sum([(i + 1) * d for i, d in enumerate(digits)])\n",
        "#    if total % 11 == 0:\n",
        "#        print(isbn, \"is a valid ISBN-10 code.\")\n",
        "#    else:\n",
        "#        print(isbn, \"is not a valid ISBN-10 code.\")\n",
        "# else:\n",
        "#    print(isbn, \"is not a valid ISBN-10 code.\")"
      ]
    },
    {
      "cell_type": "markdown",
      "source": [
        "#Using while loop WAP to find out the sum of first n natural numbers"
      ],
      "metadata": {
        "id": "OnvblMQfsfzS"
      }
    },
    {
      "cell_type": "code",
      "source": [
        "n=int(input(\"Enter the value of n: \"))\n",
        "sum=0\n",
        "i=1\n",
        "while i<=n:\n",
        "  sum=sum+i\n",
        "  i=i+1\n",
        "print(sum)"
      ],
      "metadata": {
        "colab": {
          "base_uri": "https://localhost:8080/"
        },
        "id": "USRmPzRgrFEu",
        "outputId": "2ef754b8-e12e-4385-d73a-3d74d253e644"
      },
      "execution_count": null,
      "outputs": [
        {
          "output_type": "stream",
          "name": "stdout",
          "text": [
            "Enter the value of n: 4\n",
            "10\n"
          ]
        }
      ]
    },
    {
      "cell_type": "markdown",
      "source": [
        "#Using while loop print even numbers from 1 to 20"
      ],
      "metadata": {
        "id": "B0zAhmZmvRmv"
      }
    },
    {
      "cell_type": "code",
      "source": [
        "i=1\n",
        "while i<=20:\n",
        "  if i%2==0:\n",
        "    print(i, end=\",\")\n",
        "  i=i+1"
      ],
      "metadata": {
        "colab": {
          "base_uri": "https://localhost:8080/"
        },
        "id": "XFFtUEDAy2ha",
        "outputId": "b0ccde05-dd8c-4a44-da1a-3349f3ab030e"
      },
      "execution_count": null,
      "outputs": [
        {
          "output_type": "stream",
          "name": "stdout",
          "text": [
            "2,4,6,8,10,12,14,16,18,20,"
          ]
        }
      ]
    },
    {
      "cell_type": "code",
      "source": [
        "i=2\n",
        "while i<=20:\n",
        "  print(i, end=\",\")\n",
        "  i=i+2"
      ],
      "metadata": {
        "colab": {
          "base_uri": "https://localhost:8080/"
        },
        "id": "V6fSfZV1zNPw",
        "outputId": "272564ae-303c-459b-d362-9cfbe563a07d"
      },
      "execution_count": null,
      "outputs": [
        {
          "output_type": "stream",
          "name": "stdout",
          "text": [
            "2,4,6,8,10,12,14,16,18,20,"
          ]
        }
      ]
    },
    {
      "cell_type": "markdown",
      "source": [
        "1. Using while loop find the sum of digits in a number\n",
        "2.Using while loop find the factorial of a number\n",
        "3.Using while loop find the multiplication table\n",
        "\n"
      ],
      "metadata": {
        "id": "Chh6G9_CvsFu"
      }
    },
    {
      "cell_type": "code",
      "source": [
        "#1\n",
        "num=123\n",
        "sum_digits=0\n",
        "\n",
        "while num>0:\n",
        "  digit=num%10\n",
        "  sum_digits=sum_digits+digit\n",
        "  num=num//10\n",
        "\n",
        "print(sum_digits)"
      ],
      "metadata": {
        "id": "4ZA6_l8Qv1_E",
        "colab": {
          "base_uri": "https://localhost:8080/"
        },
        "outputId": "04709ace-df16-41e6-c5b7-161de68503a1"
      },
      "execution_count": null,
      "outputs": [
        {
          "output_type": "stream",
          "name": "stdout",
          "text": [
            "6\n"
          ]
        }
      ]
    },
    {
      "cell_type": "code",
      "source": [
        "num=int(input('enter number:'))\n",
        "i=1\n",
        "while i<=10:\n",
        "  print(f'{num} * {i} = {num*i}')\n",
        "  i=i+1\n"
      ],
      "metadata": {
        "colab": {
          "base_uri": "https://localhost:8080/"
        },
        "id": "zOpVTl8m5exL",
        "outputId": "4bf119c3-1a2a-40d8-b925-f321e4a927e3"
      },
      "execution_count": null,
      "outputs": [
        {
          "output_type": "stream",
          "name": "stdout",
          "text": [
            "enter number:5\n",
            "5 * 1 = 5\n",
            "5 * 2 = 10\n",
            "5 * 3 = 15\n",
            "5 * 4 = 20\n",
            "5 * 5 = 25\n",
            "5 * 6 = 30\n",
            "5 * 7 = 35\n",
            "5 * 8 = 40\n",
            "5 * 9 = 45\n",
            "5 * 10 = 50\n"
          ]
        }
      ]
    },
    {
      "cell_type": "code",
      "source": [
        "num=int(input(\"enter a number\"))\n",
        "i=1\n",
        "total=1\n",
        "while i<num+1:\n",
        "  total=total*i\n",
        "  i=i+1\n",
        "\n",
        "print(total)"
      ],
      "metadata": {
        "colab": {
          "base_uri": "https://localhost:8080/"
        },
        "id": "peS1Lz1O5eum",
        "outputId": "ebd193fd-0b84-4ebb-dfab-3207169af5ec"
      },
      "execution_count": null,
      "outputs": [
        {
          "output_type": "stream",
          "name": "stdout",
          "text": [
            "enter a number3\n",
            "6\n"
          ]
        }
      ]
    },
    {
      "cell_type": "code",
      "source": [],
      "metadata": {
        "id": "yd3i0cjj5erk"
      },
      "execution_count": null,
      "outputs": []
    }
  ],
  "metadata": {
    "colab": {
      "provenance": []
    },
    "kernelspec": {
      "display_name": "Python 3",
      "language": "python",
      "name": "python3"
    },
    "language_info": {
      "codemirror_mode": {
        "name": "ipython",
        "version": 3
      },
      "file_extension": ".py",
      "mimetype": "text/x-python",
      "name": "python",
      "nbconvert_exporter": "python",
      "pygments_lexer": "ipython3",
      "version": "3.7.4"
    }
  },
  "nbformat": 4,
  "nbformat_minor": 0
}