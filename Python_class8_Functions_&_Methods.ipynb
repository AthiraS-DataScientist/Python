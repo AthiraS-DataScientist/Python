{
  "nbformat": 4,
  "nbformat_minor": 0,
  "metadata": {
    "colab": {
      "provenance": []
    },
    "kernelspec": {
      "display_name": "Python 3",
      "language": "python",
      "name": "python3"
    },
    "language_info": {
      "codemirror_mode": {
        "name": "ipython",
        "version": 3
      },
      "file_extension": ".py",
      "mimetype": "text/x-python",
      "name": "python",
      "nbconvert_exporter": "python",
      "pygments_lexer": "ipython3",
      "version": "3.7.3"
    }
  },
  "cells": [
    {
      "cell_type": "markdown",
      "metadata": {
        "id": "if7mXXYjlI5a"
      },
      "source": [
        "# Functions\n",
        "\n",
        "Functions will be one of our main building blocks when we construct larger and larger amounts of code to solve problems.\n",
        "\n",
        "**So what is a function?**\n",
        "\n",
        "Formally, a function is a useful device that groups together a set of statements so they can be run more than once. They can also let us specify parameters that can serve as inputs to the functions.\n",
        "\n",
        "On a more fundamental level, functions allow us to not have to repeatedly write the same code again and again. If you remember back to the lessons on strings and lists, remember that we used a function <code>len()</code> to get the length of a string. Since checking the length of a sequence is a common task you would want to write a function that can do this repeatedly at command.\n",
        "\n",
        "Functions will be one of the most basic levels of **reusing code in Python**."
      ]
    },
    {
      "cell_type": "markdown",
      "source": [
        "return is more versatile compared to print function\n",
        "\n",
        "when u are using print function, cannot be used for further operation\n",
        "\n",
        "return allows the user  to do further operations"
      ],
      "metadata": {
        "id": "Xexh374KIMds"
      }
    },
    {
      "cell_type": "code",
      "source": [],
      "metadata": {
        "id": "BlVB25BNTRPN"
      },
      "execution_count": null,
      "outputs": []
    },
    {
      "cell_type": "code",
      "source": [],
      "metadata": {
        "id": "0fjXvJMyTRMJ"
      },
      "execution_count": null,
      "outputs": []
    },
    {
      "cell_type": "markdown",
      "metadata": {
        "id": "LQDR0mzFlI5f"
      },
      "source": [
        "## <code>def</code> Statements\n",
        "\n",
        "Let's see how to build out a function's syntax in Python. It has the following form:"
      ]
    },
    {
      "cell_type": "code",
      "metadata": {
        "id": "-DGjmGZNlI5k"
      },
      "source": [
        "def example_function(arg1, arg2):\n",
        "  '''\n",
        "  This is where the function's Document String (docstring) goes\n",
        "  '''\n",
        "  # Do stuff here\n",
        "  return desired_result"
      ],
      "execution_count": null,
      "outputs": []
    },
    {
      "cell_type": "markdown",
      "metadata": {
        "id": "q8gKQsbFlI53"
      },
      "source": [
        "* We begin with <code>def</code> then a space followed by the name of the function. Try to keep names relevant, for example <code>len()</code> is a good name for a <code>length()</code> function. Also be careful with names, you wouldn't want to call a function the same name as a [built-in function in Python](https://docs.python.org/2/library/functions.html) (such as len).\n",
        "\n",
        "* Next come a pair of parentheses with a number of arguments separated by a comma. These arguments are the inputs for your function. You'll be able to use these inputs in your function and reference them. After this you put a colon.\n",
        "\n",
        "* Now here is the important step, you must indent to begin the code inside your function correctly. Python makes use of *whitespace* to organize code. Lots of other programing languages do not do this, so keep that in mind.\n",
        "\n",
        "* Next you'll see the docstring, this is where you write a basic description of the function. Using iPython and iPython Notebooks, you'll be able to read these docstrings by pressing Shift+Tab after a function name. Docstrings are not necessary for simple functions, but it's good practice to put them in so you or other people can easily understand the code you write.\n",
        "\n",
        "After all this you begin writing the code you wish to execute.\n",
        "\n",
        "* The best way to learn functions is by going through examples. So let's try to go through examples that relate back to the various objects and data structures we learned about before.\n",
        "\n",
        "* <code>return</code> allows a function to *return* a result that can then be stored as a variable, or used in whatever manner a user wants."
      ]
    },
    {
      "cell_type": "markdown",
      "metadata": {
        "id": "AZAGdrxAlI57"
      },
      "source": [
        "## <u>Example 1</u>: Extract a list of first letters from a sentence"
      ]
    },
    {
      "cell_type": "code",
      "metadata": {
        "id": "T6Lkq4wdG-e6"
      },
      "source": [
        "heisenberg_quote = \"It ceases to exist without me. No, you clearly don't know who you're talking to, so let me clue you in. I am not in danger, Skyler. I am the danger.\""
      ],
      "execution_count": null,
      "outputs": []
    },
    {
      "cell_type": "code",
      "source": [
        "words_by_walter = heisenberg_quote.split(' ')\n",
        "print(words_by_walter)"
      ],
      "metadata": {
        "colab": {
          "base_uri": "https://localhost:8080/"
        },
        "id": "p1g-WIFa89Lh",
        "outputId": "0bc419fc-7d7b-40ec-9156-3fa6b5cea1f8"
      },
      "execution_count": null,
      "outputs": [
        {
          "output_type": "stream",
          "name": "stdout",
          "text": [
            "['It', 'ceases', 'to', 'exist', 'without', 'me.', 'No,', 'you', 'clearly', \"don't\", 'know', 'who', \"you're\", 'talking', 'to,', 'so', 'let', 'me', 'clue', 'you', 'in.', 'I', 'am', 'not', 'in', 'danger,', 'Skyler.', 'I', 'am', 'the', 'danger.']\n"
          ]
        }
      ]
    },
    {
      "cell_type": "code",
      "metadata": {
        "id": "FbCx1-iyHCRK",
        "colab": {
          "base_uri": "https://localhost:8080/"
        },
        "outputId": "6f8769fe-3ebb-430d-dcfc-a997fc73495a"
      },
      "source": [
        "# Using the list comprehension, we can do the above task in this way\n",
        "words_by_walter = heisenberg_quote.split(' ')\n",
        "\n",
        "first_letters = [word[0] for word in words_by_walter]\n",
        "print(first_letters)"
      ],
      "execution_count": null,
      "outputs": [
        {
          "output_type": "stream",
          "name": "stdout",
          "text": [
            "['I', 'c', 't', 'e', 'w', 'm', 'N', 'y', 'c', 'd', 'k', 'w', 'y', 't', 't', 's', 'l', 'm', 'c', 'y', 'i', 'I', 'a', 'n', 'i', 'd', 'S', 'I', 'a', 't', 'd']\n"
          ]
        }
      ]
    },
    {
      "cell_type": "markdown",
      "metadata": {
        "id": "dpRy4h7mHNW3"
      },
      "source": [
        "## Now let us write a function which does the same task for any given sentence"
      ]
    },
    {
      "cell_type": "code",
      "metadata": {
        "id": "ezItgG0SlI5_"
      },
      "source": [
        "def extract_first_letters(sentence):\n",
        "  '''\n",
        "  This function takes a sentence as an input and returns\n",
        "  the list of first letters of each word\n",
        "  '''\n",
        "\n",
        "  # Step 1 : Get the list of words in this sentence\n",
        "  words_in_sentence = sentence.split(' ')\n",
        "\n",
        "  # Step 2: Write a list comprehension to extract the first letters\n",
        "  first_letters = [word[0] for word in words_in_sentence]\n",
        "\n",
        "  # Step 3: Return the output list first_letters\n",
        "  return first_letters"
      ],
      "execution_count": null,
      "outputs": []
    },
    {
      "cell_type": "code",
      "metadata": {
        "id": "izVY5GousbYm",
        "colab": {
          "base_uri": "https://localhost:8080/"
        },
        "outputId": "aa607d3c-2ecf-4833-e60b-ab29d338e9c7"
      },
      "source": [
        "print(extract_first_letters(heisenberg_quote))"
      ],
      "execution_count": null,
      "outputs": [
        {
          "output_type": "stream",
          "name": "stdout",
          "text": [
            "['I', 'c', 't', 'e', 'w', 'm', 'N', 'y', 'c', 'd', 'k', 'w', 'y', 't', 't', 's', 'l', 'm', 'c', 'y', 'i', 'I', 'a', 'n', 'i', 'd', 'S', 'I', 'a', 't', 'd']\n"
          ]
        }
      ]
    },
    {
      "cell_type": "code",
      "metadata": {
        "id": "j-OcB5lBs0K_"
      },
      "source": [
        "# print(extract_first_letters(starwars_quote))"
      ],
      "execution_count": null,
      "outputs": []
    },
    {
      "cell_type": "code",
      "metadata": {
        "id": "zEUax4SXlI6g",
        "colab": {
          "base_uri": "https://localhost:8080/"
        },
        "outputId": "36b59a68-d587-448c-c9ba-79a8ed2b9a49"
      },
      "source": [
        "# Store the result of the function in another variable\n",
        "first_letters_heisenberg = extract_first_letters(heisenberg_quote)\n",
        "print(first_letters_heisenberg)"
      ],
      "execution_count": null,
      "outputs": [
        {
          "output_type": "stream",
          "name": "stdout",
          "text": [
            "['I', 'c', 't', 'e', 'w', 'm', 'N', 'y', 'c', 'd', 'k', 'w', 'y', 't', 't', 's', 'l', 'm', 'c', 'y', 'i', 'I', 'a', 'n', 'i', 'd', 'S', 'I', 'a', 't', 'd']\n"
          ]
        }
      ]
    },
    {
      "cell_type": "markdown",
      "metadata": {
        "id": "N2fXw7UkJLSs"
      },
      "source": [
        "### Let us test this function on another sentence"
      ]
    },
    {
      "cell_type": "code",
      "metadata": {
        "id": "19mdKl4llI6z",
        "colab": {
          "base_uri": "https://localhost:8080/"
        },
        "outputId": "ec16bdd1-3dc5-4e44-abb7-cfbaf112f217"
      },
      "source": [
        "starwars_quote = \"May the Force be with you.\"\n",
        "first_letters_starwars = extract_first_letters(starwars_quote)\n",
        "print(first_letters_starwars)"
      ],
      "execution_count": null,
      "outputs": [
        {
          "output_type": "stream",
          "name": "stdout",
          "text": [
            "['M', 't', 'F', 'b', 'w', 'y']\n"
          ]
        }
      ]
    },
    {
      "cell_type": "markdown",
      "metadata": {
        "id": "8gBuN364lI7i"
      },
      "source": [
        "## <u> Example 2</u> : Let us now write a function which returns the factorial of a number.\n",
        "\n",
        "### In mathematics, the factorial of a positive integer $n$, denoted by $n!$, is the product of all positive integers less than or equal to $n$"
      ]
    },
    {
      "cell_type": "code",
      "metadata": {
        "id": "df64eHtllI7o"
      },
      "source": [
        "def factorial(num):\n",
        "    '''\n",
        "    Function for calculating factorial of a number\n",
        "    '''\n",
        "\n",
        "    # Step 1 : Write an if  statement to print a message if the input number is negative\n",
        "    if num < 0:\n",
        "      print(\"Factorial is not defined for negative numbers.\")\n",
        "\n",
        "    # Step 2: Write the elif statement to calculate the factorial\n",
        "    elif num > 0:\n",
        "      result = 1\n",
        "      for i in range(1, num+1):\n",
        "        result = result * i\n",
        "      # print(f\"The factorial of {num} is {result}.\")\n",
        "\n",
        "    # Step 3: Write the else statement to take care of the input 0\n",
        "    else:\n",
        "      print(\"The factorial of 0 is 1.\")\n",
        "\n",
        "    # Step 4 : Return the output variable result\n",
        "\n",
        "    return result"
      ],
      "execution_count": null,
      "outputs": []
    },
    {
      "cell_type": "code",
      "metadata": {
        "id": "3_zNpjLR-zcF",
        "colab": {
          "base_uri": "https://localhost:8080/"
        },
        "outputId": "4eade1c2-ca97-4276-b11e-3dd5d2033bed"
      },
      "source": [
        "fact_seven = factorial(3)\n",
        "print(fact_seven)"
      ],
      "execution_count": null,
      "outputs": [
        {
          "output_type": "stream",
          "name": "stdout",
          "text": [
            "6\n"
          ]
        }
      ]
    },
    {
      "cell_type": "code",
      "metadata": {
        "id": "AemuztG4lI75",
        "colab": {
          "base_uri": "https://localhost:8080/"
        },
        "outputId": "baa2f7e5-a087-484d-9c78-6b3f1c5f7466"
      },
      "source": [
        "# Now let us define a list of numbers for which we want to calculate the factorials\n",
        "list_of_numbers = [3, 5, 8, 12, 4, 6]\n",
        "\n",
        "# We can write a list comprehension for the same task\n",
        "factorial_list = [factorial(number) for number in list_of_numbers if number%2!=0]\n",
        "print(factorial_list)"
      ],
      "execution_count": null,
      "outputs": [
        {
          "output_type": "stream",
          "name": "stdout",
          "text": [
            "[6, 120]\n"
          ]
        }
      ]
    },
    {
      "cell_type": "markdown",
      "metadata": {
        "id": "k6csqQJrlI8J"
      },
      "source": [
        "##<u> Example 3</u>: Let us write a function which takes a date as a string and prints the quarter as output.\n",
        "\n",
        "### Remember it is not required that functions will return a value. This is an example of such functions\n"
      ]
    },
    {
      "cell_type": "code",
      "metadata": {
        "id": "Y8H9zJ8HlI8O"
      },
      "source": [
        "def assignQuarter(user_date):\n",
        "  '''\n",
        "  This function prints the quarter for a given date string\n",
        "  '''\n",
        "\n",
        "  # Step 1 : Extract the year and month from the input date string\n",
        "  date_year = user_date[:4]       #2020-07-01\n",
        "  date_month = user_date[5:7]\n",
        "\n",
        "  # Step 2 : Store the quarter value in a string variable named quarter\n",
        "  if (date_month >= '01') & (date_month <='03'):\n",
        "    quarter = date_year + '-Q1'\n",
        "  elif (date_month >= '04') & (date_month <='06'):\n",
        "    quarter = date_year + '-Q2'\n",
        "  elif (date_month >= '07') & (date_month <='09'):\n",
        "    quarter = date_year + '-Q3'\n",
        "  else:\n",
        "    quarter = date_year + '-Q4'\n",
        "\n",
        "  # Step 3 : Print the message you want to display to the user. Here we are not returning anything\n",
        "  print(f'The corresponding quarter for the date {user_date} is {quarter}')\n",
        "  return quarter"
      ],
      "execution_count": null,
      "outputs": []
    },
    {
      "cell_type": "code",
      "metadata": {
        "id": "2bUQ5FmFlI8a",
        "scrolled": false,
        "colab": {
          "base_uri": "https://localhost:8080/"
        },
        "outputId": "fb399983-8736-4aac-d9cc-fba412802f85"
      },
      "source": [
        "sample_date = '2020-07-01'\n",
        "date_quarter = assignQuarter(sample_date)\n",
        "print(date_quarter)"
      ],
      "execution_count": null,
      "outputs": [
        {
          "output_type": "stream",
          "name": "stdout",
          "text": [
            "The corresponding quarter for the date 2020-07-01 is 2020-Q3\n",
            "2020-Q3\n"
          ]
        }
      ]
    },
    {
      "cell_type": "code",
      "metadata": {
        "id": "joS3QaIlOcs6",
        "colab": {
          "base_uri": "https://localhost:8080/"
        },
        "outputId": "813cb445-b690-436b-ed31-6697fdf2dc20"
      },
      "source": [
        "my_quarter = assignQuarter(sample_date)"
      ],
      "execution_count": null,
      "outputs": [
        {
          "output_type": "stream",
          "name": "stdout",
          "text": [
            "The corresponding quarter for the date 2020-07-01 is 2020-Q3\n"
          ]
        }
      ]
    },
    {
      "cell_type": "code",
      "metadata": {
        "id": "AKXZA6UjOhAh",
        "colab": {
          "base_uri": "https://localhost:8080/"
        },
        "outputId": "c1ba4e3d-88de-4def-f000-52998594ec26"
      },
      "source": [
        "print(my_quarter)"
      ],
      "execution_count": null,
      "outputs": [
        {
          "output_type": "stream",
          "name": "stdout",
          "text": [
            "2020-Q3\n"
          ]
        }
      ]
    },
    {
      "cell_type": "code",
      "metadata": {
        "id": "w2scRk8eO6-V",
        "colab": {
          "base_uri": "https://localhost:8080/"
        },
        "outputId": "6eca798a-8fc2-45ed-89bc-ebe6fa4af2ab"
      },
      "source": [
        "assignQuarter"
      ],
      "execution_count": null,
      "outputs": [
        {
          "output_type": "execute_result",
          "data": {
            "text/plain": [
              "<function __main__.assignQuarter(user_date)>"
            ]
          },
          "metadata": {},
          "execution_count": 17
        }
      ]
    },
    {
      "cell_type": "markdown",
      "metadata": {
        "id": "vLhxFqE_lI8o"
      },
      "source": [
        "##<u> Example 4 </u>: Let us write a function with multiple return statements"
      ]
    },
    {
      "cell_type": "code",
      "metadata": {
        "id": "-MvPKAGHlI8r"
      },
      "source": [
        "def check_even_or_odd(num):\n",
        "  '''\n",
        "  This function checks whether a number is odd or even and then returns the corresponding string\n",
        "  '''\n",
        "  print(f'Given number is {num}')\n",
        "\n",
        "  # Step 1 : Check if the number is even. If it is return 'even'\n",
        "  if num%2 == 0:\n",
        "    return 'even'\n",
        "\n",
        "  # Step 2 : Else just return 'odd'\n",
        "  #else:\n",
        "  return 'odd'"
      ],
      "execution_count": null,
      "outputs": []
    },
    {
      "cell_type": "code",
      "metadata": {
        "id": "Df7vsilOlI84",
        "colab": {
          "base_uri": "https://localhost:8080/"
        },
        "outputId": "c4f708fb-0bc9-4bcb-91b2-5b9917c98dc6"
      },
      "source": [
        "is_even_odd = check_even_or_odd(10)\n",
        "print(is_even_odd)"
      ],
      "execution_count": null,
      "outputs": [
        {
          "output_type": "stream",
          "name": "stdout",
          "text": [
            "Given number is 10\n",
            "even\n"
          ]
        }
      ]
    },
    {
      "cell_type": "markdown",
      "metadata": {
        "id": "i_jDWr_ZlI9J"
      },
      "source": [
        "## <u> Example 5</u> : Next let us write a function which returns multiple variables at once.\n",
        "\n",
        "### In this specific example, the input is a list of numbers. And we have to return the mean and median of this list of numbers"
      ]
    },
    {
      "cell_type": "code",
      "metadata": {
        "id": "kG3rgxm6ZXnp"
      },
      "source": [
        "heights =  [172,175,170,168,170,200]"
      ],
      "execution_count": null,
      "outputs": []
    },
    {
      "cell_type": "code",
      "metadata": {
        "id": "jivqK1-mlI9T"
      },
      "source": [
        "def calculate_averages(my_list):\n",
        "  '''\n",
        "  This function calculates the mean and median of a given list of numbers.\n",
        "  '''\n",
        "  # Step 1 : Calculate the mean\n",
        "  mean = sum(my_list)/len(my_list)\n",
        "\n",
        "  # Step 2 : Calculate the median\n",
        "  sorted_list = sorted(my_list)\n",
        "  list_length = len(sorted_list)\n",
        "\n",
        "  if list_length%2 == 0:\n",
        "    median = (sorted_list[int(list_length/2)-1] + sorted_list[int(list_length/2)])/2     #(n/2)th and [(n/2) + 1]th observations.\n",
        "\n",
        "  else :\n",
        "    median = sorted_list[int((list_length+1)/2) - 1]\n",
        "\n",
        "  return  mean, median"
      ],
      "execution_count": null,
      "outputs": []
    },
    {
      "cell_type": "code",
      "metadata": {
        "id": "Twu3xeb0lI97",
        "colab": {
          "base_uri": "https://localhost:8080/"
        },
        "outputId": "5611c1bd-6628-4d3b-ef81-2a208f0f269d"
      },
      "source": [
        "calculate_averages(heights)"
      ],
      "execution_count": null,
      "outputs": [
        {
          "output_type": "execute_result",
          "data": {
            "text/plain": [
              "(175.83333333333334, 171.0)"
            ]
          },
          "metadata": {},
          "execution_count": 22
        }
      ]
    },
    {
      "cell_type": "code",
      "metadata": {
        "id": "OoOA_7PHlI-W"
      },
      "source": [
        "mean_height, median_height = calculate_averages(heights)"
      ],
      "execution_count": null,
      "outputs": []
    },
    {
      "cell_type": "code",
      "metadata": {
        "id": "x4XXJBEglI-j",
        "colab": {
          "base_uri": "https://localhost:8080/"
        },
        "outputId": "c8a71c91-3167-47af-abf2-568a61c5d686"
      },
      "source": [
        "mean_height"
      ],
      "execution_count": null,
      "outputs": [
        {
          "output_type": "execute_result",
          "data": {
            "text/plain": [
              "175.83333333333334"
            ]
          },
          "metadata": {},
          "execution_count": 24
        }
      ]
    },
    {
      "cell_type": "code",
      "metadata": {
        "id": "P8N6jqmrlI-u",
        "colab": {
          "base_uri": "https://localhost:8080/"
        },
        "outputId": "ac563949-e2f7-426d-f032-4fb3df1a7609"
      },
      "source": [
        "median_height"
      ],
      "execution_count": null,
      "outputs": [
        {
          "output_type": "execute_result",
          "data": {
            "text/plain": [
              "171.0"
            ]
          },
          "metadata": {},
          "execution_count": 25
        }
      ]
    },
    {
      "cell_type": "markdown",
      "metadata": {
        "id": "kn2VVLuulI_e"
      },
      "source": [
        "##<u> Example 6</u>: Now let us write a function which adds an element to a list. This functions takes the list as an argument and the element to be added"
      ]
    },
    {
      "cell_type": "code",
      "metadata": {
        "id": "Bkpji_8jlI_h"
      },
      "source": [
        "def list_append(my_list, elem):\n",
        "  '''\n",
        "  This function appends an element to the list\n",
        "  '''\n",
        "  # Step 1 : Add the element to the list\n",
        "  new_list = my_list + [elem]\n",
        "\n",
        "  # Step 2 : Return the new_list\n",
        "  return new_list"
      ],
      "execution_count": null,
      "outputs": []
    },
    {
      "cell_type": "code",
      "metadata": {
        "id": "6Eu3ZCkV4DcU",
        "colab": {
          "base_uri": "https://localhost:8080/"
        },
        "outputId": "ec23f82f-fe4e-44a0-c1c2-2551f4585375"
      },
      "source": [
        "print(heights)"
      ],
      "execution_count": null,
      "outputs": [
        {
          "output_type": "stream",
          "name": "stdout",
          "text": [
            "[172, 175, 170, 168, 170, 200]\n"
          ]
        }
      ]
    },
    {
      "cell_type": "code",
      "metadata": {
        "id": "NNs0CCsolI_u",
        "colab": {
          "base_uri": "https://localhost:8080/"
        },
        "outputId": "0911e84a-ed6a-4590-8138-52b3da78d035"
      },
      "source": [
        "list_append(heights,190)"
      ],
      "execution_count": null,
      "outputs": [
        {
          "output_type": "execute_result",
          "data": {
            "text/plain": [
              "[172, 175, 170, 168, 170, 200, 190]"
            ]
          },
          "metadata": {},
          "execution_count": 28
        }
      ]
    },
    {
      "cell_type": "code",
      "metadata": {
        "id": "-KJKUCLH4MJx",
        "colab": {
          "base_uri": "https://localhost:8080/"
        },
        "outputId": "5e8e3ee1-67fe-4c5a-cc51-e506ec35a067"
      },
      "source": [
        "print(heights)"
      ],
      "execution_count": null,
      "outputs": [
        {
          "output_type": "stream",
          "name": "stdout",
          "text": [
            "[172, 175, 170, 168, 170, 200]\n"
          ]
        }
      ]
    },
    {
      "cell_type": "code",
      "metadata": {
        "id": "rw8GanMmlI_3",
        "colab": {
          "base_uri": "https://localhost:8080/"
        },
        "outputId": "87842cdc-c117-482c-92fd-09b0f09a12ba"
      },
      "source": [
        "list_append(heights, elem = 40)"
      ],
      "execution_count": null,
      "outputs": [
        {
          "output_type": "execute_result",
          "data": {
            "text/plain": [
              "[172, 175, 170, 168, 170, 200, 40]"
            ]
          },
          "metadata": {},
          "execution_count": 30
        }
      ]
    },
    {
      "cell_type": "code",
      "metadata": {
        "id": "8Gec4wsF4yzz",
        "colab": {
          "base_uri": "https://localhost:8080/"
        },
        "outputId": "69188166-3f26-4121-df7c-3638c7287d0e"
      },
      "source": [
        "print(heights)"
      ],
      "execution_count": null,
      "outputs": [
        {
          "output_type": "stream",
          "name": "stdout",
          "text": [
            "[172, 175, 170, 168, 170, 200]\n"
          ]
        }
      ]
    },
    {
      "cell_type": "code",
      "metadata": {
        "id": "kOo-JHdK41Yy"
      },
      "source": [
        "heights.append(60)"
      ],
      "execution_count": null,
      "outputs": []
    },
    {
      "cell_type": "code",
      "metadata": {
        "id": "opiniKlP48dn",
        "colab": {
          "base_uri": "https://localhost:8080/"
        },
        "outputId": "cfd239f4-ff99-4cec-db60-98aa17c66e63"
      },
      "source": [
        "print(heights)"
      ],
      "execution_count": null,
      "outputs": [
        {
          "output_type": "stream",
          "name": "stdout",
          "text": [
            "[172, 175, 170, 168, 170, 200, 60]\n"
          ]
        }
      ]
    },
    {
      "cell_type": "markdown",
      "metadata": {
        "id": "NWPhYNATjbA5"
      },
      "source": [
        "## Let us find out what are the differences between functions and methods\n",
        "\n",
        "* Function and method both look similar as they perform in an almost similar way, but the key difference is the concept of ‘Class and its Object’. Functions can be called only by its name, as it is defined independently. But methods cannot be called by its name only we need to invoke the class by reference of that class in which it is defined, that is, the method is defined within a class and hence they are dependent on that class.\n",
        "\n",
        "* A method is called by its name but it is associated with an object (dependent). It is implicitly passed to an object on which it is invoked. It may or may not return any data. A method can operate the data (instance variables) that is contained by the corresponding class."
      ]
    },
    {
      "cell_type": "markdown",
      "metadata": {
        "id": "BO25ViQ7lI36"
      },
      "source": [
        "# Methods\n",
        "\n",
        "We've already seen a few example of methods when learning about lists in Python. Methods are essentially functions built into objects.\n",
        "\n",
        "Methods perform specific actions on an object and can also take arguments, just like a function.\n",
        "\n",
        "Methods are of the form:\n",
        "\n",
        "    object.method(arg1,arg2,etc...)"
      ]
    },
    {
      "cell_type": "code",
      "metadata": {
        "id": "BUbbf50vlJAH"
      },
      "source": [
        "def insert_value_to_list(list_obj, index_to_place, value_to_place):\n",
        "  '''\n",
        "  This function inserts an element to a list at a specified index\n",
        "  '''\n",
        "\n",
        "  # Step 1 : Get the first part\n",
        "  first_part = list_obj[0:index_to_place]\n",
        "\n",
        "  # Step 2 : Append the element at the end of the first part\n",
        "  first_part.append(value_to_place)\n",
        "\n",
        "  # Step 3 : Get the last part\n",
        "  last_part = list_obj[index_to_place:]\n",
        "\n",
        "  # Step 4 : Use the extend method to add the last part to the first part\n",
        "  first_part.extend(last_part)\n",
        "\n",
        "  # Step 5 : Return the first part\n",
        "  return first_part"
      ],
      "execution_count": null,
      "outputs": []
    },
    {
      "cell_type": "code",
      "metadata": {
        "id": "f6o1mUMZlJAP"
      },
      "source": [
        "new_heights = insert_value_to_list(heights, 4, 180)"
      ],
      "execution_count": null,
      "outputs": []
    },
    {
      "cell_type": "code",
      "metadata": {
        "id": "O5idpTBHlJAT",
        "colab": {
          "base_uri": "https://localhost:8080/"
        },
        "outputId": "a8020966-a324-453a-cb66-164bbe286b8f"
      },
      "source": [
        "new_heights"
      ],
      "execution_count": null,
      "outputs": [
        {
          "output_type": "execute_result",
          "data": {
            "text/plain": [
              "[172, 175, 170, 168, 180, 170, 200, 60]"
            ]
          },
          "metadata": {},
          "execution_count": 36
        }
      ]
    },
    {
      "cell_type": "code",
      "metadata": {
        "id": "x_X_4K8glJAX"
      },
      "source": [
        "heights.insert(2,180)"
      ],
      "execution_count": null,
      "outputs": []
    },
    {
      "cell_type": "code",
      "metadata": {
        "id": "HqgPIkotlJAa",
        "colab": {
          "base_uri": "https://localhost:8080/"
        },
        "outputId": "0dfe9fc6-4e4b-4fce-f936-efda45593f5e"
      },
      "source": [
        "heights"
      ],
      "execution_count": null,
      "outputs": [
        {
          "output_type": "execute_result",
          "data": {
            "text/plain": [
              "[172, 175, 180, 170, 168, 170, 200, 60]"
            ]
          },
          "metadata": {},
          "execution_count": 38
        }
      ]
    },
    {
      "cell_type": "markdown",
      "metadata": {
        "id": "evEjAvNelJAi"
      },
      "source": [
        "# Scope\n",
        "\n",
        "Now that we have gone over writing our own functions, it's important to understand how Python deals with the variable names you assign. When you create a variable name in Python the name is stored in a *name-space*. Variable names also have a *scope*, the scope determines the visibility of that variable name to other parts of your code.\n",
        "\n"
      ]
    },
    {
      "cell_type": "markdown",
      "source": [
        "Normally, when you create a variable inside a function, that variable is local, and can only be used inside that function."
      ],
      "metadata": {
        "id": "GkUzvXJX4gc3"
      }
    },
    {
      "cell_type": "code",
      "metadata": {
        "id": "x7pubsHulJAj"
      },
      "source": [
        "def experiment():\n",
        "  global x\n",
        "  x = 50\n",
        "\n",
        "  return x"
      ],
      "execution_count": null,
      "outputs": []
    },
    {
      "cell_type": "code",
      "source": [
        "x"
      ],
      "metadata": {
        "colab": {
          "base_uri": "https://localhost:8080/",
          "height": 141
        },
        "id": "JDgsQ6su8f9g",
        "outputId": "566d4087-1cf2-4a44-beb0-da380d5bf109"
      },
      "execution_count": null,
      "outputs": [
        {
          "output_type": "error",
          "ename": "NameError",
          "evalue": "name 'x' is not defined",
          "traceback": [
            "\u001b[0;31m---------------------------------------------------------------------------\u001b[0m",
            "\u001b[0;31mNameError\u001b[0m                                 Traceback (most recent call last)",
            "\u001b[0;32m<ipython-input-2-6fcf9dfbd479>\u001b[0m in \u001b[0;36m<cell line: 1>\u001b[0;34m()\u001b[0m\n\u001b[0;32m----> 1\u001b[0;31m \u001b[0mx\u001b[0m\u001b[0;34m\u001b[0m\u001b[0;34m\u001b[0m\u001b[0m\n\u001b[0m",
            "\u001b[0;31mNameError\u001b[0m: name 'x' is not defined"
          ]
        }
      ]
    },
    {
      "cell_type": "code",
      "metadata": {
        "id": "LFYhyhRtlJAr"
      },
      "source": [
        "x = 25"
      ],
      "execution_count": null,
      "outputs": []
    },
    {
      "cell_type": "markdown",
      "metadata": {
        "id": "H6ZOPIBWlJAv"
      },
      "source": [
        "What do you imagine the output of <code>experiment()</code> is? 25 or 50? What is the output of print <code>x</code>? 25 or 50?"
      ]
    },
    {
      "cell_type": "code",
      "metadata": {
        "id": "D-_hLJ8FlJAx",
        "colab": {
          "base_uri": "https://localhost:8080/"
        },
        "outputId": "c268bbb2-dc87-4582-aa6c-c217fda4a432"
      },
      "source": [
        "experiment()"
      ],
      "execution_count": null,
      "outputs": [
        {
          "output_type": "execute_result",
          "data": {
            "text/plain": [
              "50"
            ]
          },
          "metadata": {},
          "execution_count": 4
        }
      ]
    },
    {
      "cell_type": "code",
      "metadata": {
        "id": "ZMVobTO5lJA5",
        "colab": {
          "base_uri": "https://localhost:8080/"
        },
        "outputId": "c094e98a-8f51-4eb5-9932-e6085e0d28fe"
      },
      "source": [
        "experiment()"
      ],
      "execution_count": null,
      "outputs": [
        {
          "output_type": "execute_result",
          "data": {
            "text/plain": [
              "50"
            ]
          },
          "metadata": {},
          "execution_count": 42
        }
      ]
    },
    {
      "cell_type": "code",
      "metadata": {
        "id": "rPI61vyrlJA-",
        "colab": {
          "base_uri": "https://localhost:8080/"
        },
        "outputId": "ada7fd17-1d81-44db-ba82-13c02ea13330"
      },
      "source": [
        "x"
      ],
      "execution_count": null,
      "outputs": [
        {
          "output_type": "execute_result",
          "data": {
            "text/plain": [
              "50"
            ]
          },
          "metadata": {},
          "execution_count": 6
        }
      ]
    },
    {
      "cell_type": "markdown",
      "metadata": {
        "id": "Re4HtKjglJBG"
      },
      "source": [
        "How do we make this function take the global variable <code>x</code> and change it?"
      ]
    },
    {
      "cell_type": "code",
      "metadata": {
        "id": "X-Ag1dMblJBI"
      },
      "source": [
        "def new_experiment():\n",
        "  global x\n",
        "\n",
        "  x = 50\n",
        "\n",
        "  return x"
      ],
      "execution_count": null,
      "outputs": []
    },
    {
      "cell_type": "code",
      "metadata": {
        "id": "3tk3f0EmlJBb"
      },
      "source": [
        "x = 40"
      ],
      "execution_count": null,
      "outputs": []
    },
    {
      "cell_type": "code",
      "metadata": {
        "id": "PwWs94zS8DNQ",
        "colab": {
          "base_uri": "https://localhost:8080/"
        },
        "outputId": "734df3a4-f60c-43aa-f594-af1f6f1df04b"
      },
      "source": [
        "x"
      ],
      "execution_count": null,
      "outputs": [
        {
          "output_type": "execute_result",
          "data": {
            "text/plain": [
              "40"
            ]
          },
          "metadata": {},
          "execution_count": 16
        }
      ]
    },
    {
      "cell_type": "code",
      "metadata": {
        "id": "ezV_6FpZlJBU",
        "colab": {
          "base_uri": "https://localhost:8080/"
        },
        "outputId": "f46fcf1b-7782-407f-ac82-c8aa314e8d23"
      },
      "source": [
        "new_experiment()"
      ],
      "execution_count": null,
      "outputs": [
        {
          "output_type": "execute_result",
          "data": {
            "text/plain": [
              "50"
            ]
          },
          "metadata": {},
          "execution_count": 13
        }
      ]
    },
    {
      "cell_type": "markdown",
      "source": [
        "##Lambda Expressions\n",
        "Small anonymous functions can be created with the lambda keyword. This function returns the sum of its two\n",
        "arguments: lambda a, b: a+b. Lambda functions can be used wherever function objects are required. They\n",
        "are syntactically restricted to a single expression. Semantically, they are just syntactic sugar for a normal function\n",
        "definition. Like nested function definitions, lambda functions can reference variables from the containing scope:\n"
      ],
      "metadata": {
        "id": "4M1xWov9REFc"
      }
    },
    {
      "cell_type": "code",
      "source": [
        "def make_incrementor(n):\n",
        "  return lambda x: x + n"
      ],
      "metadata": {
        "id": "cCNZkI0SRHtK"
      },
      "execution_count": null,
      "outputs": []
    },
    {
      "cell_type": "code",
      "source": [
        "f = make_incrementor(42)"
      ],
      "metadata": {
        "id": "0ZADYMXqRP0I"
      },
      "execution_count": null,
      "outputs": []
    },
    {
      "cell_type": "code",
      "source": [
        "f(0)"
      ],
      "metadata": {
        "colab": {
          "base_uri": "https://localhost:8080/"
        },
        "id": "rbD5JPRfRUqg",
        "outputId": "2984ab3b-2d3b-4ed0-8e8b-955e5e94b557"
      },
      "execution_count": null,
      "outputs": [
        {
          "output_type": "execute_result",
          "data": {
            "text/plain": [
              "42"
            ]
          },
          "metadata": {},
          "execution_count": 50
        }
      ]
    },
    {
      "cell_type": "code",
      "source": [
        "f(1)"
      ],
      "metadata": {
        "colab": {
          "base_uri": "https://localhost:8080/"
        },
        "id": "e8BM-b1XRWcA",
        "outputId": "91ff60d6-cf43-4dd3-bfd1-b28900346cc5"
      },
      "execution_count": null,
      "outputs": [
        {
          "output_type": "execute_result",
          "data": {
            "text/plain": [
              "43"
            ]
          },
          "metadata": {},
          "execution_count": 51
        }
      ]
    },
    {
      "cell_type": "code",
      "source": [
        "f(4)"
      ],
      "metadata": {
        "colab": {
          "base_uri": "https://localhost:8080/"
        },
        "id": "0DFjmn5pRhYf",
        "outputId": "d1708922-86ac-4805-ea77-680b6370775a"
      },
      "execution_count": null,
      "outputs": [
        {
          "output_type": "execute_result",
          "data": {
            "text/plain": [
              "46"
            ]
          },
          "metadata": {},
          "execution_count": 52
        }
      ]
    },
    {
      "cell_type": "code",
      "metadata": {
        "id": "YFg8BO4g8Fu3",
        "colab": {
          "base_uri": "https://localhost:8080/"
        },
        "outputId": "7ba6c9ad-39af-4fbc-c6f3-dac816ccb0cd"
      },
      "source": [
        "my_set = {(x, x+1) for x in range(3)}\n",
        "print(my_set)"
      ],
      "execution_count": null,
      "outputs": [
        {
          "output_type": "stream",
          "name": "stdout",
          "text": [
            "{(0, 1), (1, 2), (2, 3)}\n"
          ]
        }
      ]
    },
    {
      "cell_type": "code",
      "source": [],
      "metadata": {
        "id": "PfiXo0LPWthd"
      },
      "execution_count": null,
      "outputs": []
    },
    {
      "cell_type": "markdown",
      "source": [
        "#Check whether a number is a prime or not"
      ],
      "metadata": {
        "id": "XEfBeQioGePd"
      }
    },
    {
      "cell_type": "code",
      "source": [
        "def prime_or_not(num):\n",
        "  if num > 1:\n",
        "    for i in range(2, num):\n",
        "      if (num % i) == 0:\n",
        "        print(num, \"is not a prime number\")\n",
        "        break\n",
        "    else:\n",
        "      print(num, \"is a prime number\")"
      ],
      "metadata": {
        "id": "-e-Kti4PnzQ3"
      },
      "execution_count": null,
      "outputs": []
    },
    {
      "cell_type": "code",
      "source": [
        "prime_or_not(2)"
      ],
      "metadata": {
        "colab": {
          "base_uri": "https://localhost:8080/"
        },
        "id": "bq1eCrHooACT",
        "outputId": "3e49aed6-fa8c-427c-9bab-92eb8dfa061d"
      },
      "execution_count": null,
      "outputs": [
        {
          "output_type": "stream",
          "name": "stdout",
          "text": [
            "2 is a prime number\n"
          ]
        }
      ]
    },
    {
      "cell_type": "code",
      "source": [
        "prime_or_not(6)"
      ],
      "metadata": {
        "colab": {
          "base_uri": "https://localhost:8080/"
        },
        "id": "vdaxq_eqpxw8",
        "outputId": "5c89762d-49d8-46a4-9568-455240107be0"
      },
      "execution_count": null,
      "outputs": [
        {
          "output_type": "stream",
          "name": "stdout",
          "text": [
            "6 is not a prime number\n"
          ]
        }
      ]
    },
    {
      "cell_type": "markdown",
      "source": [
        "#Write a function to check if a string is a palindrome or not"
      ],
      "metadata": {
        "id": "9zLk87yXp6rc"
      }
    },
    {
      "cell_type": "code",
      "source": [
        "def check_palindrome_or_not(string):\n",
        "  string=string.lower()\n",
        "  if string==string[::-1]:\n",
        "    return \"palindrome\"\n",
        "  else:\n",
        "    return \"not a palindrome\""
      ],
      "metadata": {
        "id": "wrrMNOFopz18"
      },
      "execution_count": null,
      "outputs": []
    },
    {
      "cell_type": "code",
      "source": [
        "check_palindrome_or_not(\"Madam\")"
      ],
      "metadata": {
        "colab": {
          "base_uri": "https://localhost:8080/",
          "height": 36
        },
        "id": "D7FIsYT6sWJW",
        "outputId": "9cfe55ab-4eaf-4f35-96cf-e9f719b6ddd6"
      },
      "execution_count": null,
      "outputs": [
        {
          "output_type": "execute_result",
          "data": {
            "text/plain": [
              "'palindrome'"
            ],
            "application/vnd.google.colaboratory.intrinsic+json": {
              "type": "string"
            }
          },
          "metadata": {},
          "execution_count": 62
        }
      ]
    },
    {
      "cell_type": "markdown",
      "source": [
        "#Write a function to generate fibinocci series upto n terms"
      ],
      "metadata": {
        "id": "Hc1WY0mFrjTC"
      }
    },
    {
      "cell_type": "code",
      "source": [
        "def fibinocci(num):\n",
        "  a,b=0,1\n",
        "  print(a,end=\", \")\n",
        "  print(b,end=\", \")\n",
        "  for i in range(2,num):\n",
        "    c=a+b\n",
        "    a=b\n",
        "    b=c #a,b=b,a+b\n",
        "    print(c,end=\", \")\n"
      ],
      "metadata": {
        "id": "lqJZoZZlxMWK"
      },
      "execution_count": null,
      "outputs": []
    },
    {
      "cell_type": "code",
      "source": [
        "fibinocci(6)"
      ],
      "metadata": {
        "colab": {
          "base_uri": "https://localhost:8080/"
        },
        "id": "5K4Kx46AxXEQ",
        "outputId": "646d4642-e425-47f0-90b2-e8d81f5011f5"
      },
      "execution_count": null,
      "outputs": [
        {
          "output_type": "stream",
          "name": "stdout",
          "text": [
            "0, 1, 1, 2, 3, 5, "
          ]
        }
      ]
    },
    {
      "cell_type": "markdown",
      "source": [
        "#Write a function to check whether 2 words are anagrams or not"
      ],
      "metadata": {
        "id": "RJ0xuDzP3JAl"
      }
    },
    {
      "cell_type": "code",
      "source": [
        "def anagram(str1,str2):\n",
        "  return sorted(str1.lower())==sorted(str2.lower())"
      ],
      "metadata": {
        "id": "uaJw7qIVxZPB"
      },
      "execution_count": null,
      "outputs": []
    },
    {
      "cell_type": "code",
      "source": [
        "anagram(\"silent\",\"listen\")"
      ],
      "metadata": {
        "colab": {
          "base_uri": "https://localhost:8080/"
        },
        "id": "HJWHKyt85YkZ",
        "outputId": "1e7ddd8d-1a76-49f6-b861-7e0e5add9cbf"
      },
      "execution_count": null,
      "outputs": [
        {
          "output_type": "execute_result",
          "data": {
            "text/plain": [
              "True"
            ]
          },
          "metadata": {},
          "execution_count": 78
        }
      ]
    },
    {
      "cell_type": "code",
      "source": [
        "def anagram2 (str1,str2):\n",
        "\n",
        "  if sorted(str1.lower())==sorted(str2.lower()):\n",
        "    print(str1,\"and\",str2,\"are anagrams\")\n",
        "  else:\n",
        "    print(str1,\"and\",str2,\"are not anagrams\")"
      ],
      "metadata": {
        "id": "wfB5pmgC5cwj"
      },
      "execution_count": null,
      "outputs": []
    },
    {
      "cell_type": "code",
      "source": [
        "anagram2(\"silent\",\"listen\")"
      ],
      "metadata": {
        "colab": {
          "base_uri": "https://localhost:8080/"
        },
        "id": "hBrOeTFL5wQ2",
        "outputId": "0c8c46db-c76e-427b-f371-4085c6252259"
      },
      "execution_count": null,
      "outputs": [
        {
          "output_type": "stream",
          "name": "stdout",
          "text": [
            "silent and listen are anagrams\n"
          ]
        }
      ]
    },
    {
      "cell_type": "markdown",
      "source": [
        "#Default Arguments"
      ],
      "metadata": {
        "id": "bhCd52xn9Ki7"
      }
    },
    {
      "cell_type": "code",
      "source": [
        "def calculate_total(amount,discount=15):\n",
        "  discount_amt =discount/100 *amount\n",
        "  return amount-discount_amt"
      ],
      "metadata": {
        "id": "spruacC851LP"
      },
      "execution_count": null,
      "outputs": []
    },
    {
      "cell_type": "code",
      "source": [
        "calculate_total(15)"
      ],
      "metadata": {
        "colab": {
          "base_uri": "https://localhost:8080/"
        },
        "id": "d3QAS3qC7Mc-",
        "outputId": "c64a1540-6c5e-46b7-bcc5-372c9884c0a1"
      },
      "execution_count": null,
      "outputs": [
        {
          "output_type": "execute_result",
          "data": {
            "text/plain": [
              "12.75"
            ]
          },
          "metadata": {},
          "execution_count": 84
        }
      ]
    },
    {
      "cell_type": "code",
      "source": [
        "def add(a,b=5):\n",
        "  return a+b"
      ],
      "metadata": {
        "id": "P5f-pQPj7OUX"
      },
      "execution_count": null,
      "outputs": []
    },
    {
      "cell_type": "code",
      "source": [
        "add(5,5)"
      ],
      "metadata": {
        "colab": {
          "base_uri": "https://localhost:8080/"
        },
        "id": "xECmbN817rl3",
        "outputId": "535f7bf7-a2ac-48b1-e6d6-391e54591db1"
      },
      "execution_count": null,
      "outputs": [
        {
          "output_type": "execute_result",
          "data": {
            "text/plain": [
              "10"
            ]
          },
          "metadata": {},
          "execution_count": 90
        }
      ]
    },
    {
      "cell_type": "code",
      "source": [
        "def add3 (a,b=5,c=2):\n",
        "  return a+b+c"
      ],
      "metadata": {
        "id": "jniIYJOL7so7"
      },
      "execution_count": null,
      "outputs": []
    },
    {
      "cell_type": "code",
      "source": [
        "add3(2)"
      ],
      "metadata": {
        "colab": {
          "base_uri": "https://localhost:8080/"
        },
        "id": "iKv-2ydk8Qyg",
        "outputId": "ff9a6fcb-a097-45e3-e028-0234e1c3c402"
      },
      "execution_count": null,
      "outputs": [
        {
          "output_type": "execute_result",
          "data": {
            "text/plain": [
              "9"
            ]
          },
          "metadata": {},
          "execution_count": 92
        }
      ]
    },
    {
      "cell_type": "code",
      "source": [
        "add3(1,2,3)"
      ],
      "metadata": {
        "colab": {
          "base_uri": "https://localhost:8080/"
        },
        "id": "f0S_kzgM8R5s",
        "outputId": "336f2374-1f00-47f0-d378-91ce2f582052"
      },
      "execution_count": null,
      "outputs": [
        {
          "output_type": "execute_result",
          "data": {
            "text/plain": [
              "6"
            ]
          },
          "metadata": {},
          "execution_count": 93
        }
      ]
    },
    {
      "cell_type": "markdown",
      "source": [
        "#Variable Number of Arguments\n",
        "If the number of input is changing from time to time:"
      ],
      "metadata": {
        "id": "kNIb_WWS-ld-"
      }
    },
    {
      "cell_type": "code",
      "source": [
        "def add(*a):\n",
        "  b=0\n",
        "  for ele in a:\n",
        "    b=b+ele\n",
        "  return b"
      ],
      "metadata": {
        "id": "bAUOnL7d8xUg"
      },
      "execution_count": null,
      "outputs": []
    },
    {
      "cell_type": "code",
      "source": [
        "add(1,2,3,4,5,6)"
      ],
      "metadata": {
        "colab": {
          "base_uri": "https://localhost:8080/"
        },
        "id": "Vnv_-fyT-9b1",
        "outputId": "039bf15e-2efe-4aab-a7cf-64d99f19ca52"
      },
      "execution_count": null,
      "outputs": [
        {
          "output_type": "execute_result",
          "data": {
            "text/plain": [
              "21"
            ]
          },
          "metadata": {},
          "execution_count": 97
        }
      ]
    },
    {
      "cell_type": "code",
      "source": [
        "add(1,5)"
      ],
      "metadata": {
        "colab": {
          "base_uri": "https://localhost:8080/"
        },
        "id": "xIPheAJk-_Rp",
        "outputId": "5536393e-9b0a-4ee2-825d-ee4131e2b2d0"
      },
      "execution_count": null,
      "outputs": [
        {
          "output_type": "execute_result",
          "data": {
            "text/plain": [
              "6"
            ]
          },
          "metadata": {},
          "execution_count": 98
        }
      ]
    },
    {
      "cell_type": "markdown",
      "source": [
        "#WAP program to print the largest number from a series of numbers (the count of numbers will change) w/o using max function"
      ],
      "metadata": {
        "id": "4r2aSiUv_jYb"
      }
    },
    {
      "cell_type": "code",
      "source": [
        "def my_max(a,*b):\n",
        "  maximum=a\n",
        "  for ele in b:\n",
        "    if ele>maximum:\n",
        "      maximum=ele\n",
        "  return maximum"
      ],
      "metadata": {
        "id": "6iyIAgrh_DyT"
      },
      "execution_count": null,
      "outputs": []
    },
    {
      "cell_type": "code",
      "source": [
        "my_max(1,5,6,89,7,5)"
      ],
      "metadata": {
        "colab": {
          "base_uri": "https://localhost:8080/"
        },
        "id": "rj7OqU4NB_3e",
        "outputId": "c839cb3d-ff43-4b6b-c8ff-740613215a9a"
      },
      "execution_count": null,
      "outputs": [
        {
          "output_type": "execute_result",
          "data": {
            "text/plain": [
              "89"
            ]
          },
          "metadata": {},
          "execution_count": 100
        }
      ]
    },
    {
      "cell_type": "markdown",
      "source": [
        "#Functions as Objects:\n",
        "\n",
        "* Although functions are created differently from normal variables, functions are just like any other kind of value\n",
        "\n",
        "* They can assigned and reassigned to variables, and later refernced by those names"
      ],
      "metadata": {
        "id": "L0ynJ-cqBh1o"
      }
    },
    {
      "cell_type": "code",
      "source": [
        "def my_max(a,*b):\n",
        "  maximum=a\n",
        "  for ele in b:\n",
        "    if ele>maximum:\n",
        "      maximum=ele\n",
        "  return maximum"
      ],
      "metadata": {
        "id": "gTPQl802EPBa"
      },
      "execution_count": null,
      "outputs": []
    },
    {
      "cell_type": "code",
      "source": [
        "max_numbers=my_max"
      ],
      "metadata": {
        "id": "Y3vKAFMVES0w"
      },
      "execution_count": null,
      "outputs": []
    },
    {
      "cell_type": "code",
      "source": [
        "max_numbers(1,4,8,9,5,52)"
      ],
      "metadata": {
        "colab": {
          "base_uri": "https://localhost:8080/"
        },
        "id": "SrAbVKvnEbpB",
        "outputId": "1856792e-3258-47d0-b5ef-0ccc75ff5d86"
      },
      "execution_count": null,
      "outputs": [
        {
          "output_type": "execute_result",
          "data": {
            "text/plain": [
              "52"
            ]
          },
          "metadata": {},
          "execution_count": 103
        }
      ]
    }
  ]
}